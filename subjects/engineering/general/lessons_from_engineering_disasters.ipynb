{
  "nbformat": 4,
  "nbformat_minor": 0,
  "metadata": {
    "colab": {
      "name": "engineering_disasters.ipynb",
      "provenance": [],
      "collapsed_sections": [],
      "toc_visible": true,
      "authorship_tag": "ABX9TyOybIj8oV+5v4Gpz3FMc9QJ",
      "include_colab_link": true
    },
    "kernelspec": {
      "name": "python3",
      "display_name": "Python 3"
    }
  },
  "cells": [
    {
      "cell_type": "markdown",
      "metadata": {
        "id": "view-in-github",
        "colab_type": "text"
      },
      "source": [
        "<a href=\"https://colab.research.google.com/github/michalszczecinski/data-driven-notebooks/blob/master/engineering/engineering_disasters.ipynb\" target=\"_parent\"><img src=\"https://colab.research.google.com/assets/colab-badge.svg\" alt=\"Open In Colab\"/></a>"
      ]
    },
    {
      "cell_type": "code",
      "metadata": {
        "id": "ceXSXHjHhOHq"
      },
      "source": [
        "#imports\n",
        "\n",
        "import sys\n",
        "import os\n",
        "import platform\n",
        "import random\n",
        "import itertools\n",
        "import math\n",
        "import datetime\n",
        "\n",
        "import numpy as np\n",
        "import pandas as pd\n",
        "\n",
        "# plotting\n",
        "import matplotlib.pyplot as plt\n",
        "import seaborn as sns\n",
        "\n",
        "# reading google sheets files\n",
        "import gspread\n",
        "from oauth2client.client import GoogleCredentials\n",
        "\n",
        "from collections import OrderedDict\n",
        "\n",
        "# print versions\n",
        "print (f\"system: {sys.version}\")\n",
        "print (f\"pandas: {pd.__version__}\")\n",
        "print (f\"numpy: {np.__version__}\")"
      ],
      "execution_count": null,
      "outputs": []
    },
    {
      "cell_type": "code",
      "metadata": {
        "id": "p-jxhSMJqNd_"
      },
      "source": [
        "# # authentication\n",
        "# from google.colab import auth\n",
        "# auth.authenticate_user()"
      ],
      "execution_count": 5,
      "outputs": []
    },
    {
      "cell_type": "code",
      "metadata": {
        "id": "iwUKfs6C-aSp"
      },
      "source": [
        "# dislay settings \n",
        "sns.set(context='notebook', style=\"whitegrid\", rc={\"figure.figsize\": (20, 10)})\n",
        "pd.set_option(\"display.float_format\", '{:.3f}'.format)\n",
        "pd.set_option(\"display.max_rows\", 120)\n",
        "pd.set_option(\"display.max_columns\", 120)\n",
        "pd.set_option(\"max_colwidth\", 200)"
      ],
      "execution_count": 6,
      "outputs": []
    },
    {
      "cell_type": "markdown",
      "metadata": {
        "id": "dfAfefKQ0OuJ"
      },
      "source": [
        "## Helper functions"
      ]
    },
    {
      "cell_type": "code",
      "metadata": {
        "id": "naghJ87lYIAU"
      },
      "source": [
        "def generate_header(author='unknown', title='unknown', description ='unknown', prepared_for='unknown', tags=''):\n",
        "    \"\"\"\n",
        "    desc: generates standard header with meta information describing report\n",
        "    input: author, title, description, prepared_for, tags\n",
        "    output: rendering formatted dataframe with report details\n",
        "    \"\"\"\n",
        "    meta_dict = OrderedDict()\n",
        "\n",
        "    # properties to fill\n",
        "    meta_dict['author'] = author\n",
        "    meta_dict['title'] = title\n",
        "    meta_dict['description'] = description\n",
        "    meta_dict['prepared_for'] = prepared_for\n",
        "    meta_dict['tags'] = str(tags)\n",
        "\n",
        "    # auto generated\n",
        "    runtime = datetime.datetime\n",
        "    meta_dict['runtime'] = runtime.now().strftime(\"%Y-%m-%d %H:%M:%S\")\n",
        "    path = os.getcwd()\n",
        "    meta_dict['path'] = path\n",
        "    python_version = platform.python_version()\n",
        "    meta_dict['python_version'] = python_version\n",
        "    meta_dict['pandas_version'] = pd.__version__\n",
        "\n",
        "    df_meta= pd.DataFrame(meta_dict, index=['meta_information']).T\n",
        "    return df_meta"
      ],
      "execution_count": 7,
      "outputs": []
    },
    {
      "cell_type": "markdown",
      "metadata": {
        "id": "PgmUBrOx1tPp"
      },
      "source": [
        ""
      ]
    },
    {
      "cell_type": "code",
      "metadata": {
        "colab": {
          "base_uri": "https://localhost:8080/",
          "height": 332
        },
        "id": "2grgNY3TYrgO",
        "outputId": "ed566f54-93d4-4bad-a3d3-144349531cdb"
      },
      "source": [
        "# setting up header info\n",
        "author = 'Michal Szczecinski'\n",
        "prepared_for ='Remembering and learning from the history.'\n",
        "title = 'Engineering Catastrophes.'\n",
        "description = ''\n",
        "tags = ['#engineering', '#catastrophes']\n",
        "generate_header(author=author, title=title, description=description, prepared_for=prepared_for, tags=tags)"
      ],
      "execution_count": 8,
      "outputs": [
        {
          "output_type": "execute_result",
          "data": {
            "text/html": [
              "<div>\n",
              "<style scoped>\n",
              "    .dataframe tbody tr th:only-of-type {\n",
              "        vertical-align: middle;\n",
              "    }\n",
              "\n",
              "    .dataframe tbody tr th {\n",
              "        vertical-align: top;\n",
              "    }\n",
              "\n",
              "    .dataframe thead th {\n",
              "        text-align: right;\n",
              "    }\n",
              "</style>\n",
              "<table border=\"1\" class=\"dataframe\">\n",
              "  <thead>\n",
              "    <tr style=\"text-align: right;\">\n",
              "      <th></th>\n",
              "      <th>meta_information</th>\n",
              "    </tr>\n",
              "  </thead>\n",
              "  <tbody>\n",
              "    <tr>\n",
              "      <th>author</th>\n",
              "      <td>Michal Szczecinski</td>\n",
              "    </tr>\n",
              "    <tr>\n",
              "      <th>title</th>\n",
              "      <td>Engineering Catastrophes.</td>\n",
              "    </tr>\n",
              "    <tr>\n",
              "      <th>description</th>\n",
              "      <td></td>\n",
              "    </tr>\n",
              "    <tr>\n",
              "      <th>prepared_for</th>\n",
              "      <td>Remembering and learning from the history.</td>\n",
              "    </tr>\n",
              "    <tr>\n",
              "      <th>tags</th>\n",
              "      <td>['#engineering', '#catastrophes']</td>\n",
              "    </tr>\n",
              "    <tr>\n",
              "      <th>runtime</th>\n",
              "      <td>2021-10-18 13:36:12</td>\n",
              "    </tr>\n",
              "    <tr>\n",
              "      <th>path</th>\n",
              "      <td>/content</td>\n",
              "    </tr>\n",
              "    <tr>\n",
              "      <th>python_version</th>\n",
              "      <td>3.7.12</td>\n",
              "    </tr>\n",
              "    <tr>\n",
              "      <th>pandas_version</th>\n",
              "      <td>1.1.5</td>\n",
              "    </tr>\n",
              "  </tbody>\n",
              "</table>\n",
              "</div>"
            ],
            "text/plain": [
              "                                          meta_information\n",
              "author                                  Michal Szczecinski\n",
              "title                            Engineering Catastrophes.\n",
              "description                                               \n",
              "prepared_for    Remembering and learning from the history.\n",
              "tags                     ['#engineering', '#catastrophes']\n",
              "runtime                                2021-10-18 13:36:12\n",
              "path                                              /content\n",
              "python_version                                      3.7.12\n",
              "pandas_version                                       1.1.5"
            ]
          },
          "metadata": {},
          "execution_count": 8
        }
      ]
    },
    {
      "cell_type": "markdown",
      "metadata": {
        "id": "88ohz-MEQQpN"
      },
      "source": [
        "# Engineering Catastrophes"
      ]
    },
    {
      "cell_type": "markdown",
      "metadata": {
        "id": "FoZw_KntRt2L"
      },
      "source": [
        "## Disclaimer\n",
        "\n",
        "* Opinions and ideas in this notebook are my own and the content is for my personal learning."
      ]
    },
    {
      "cell_type": "markdown",
      "metadata": {
        "id": "4i-L-SpJR6yI"
      },
      "source": [
        "## Context"
      ]
    },
    {
      "cell_type": "markdown",
      "metadata": {
        "id": "wzdS1mAxS7SB"
      },
      "source": [
        "## Challenger Shuttle (January 28, 1986)"
      ]
    },
    {
      "cell_type": "markdown",
      "metadata": {
        "id": "ZgHzYWczTK0O"
      },
      "source": [
        "### Reasons\n",
        "\n",
        "- outside temperature\n",
        "- problems with O-rings becoming brittle in low temperatures\n",
        "- engineers have warned about this problem\n",
        "- \"take off your engineering hat and put your management hat\"\n",
        "- nasa is under extreme pressure to keep tight schedule of launches due to promise they made in order to take the funding for shuttle program from Air Force (by promising to make payload avilable and help launch spy satelites on a rapid schedule and under any conditions)\n",
        "- lawrence mulloy - \"well then tiokol when the hell do you want me launch, next april?\"\n",
        "- engineers would be put in th position to prove that it would fail instead of prooving that it is safe\n",
        " "
      ]
    },
    {
      "cell_type": "markdown",
      "metadata": {
        "id": "m5XiR9t1zwOq"
      },
      "source": [
        "### Subsection"
      ]
    },
    {
      "cell_type": "markdown",
      "metadata": {
        "id": "J0cNgA4_zw4y"
      },
      "source": [
        "### Subsection"
      ]
    },
    {
      "cell_type": "markdown",
      "metadata": {
        "id": "pHKoemQxVITB"
      },
      "source": [
        "## Chernobyl disaster (Saturday 26 April 1986)"
      ]
    },
    {
      "cell_type": "markdown",
      "metadata": {
        "id": "kXgIfAYJz3O4"
      },
      "source": [
        "### Subsection"
      ]
    },
    {
      "cell_type": "markdown",
      "metadata": {
        "id": "4tSG5JMxz3e5"
      },
      "source": [
        "### Subsection"
      ]
    },
    {
      "cell_type": "markdown",
      "metadata": {
        "id": "lT503PDiz3mU"
      },
      "source": [
        "### Subsection"
      ]
    },
    {
      "cell_type": "markdown",
      "metadata": {
        "id": "UWg3I9SLXx-2"
      },
      "source": [
        "## Section III"
      ]
    },
    {
      "cell_type": "markdown",
      "metadata": {
        "id": "rV9w4WWKz9ve"
      },
      "source": [
        "### Subsection"
      ]
    },
    {
      "cell_type": "markdown",
      "metadata": {
        "id": "5fZqD3Q3z91u"
      },
      "source": [
        "### Subsection"
      ]
    },
    {
      "cell_type": "markdown",
      "metadata": {
        "id": "2zNeNS6cz97j"
      },
      "source": [
        "### Subsection"
      ]
    },
    {
      "cell_type": "markdown",
      "metadata": {
        "id": "jOZC78lbj8n0"
      },
      "source": [
        "## References\n",
        "\n",
        "\n",
        "[Space Shuttle Challenger Disaster: Ethics Case Study No. 1](https://www.youtube.com/watch?v=QbtY_Wl-hYI)"
      ]
    }
  ]
}