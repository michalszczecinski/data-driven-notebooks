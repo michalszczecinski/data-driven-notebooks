{
  "cells": [
    {
      "attachments": {},
      "cell_type": "markdown",
      "metadata": {
        "colab_type": "text",
        "id": "view-in-github"
      },
      "source": [
        "<a href=\"https://colab.research.google.com/github/michalszczecinski/data-driven-notebooks/blob/master/dev/templates/knowledge_notebook_minimal_template.ipynb\" target=\"_parent\"><img src=\"https://colab.research.google.com/assets/colab-badge.svg\" alt=\"Open In Colab\"/></a>"
      ]
    },
    {
      "attachments": {},
      "cell_type": "markdown",
      "metadata": {},
      "source": [
        "# Creating product (end-to-end overview)"
      ]
    },
    {
      "cell_type": "code",
      "execution_count": 12,
      "metadata": {
        "id": "Fk26VnKe4Odq"
      },
      "outputs": [],
      "source": [
        "# imports\n",
        "import pandas as pd\n",
        "import math\n",
        "import unittest\n",
        "from IPython.display import Image, display,  HTML"
      ]
    },
    {
      "cell_type": "markdown",
      "metadata": {},
      "source": [
        "Creating and manufacturing a product from scratch involves a comprehensive process that includes various stages. Here's a general list of things that need to be done:\n",
        "\n",
        "1. **Idea Generation and Conceptualization:**\n",
        "   - Identify a problem or need in the market.\n",
        "   - Brainstorm and generate product ideas.\n",
        "   - Evaluate the feasibility and potential of each idea.\n",
        "\n",
        "2. **Market Research and Validation:**\n",
        "   - Conduct market research to understand target audience and competition.\n",
        "   - Validate the demand for the product idea.\n",
        "   - Refine the product concept based on research insights.\n",
        "\n",
        "3. **Concept Design and Prototyping:**\n",
        "   - Create initial sketches, drawings, or digital mock-ups.\n",
        "   - Develop a prototype to visualize the product's form and function.\n",
        "   - Iterate on the prototype to refine design and features.\n",
        "\n",
        "4. **Technical Design and Engineering:**\n",
        "   - Create detailed technical drawings and specifications.\n",
        "   - Perform engineering analysis, including stress tests and simulations.\n",
        "   - Finalize the design for manufacturing and assembly (DFMA).\n",
        "\n",
        "5. **Material Selection and Sourcing:**\n",
        "   - Choose appropriate materials for each component.\n",
        "   - Source suppliers and establish material supply chains.\n",
        "\n",
        "6. **Manufacturing Process Selection:**\n",
        "   - Determine the manufacturing processes required (e.g., injection molding, CNC machining, 3D printing).\n",
        "   - Optimize processes for efficiency and quality.\n",
        "\n",
        "7. **Tooling and Production Setup:**\n",
        "   - Develop molds, dies, and tooling required for production.\n",
        "   - Set up production facilities and assembly lines.\n",
        "\n",
        "8. **Prototype Testing and Iteration:**\n",
        "   - Test prototypes for functionality, durability, and safety.\n",
        "   - Gather feedback and make necessary design adjustments.\n",
        "\n",
        "9. **Regulatory Compliance and Certifications:**\n",
        "   - Ensure the product meets relevant industry standards and regulations.\n",
        "   - Obtain necessary certifications (e.g., safety, environmental).\n",
        "\n",
        "10. **Software and Electronics Integration:**\n",
        "    - Develop and integrate software components if applicable (firmware, user interfaces).\n",
        "    - Design and integrate electronic components for smart devices.\n",
        "\n",
        "11. **PCB Design and Fabrication:**\n",
        "    - Design the printed circuit board (PCB) layout.\n",
        "    - Manufacture PCBs and assemble electronic components.\n",
        "\n",
        "12. **Packaging Design:**\n",
        "    - Design product packaging for protection, branding, and presentation.\n",
        "\n",
        "13. **User Experience (UX) and User Interface (UI) Design:**\n",
        "    - Design the product's user interface and overall user experience.\n",
        "    - Ensure the product is intuitive and user-friendly.\n",
        "\n",
        "14. **Documentation and Manuals:**\n",
        "    - Create user manuals, assembly instructions, and troubleshooting guides.\n",
        "\n",
        "15. **Production and Quality Control:**\n",
        "    - Begin mass production of components and assemblies.\n",
        "    - Implement quality control processes to ensure consistency and reliability.\n",
        "\n",
        "16. **Assembly and Testing:**\n",
        "    - Assemble the product using standardized processes.\n",
        "    - Conduct thorough testing and quality assurance checks.\n",
        "\n",
        "17. **Packaging and Distribution:**\n",
        "    - Package finished products for shipping and retail.\n",
        "    - Establish distribution channels and logistics.\n",
        "\n",
        "18. **Marketing and Launch:**\n",
        "    - Develop a marketing strategy and promotional materials.\n",
        "    - Launch the product with a marketing campaign.\n",
        "\n",
        "19. **Customer Support and Feedback:**\n",
        "    - Provide customer support channels for inquiries and issues.\n",
        "    - Gather feedback from customers for continuous improvement.\n",
        "\n",
        "20. **Post-Launch Monitoring and Updates:**\n",
        "    - Monitor product performance and gather usage data.\n",
        "    - Provide updates, improvements, and bug fixes as needed.\n",
        "\n",
        "Remember that the specific steps and order may vary depending on the type of product, industry, and complexity. It's crucial to maintain flexibility and adaptability throughout the process."
      ]
    },
    {
      "cell_type": "markdown",
      "metadata": {},
      "source": [
        "## Design - definition\n",
        "\n",
        "\"Design is to create something that has never been.\"\n",
        "\n",
        "\" To design is to pull together something new or to arrange existing things in a new way to satisfy a recognized need of society.\"\n",
        "\n",
        "“Design establishes and defines  solutions  to  and  pertinent  structures  for  problems  not  solved  before,  or new  solutions  to  problems  which  have  previously  been  solved  in  a  different way.”\n",
        "\n"
      ]
    },
    {
      "cell_type": "markdown",
      "metadata": {},
      "source": [
        "### Notes\n",
        "\n",
        "1. Another term for product is device, something devised or constructed for a particular purpose, such as a machine. Another term for a product is artifact, a man-made object.\n",
        "1. Design should not be confused with discovery. Discovery is getting the first sight of, or the first knowledge of something, as when Sir Isaac Newton discovered the concept of gravity. We can discover what has already existed but has not been known before, but a design is the product of planning and work.\n",
        "1. Design may or may not involve invention. To obtain a legal patent on an invention requires that the design be a step beyond the limits of the existing knowledge (beyond the state of the art). Some designs are truly inventive, but most are not."
      ]
    },
    {
      "attachments": {},
      "cell_type": "markdown",
      "metadata": {},
      "source": [
        "###  Design Method vs Scientific Method"
      ]
    },
    {
      "cell_type": "markdown",
      "metadata": {},
      "source": [
        "<center><img src=\"design_method_scientific_method.png\" \n",
        "     height=\"400\"\n",
        "     width=\"400\"\n",
        "     /></center>"
      ]
    },
    {
      "cell_type": "markdown",
      "metadata": {},
      "source": [
        "#### Scientific method\n",
        "* Scientific method, a logical progression of events that leads to the solution of scientific problems. \n",
        "* Percy Hill has diagramed the comparison between the scientific method and the design method.\n",
        "* The scientific method starts with a body of existing knowledge based on observed natural phenomena. Scientists have curiosity that causes them to question these laws of science; and as a result of their questioning, they eventually formulate a hypothesis. The hypothesis is subjected to logical analysis that either confirms or denies it. Often the analysis reveals flaws or inconsistencies, so the hypothesis must be changed in an iterative process.\n",
        "* Finally, when the new idea is confirmed to the satisfaction of its originator, it must be accepted as proof by fellow scientists. Once accepted, it is communicated to the community of scientists and it enlarges the body of existing knowledge. The knowledge loop is completed.\n",
        "\n",
        "#### Design method\n",
        "* The design method is very similar to the scientific method if we allow for differences in viewpoint and philosophy. \n",
        "* The design method starts with knowledge of the state of the art. That includes scientific knowledge, but it also includes devices, components, materials, manufacturing methods, and market and economic conditions. \n",
        "* Rather than scientific curiosity, it is really the needs of society (usually expressed through economic factors) that provide the impetus. When a need is identified, it must be conceptualized as some kind of model. The purpose of the model is to help us predict the behavior of a design once it is converted to physical form. \n",
        "* The outcomes of the model, whether it is a mathematical or a physical model, must be subjected to a feasibility analysis, almost always with iteration, until an acceptable product is produced or the project is abandoned. \n",
        "* When the design enters the production phase, it begins to compete in the world of technology.\n",
        "* The design loop is closed when the product is accepted as part of the current technology and thereby advances the state of the art of the particular area of technology."
      ]
    },
    {
      "cell_type": "markdown",
      "metadata": {},
      "source": [
        "## Engineering Design Process"
      ]
    },
    {
      "cell_type": "markdown",
      "metadata": {},
      "source": [
        "<center><img src=\"engineering_design_process.png\" \n",
        "     height=\"500\"\n",
        "     width=\"800\"\n",
        "     /></center>"
      ]
    },
    {
      "cell_type": "markdown",
      "metadata": {},
      "source": [
        "### Considerations of a good design\n",
        "Design is a multifaceted process. To gain a broader understanding of engineering design, we group various considerations of good design into three categories:\n",
        "1. Achievement of performance requirements\n",
        "2. Life-cycle issues\n",
        "3. Social and regulatory issues"
      ]
    },
    {
      "cell_type": "markdown",
      "metadata": {},
      "source": [
        "## Product-development process"
      ]
    },
    {
      "cell_type": "markdown",
      "metadata": {},
      "source": [
        "<center><img src=\"product_development.png\" \n",
        "     height=\"150\"\n",
        "     width=\"800\"\n",
        "     /></center>"
      ]
    },
    {
      "cell_type": "markdown",
      "metadata": {},
      "source": [
        "There are four key factors that determine the success of a product in the marketplace:\n",
        "1. The quality, performance, and price of the product\n",
        "2. The cost of the product over its life cycle\n",
        "3. The cost of product development\n",
        "4. The time needed to bring the product to the market"
      ]
    },
    {
      "cell_type": "markdown",
      "metadata": {},
      "source": [
        "## Problem definition"
      ]
    },
    {
      "cell_type": "markdown",
      "metadata": {},
      "source": [
        "### Example: Work Breakdown Structure for the Development of a Small Appliance"
      ]
    },
    {
      "cell_type": "markdown",
      "metadata": {},
      "source": [
        "<center><img src=\"example_development_appliance.png\" \n",
        "     /></center>"
      ]
    },
    {
      "cell_type": "markdown",
      "metadata": {},
      "source": [
        "### Dimensions of Quality"
      ]
    },
    {
      "cell_type": "markdown",
      "metadata": {},
      "source": [
        "<center><img src=\"dimensions_quality.png\" \n",
        "     /></center>"
      ]
    },
    {
      "cell_type": "markdown",
      "metadata": {},
      "source": [
        "### Product Design Speciciation (example)"
      ]
    },
    {
      "cell_type": "markdown",
      "metadata": {},
      "source": [
        "<center><img src=\"product_design_specification_example.png\"/></center>"
      ]
    },
    {
      "cell_type": "markdown",
      "metadata": {},
      "source": [
        "## Evaluation of concepts"
      ]
    },
    {
      "cell_type": "markdown",
      "metadata": {},
      "source": [
        "### Weighted decision matrix for a Steel Crane Hook"
      ]
    },
    {
      "cell_type": "markdown",
      "metadata": {},
      "source": [
        "<center><img src=\"evaluation_design_criteria.png\"/></center>"
      ]
    },
    {
      "cell_type": "markdown",
      "metadata": {},
      "source": [
        "## Embodiment design"
      ]
    },
    {
      "cell_type": "markdown",
      "metadata": {},
      "source": [
        "### Process for establishing product architecture\n",
        "Ulrich and Eppinger1 propose a four-step process for establishing product architecture.\n",
        "1. Create a schematic diagram of the product\n",
        "2. Cluster the elements of the schematic\n",
        "3. Create a rough geometric layout\n",
        "4. Identify the interactions between modules"
      ]
    },
    {
      "cell_type": "markdown",
      "metadata": {},
      "source": [
        "### Schematic Diagram with components clustered into modules (example)\n",
        "First we create a schematic diagram, then in next version we cluster the components into modules.\n",
        "\n",
        "* The schematic diagram ensures that the team understands the basic elements of the product needed to produce an operating design. Some of these elements will be actual components that the team recognizes are required for the design, like the ball return trampoline. Other elements will still be in functional form because the team has not yet specified their embodiment, like the trampoline turning mechanism.\n",
        "\n",
        "* One way of deciding on the formation of modules is to start Page 263 with the assumption that each design element will be an independent module and then cluster the elements to realize advantages, or commonalities. Some of the reasons for clustering elements include requiring close geometric relationship or precise location, elements that can share a function or an interface, the desire to outsource part of the design, and the portability of interfaces. For example, digital signals are much more portable and can be distributed more easily than mechanical motions. Clustering is natural for elements that have the same flows through them.\n",
        "\n",
        "* Other issues that could affect clustering include the use of standard parts or modules, the ability to customize the product in the future (make a product‐ family), or the allowance for improved technology in future versions of the product.\n"
      ]
    },
    {
      "cell_type": "markdown",
      "metadata": {},
      "source": [
        "<center><img src=\"schematic_diagram_example.png\" \n",
        "     /></center>"
      ]
    },
    {
      "cell_type": "markdown",
      "metadata": {},
      "source": [
        "### Form\n",
        "\n",
        " Form or configuration of a part develops from its function. However, the possible forms depend strongly on available materials and production methods used to generate the form. Moreover, the possible configurations are dependent on the spatial constraints that define the envelope in which the product operates and the product architecture."
      ]
    },
    {
      "cell_type": "markdown",
      "metadata": {},
      "source": [
        "<center><img src=\"form_function.png\"\n",
        "     /></center>"
      ]
    },
    {
      "cell_type": "markdown",
      "metadata": {},
      "source": [
        "\n",
        "### Drawings\n",
        "Progression of a design configuration from a ough sketch (a) to a 3-D computer model (b) to a detailed\n",
        "three-view engineering drawing (c) Note the increase in detail from (a) to (b) to (c).\n",
        "\n",
        "1. Generally, the best way to get started with configuration design is to just start sketching alternative configurations of a part. The importance of handsketches should not be underestimated. Sketches are an important aid in idea generation and a way for piecing together unconnected ideas into design concepts. \n",
        "1. Later as the sketches become scale drawings they provide a vehicle for providing missing data on dimensions and tolerances, and for simulating the operation of the product (3-D solid modeling).\n",
        "3. Drawings are essential for communicating ideas between design engineers and between designers and manufacturing people, and as a legal document for archiving the geometry and design intent.\n"
      ]
    },
    {
      "cell_type": "markdown",
      "metadata": {},
      "source": [
        "<center><img src=\"drawing_progression.png\"/></center>"
      ]
    },
    {
      "cell_type": "markdown",
      "metadata": {},
      "source": [
        "### Checklist for Configuration Design"
      ]
    },
    {
      "cell_type": "markdown",
      "metadata": {},
      "source": [
        "#### Identify the likely ways the part might fail in service.\n",
        "* Excessive plastic deformation. Size the part so that stresses are below the yield strength.\n",
        "* Fatigue failure. If there are cyclic loads, size the part so that stresses are below the fatigue limit or fatigue strength for the expected number of cycles in service.\n",
        "* Stress concentrations. Use generous fillets and radii so that stress raisers are kept low. This is especially important where service conditions are susceptible to fatigue or brittle failure.\n",
        "* Buckling. If buckling is possible, conFigure the part geometry to prevent buckling.\n",
        "* Shock or impact loads. Be alert to this possibility, and configure the part geometry and select the material to minimize shock loading.\n",
        "\n",
        "#### Identify likely ways that part functionality might be compromised.\n",
        "* Tolerances. Are too many tight tolerances required to make the part work well? Have you checked for tolerance stack-up in assemblies?\n",
        "* Creep. Creep is change of dimensions over time at elevated temperature. Many polymers exhibit creep above 100°C. Is creep a possibility with this part, and if so, has it been considered in the design?\n",
        "* Thermal deformation. Check to determine whether thermal expansion or contraction could interfere with the functioning of a part or assembly.\n",
        "\n",
        "#### Materials and manufacturing issues.\n",
        "* Is the material selected for the part the best one to prevent the likely failure modes in service?\n",
        "* Is there a history of use for the material in this or similar applications?\n",
        "* Can the form and features of the part be readily made on available production machines?\n",
        "* Will material made to standard quality specifications be adequate for this part?\n",
        "* Will the chosen material and manufacturing process meet the cost target for the part?\n",
        "\n",
        "#### Design knowledge base.\n",
        "* Are there aspects of the part design where the designer or design team is working without adequate knowledge? Is the team’s knowledge of forces, flows, temperatures, environment, and materials adequate?\n",
        "* Have you considered every possible unfortunate, unlikely, or unlucky event that could jeopardize the performance of the design? Have you used a formal method like FMEA to check for this?"
      ]
    },
    {
      "cell_type": "markdown",
      "metadata": {},
      "source": [
        "### Typical Design for Function Factors and Other Critical Design Issues"
      ]
    },
    {
      "cell_type": "markdown",
      "metadata": {},
      "source": [
        "<center><img src=\"critical_design_issues.png\"/></center>"
      ]
    },
    {
      "cell_type": "markdown",
      "metadata": {},
      "source": [
        "### Design catalogs\n",
        "\n",
        "Design catalogs are collections of known and proven solutions to design problems. They contain a variety of information useful to design, such as physical principles to achieve a function, solutions of particular machine design problems, standard components, and properties of materials. These are generally different in purpose and scope than the catalogs available from suppliers of components and materials. Design catalogs provide quick, more problem-oriented solutions and data to design problems, and because they aim to be comprehensive, they are excellent places to find a broad range of design suggestions and solutions."
      ]
    },
    {
      "cell_type": "markdown",
      "metadata": {},
      "source": [
        "## References"
      ]
    },
    {
      "attachments": {},
      "cell_type": "markdown",
      "metadata": {},
      "source": [
        "[1] George Dieter, Linda Schmidt, Engineering Design-McGraw-Hill Education, 6th edition\n",
        "\n",
        "[2] (Engineering Design: Additional chapters)[https://highered.mheducation.com/sites/1260113299/student_view0/additional_chapters_and_information.html]"
      ]
    }
  ],
  "metadata": {
    "colab": {
      "authorship_tag": "ABX9TyP5KSH/JihLCLp7jxRBEBMm",
      "include_colab_link": true,
      "provenance": []
    },
    "kernelspec": {
      "display_name": "data-driven-notebooks.venv",
      "language": "python",
      "name": "python3"
    },
    "language_info": {
      "codemirror_mode": {
        "name": "ipython",
        "version": 3
      },
      "file_extension": ".py",
      "mimetype": "text/x-python",
      "name": "python",
      "nbconvert_exporter": "python",
      "pygments_lexer": "ipython3",
      "version": "3.9.13"
    },
    "vscode": {
      "interpreter": {
        "hash": "af1c1da3c38a2c9afd60bbb93df68f8878eaaf1ff1f4b8bd52105baf2dd64e7a"
      }
    }
  },
  "nbformat": 4,
  "nbformat_minor": 0
}
