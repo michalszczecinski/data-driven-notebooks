{
 "cells": [
  {
   "cell_type": "markdown",
   "metadata": {},
   "source": [
    "# Engineering drawing"
   ]
  },
  {
   "cell_type": "markdown",
   "metadata": {},
   "source": [
    "## Projections: first angle projection vs third angle projection \n",
    "\n"
   ]
  },
  {
   "cell_type": "markdown",
   "metadata": {},
   "source": [
    "![Alt text](image-5.png)"
   ]
  },
  {
   "cell_type": "markdown",
   "metadata": {},
   "source": [
    "![Alt text](image-3.png)"
   ]
  },
  {
   "cell_type": "markdown",
   "metadata": {},
   "source": [
    "![Alt text](image-4.png)"
   ]
  },
  {
   "cell_type": "markdown",
   "metadata": {},
   "source": [
    "* first angle projections is more commonly used in Europe, third angle projections more common in US and Asia\n",
    "* we are going to focus more on third angle projection view, since its more intuitive when reading the drawing (top view at the top, left view on the left etc.)"
   ]
  },
  {
   "cell_type": "markdown",
   "metadata": {},
   "source": [
    "## Projection planes in third-angle view"
   ]
  },
  {
   "cell_type": "markdown",
   "metadata": {},
   "source": [
    "![Alt text](image-2.png)"
   ]
  },
  {
   "cell_type": "markdown",
   "metadata": {},
   "source": [
    "![Alt text](image.png)"
   ]
  },
  {
   "cell_type": "markdown",
   "metadata": {},
   "source": [
    "### Projection planes unfolded"
   ]
  },
  {
   "cell_type": "markdown",
   "metadata": {},
   "source": [
    "![Alt text](image-1.png)"
   ]
  },
  {
   "cell_type": "markdown",
   "metadata": {},
   "source": [
    "## References\n",
    "1. [The Efficient Engineer: Understanding Engineering Drawings](https://www.youtube.com/watch?v=ht9GwXQMgpo)\n",
    "1. [Engineering Drawing](https://en.wikipedia.org/wiki/Engineering_drawing)\n",
    "1. [Projections and Views](https://www.mcgill.ca/engineeringdesign/step-step-design-process/basics-graphics-communication/projections-and-views)\n",
    "1. [Linkedin Learning: Engineering Drawings for Manufacturing](https://www.linkedin.com/learning/engineering-drawings-for-manufacturing/prepare-complete-industry-standard-engineering-drawings?u=42538748)"
   ]
  },
  {
   "cell_type": "markdown",
   "metadata": {},
   "source": []
  }
 ],
 "metadata": {
  "language_info": {
   "name": "python"
  },
  "orig_nbformat": 4
 },
 "nbformat": 4,
 "nbformat_minor": 2
}
