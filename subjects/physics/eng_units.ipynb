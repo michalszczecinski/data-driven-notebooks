{
  "nbformat": 4,
  "nbformat_minor": 0,
  "metadata": {
    "colab": {
      "name": "eng_units",
      "provenance": [],
      "toc_visible": true,
      "authorship_tag": "ABX9TyPyVXkyTpY0NvEh81AWTCAO",
      "include_colab_link": true
    },
    "kernelspec": {
      "name": "python3",
      "display_name": "Python 3"
    }
  },
  "cells": [
    {
      "cell_type": "markdown",
      "metadata": {
        "id": "view-in-github",
        "colab_type": "text"
      },
      "source": [
        "<a href=\"https://colab.research.google.com/github/michalszczecinski/data-driven-notebooks/blob/master/physics/eng_units.ipynb\" target=\"_parent\"><img src=\"https://colab.research.google.com/assets/colab-badge.svg\" alt=\"Open In Colab\"/></a>"
      ]
    },
    {
      "cell_type": "markdown",
      "metadata": {
        "id": "FoZw_KntRt2L"
      },
      "source": [
        "## Disclaimer\n",
        "\n",
        "* Content of this notebook is for my personal learning. \n",
        "* I currently use a repository of Python notebooks as my knowledge management system, it is like some people use note taking apps with the added benefit of interactivity and ability to programatically play with the concepts, ideas and data in order to deepen the understanding and strengthen recall.  \n",
        "* Any opinions or ideas expressed here are on my own behalf and do not represent my employer.\n",
        "* Note: This notebook is created from the template `knowledge_notebook_template.ipynb`. For convenience it inherits all potentially useful imports, helper utils and general structure. That means it is likely not using all the defined functionality.\n",
        "* Content starts from the section [Header](#cell-header).\n"
      ]
    },
    {
      "cell_type": "markdown",
      "metadata": {
        "id": "ZqPqBrn6Y-mi"
      },
      "source": [
        "## Code Set Up"
      ]
    },
    {
      "cell_type": "code",
      "metadata": {
        "id": "ceXSXHjHhOHq",
        "colab": {
          "base_uri": "https://localhost:8080/"
        },
        "outputId": "dbb6ea9d-0bc3-4307-ba48-e4f7799261d8"
      },
      "source": [
        "#@title Imports {display-mode: \"form\"}\n",
        "import sys\n",
        "import os\n",
        "import platform\n",
        "import random\n",
        "import itertools\n",
        "import math\n",
        "import datetime\n",
        "\n",
        "import numpy as np\n",
        "import pandas as pd\n",
        "\n",
        "# plotting\n",
        "import matplotlib.pyplot as plt\n",
        "import seaborn as sns\n",
        "\n",
        "# reading google sheets files\n",
        "import gspread\n",
        "from oauth2client.client import GoogleCredentials\n",
        "\n",
        "from collections import OrderedDict\n",
        "\n",
        "# print versions\n",
        "print (f\"system: {sys.version}\")\n",
        "print (f\"pandas: {pd.__version__}\")\n",
        "print (f\"numpy: {np.__version__}\")"
      ],
      "execution_count": null,
      "outputs": [
        {
          "output_type": "stream",
          "name": "stdout",
          "text": [
            "system: 3.7.12 (default, Sep 10 2021, 00:21:48) \n",
            "[GCC 7.5.0]\n",
            "pandas: 1.1.5\n",
            "numpy: 1.19.5\n"
          ]
        }
      ]
    },
    {
      "cell_type": "code",
      "metadata": {
        "id": "iwUKfs6C-aSp"
      },
      "source": [
        "# @title Dislay settings  {display-mode: \"form\"} \n",
        "sns.set(context='notebook', style=\"whitegrid\", rc={\"figure.figsize\": (20, 10)})\n",
        "# pd.set_option(\"display.float_format\", '{:.3f}'.format)\n",
        "pd.set_option(\"display.max_rows\", 120)\n",
        "pd.set_option(\"display.max_columns\", 120)\n",
        "pd.set_option(\"max_colwidth\", 200)"
      ],
      "execution_count": null,
      "outputs": []
    },
    {
      "cell_type": "markdown",
      "metadata": {
        "id": "dfAfefKQ0OuJ"
      },
      "source": [
        "### Helper functions and snippets\n",
        "\n",
        "Note: This notebook is created from the template `knowledge_notebook_template.ipynb`. For convenience it inherits all potentially useful imports, helper utils and general structure. That means it is likely not using all the defined functionality."
      ]
    },
    {
      "cell_type": "markdown",
      "metadata": {
        "id": "XHw075uQRii1"
      },
      "source": [
        "#### Loading data from gsheet"
      ]
    },
    {
      "cell_type": "code",
      "metadata": {
        "id": "p-jxhSMJqNd_"
      },
      "source": [
        "# @title Google Authentication {display-mode: \"form\"}\n",
        "# from google.colab import auth\n",
        "# auth.authenticate_user()"
      ],
      "execution_count": null,
      "outputs": []
    },
    {
      "cell_type": "code",
      "metadata": {
        "id": "kYBp0iQ2m9xL"
      },
      "source": [
        "# @title {display-mode: \"form\"} \n",
        "# importing data from google sheet\n",
        "def get_data_gsheet(name='data_jobs_summary'):\n",
        "  gc = gspread.authorize(GoogleCredentials.get_application_default())\n",
        "  worksheet = gc.open(name).sheet1\n",
        "  # get_all_values gives a list of rows.\n",
        "  rows = worksheet.get_all_values()\n",
        "  header = rows[0]\n",
        "  df_data = pd.DataFrame.from_records(data=rows[1:], columns=header)\n",
        "  return df_data\n",
        "\n",
        "# df = get_data_gsheet()"
      ],
      "execution_count": null,
      "outputs": []
    },
    {
      "cell_type": "code",
      "metadata": {
        "id": "naghJ87lYIAU"
      },
      "source": [
        "# @title {display-mode: \"form\"} \n",
        "def generate_header(author='unknown', title='unknown', description ='unknown', prepared_for='unknown', tags=''):\n",
        "    \"\"\"\n",
        "    desc: generates standard header with meta information describing report\n",
        "    input: author, title, description, prepared_for, tags\n",
        "    output: rendering formatted dataframe with report details\n",
        "    \"\"\"\n",
        "    meta_dict = OrderedDict()\n",
        "\n",
        "    # properties to fill\n",
        "    meta_dict['author'] = author\n",
        "    meta_dict['title'] = title\n",
        "    meta_dict['description'] = description\n",
        "    meta_dict['prepared_for'] = prepared_for\n",
        "    meta_dict['tags'] = str(tags)\n",
        "\n",
        "    # auto generated\n",
        "    runtime = datetime.datetime\n",
        "    meta_dict['runtime'] = runtime.now().strftime(\"%Y-%m-%d %H:%M:%S\")\n",
        "    path = os.getcwd()\n",
        "    meta_dict['path'] = path\n",
        "    python_version = platform.python_version()\n",
        "    meta_dict['python_version'] = python_version\n",
        "    meta_dict['pandas_version'] = pd.__version__\n",
        "\n",
        "    df_meta= pd.DataFrame(meta_dict, index=['meta_information']).T\n",
        "    return df_meta"
      ],
      "execution_count": null,
      "outputs": []
    },
    {
      "cell_type": "markdown",
      "metadata": {
        "id": "tLe6OCc9RqKg"
      },
      "source": [
        "<a name=\"cell-header\"></a>\n",
        "# Engineering Units"
      ]
    },
    {
      "cell_type": "code",
      "metadata": {
        "colab": {
          "base_uri": "https://localhost:8080/",
          "height": 332
        },
        "id": "2grgNY3TYrgO",
        "outputId": "fc2a50e4-d6df-4e43-b938-04e83fa8566d"
      },
      "source": [
        "# setting up header info\n",
        "author = 'Michal Szczecinski'\n",
        "prepared_for ='Practicing working efficiently with engineering units.'\n",
        "title = 'Engineering Units'\n",
        "description = 'Notebook listing most common units and showing examples of transformations between the units.'\n",
        "tags = ['#physics', '#engineering', '#fundamentals', '#units']\n",
        "generate_header(author=author, title=title, description=description, prepared_for=prepared_for, tags=tags)"
      ],
      "execution_count": null,
      "outputs": [
        {
          "output_type": "execute_result",
          "data": {
            "text/html": [
              "<div>\n",
              "<style scoped>\n",
              "    .dataframe tbody tr th:only-of-type {\n",
              "        vertical-align: middle;\n",
              "    }\n",
              "\n",
              "    .dataframe tbody tr th {\n",
              "        vertical-align: top;\n",
              "    }\n",
              "\n",
              "    .dataframe thead th {\n",
              "        text-align: right;\n",
              "    }\n",
              "</style>\n",
              "<table border=\"1\" class=\"dataframe\">\n",
              "  <thead>\n",
              "    <tr style=\"text-align: right;\">\n",
              "      <th></th>\n",
              "      <th>meta_information</th>\n",
              "    </tr>\n",
              "  </thead>\n",
              "  <tbody>\n",
              "    <tr>\n",
              "      <th>author</th>\n",
              "      <td>Michal Szczecinski</td>\n",
              "    </tr>\n",
              "    <tr>\n",
              "      <th>title</th>\n",
              "      <td>Engineering Units</td>\n",
              "    </tr>\n",
              "    <tr>\n",
              "      <th>description</th>\n",
              "      <td>Notebook listing most common units and showing examples of transformations between the units.</td>\n",
              "    </tr>\n",
              "    <tr>\n",
              "      <th>prepared_for</th>\n",
              "      <td>Practicing working efficiently with engineering units.</td>\n",
              "    </tr>\n",
              "    <tr>\n",
              "      <th>tags</th>\n",
              "      <td>['#physics', '#engineering', '#fundamentals', '#units']</td>\n",
              "    </tr>\n",
              "    <tr>\n",
              "      <th>runtime</th>\n",
              "      <td>2021-10-17 03:38:07</td>\n",
              "    </tr>\n",
              "    <tr>\n",
              "      <th>path</th>\n",
              "      <td>/content</td>\n",
              "    </tr>\n",
              "    <tr>\n",
              "      <th>python_version</th>\n",
              "      <td>3.7.12</td>\n",
              "    </tr>\n",
              "    <tr>\n",
              "      <th>pandas_version</th>\n",
              "      <td>1.1.5</td>\n",
              "    </tr>\n",
              "  </tbody>\n",
              "</table>\n",
              "</div>"
            ],
            "text/plain": [
              "                                                                                             meta_information\n",
              "author                                                                                     Michal Szczecinski\n",
              "title                                                                                       Engineering Units\n",
              "description     Notebook listing most common units and showing examples of transformations between the units.\n",
              "prepared_for                                           Practicing working efficiently with engineering units.\n",
              "tags                                                  ['#physics', '#engineering', '#fundamentals', '#units']\n",
              "runtime                                                                                   2021-10-17 03:38:07\n",
              "path                                                                                                 /content\n",
              "python_version                                                                                         3.7.12\n",
              "pandas_version                                                                                          1.1.5"
            ]
          },
          "metadata": {},
          "execution_count": 13
        }
      ]
    },
    {
      "cell_type": "markdown",
      "metadata": {
        "id": "4i-L-SpJR6yI"
      },
      "source": [
        "## Context"
      ]
    },
    {
      "cell_type": "markdown",
      "metadata": {
        "id": "7YCLGJg4R7Lv"
      },
      "source": [
        "## Configuration"
      ]
    },
    {
      "cell_type": "markdown",
      "metadata": {
        "id": "lC6ljWkCVFED"
      },
      "source": [
        "## Prefixes"
      ]
    },
    {
      "cell_type": "code",
      "metadata": {
        "colab": {
          "base_uri": "https://localhost:8080/",
          "height": 300
        },
        "id": "p48ma_IO48Pt",
        "outputId": "befd46d7-7589-4d14-a68c-33733f9a376e"
      },
      "source": [
        "d = {'tera': [10**12, 'T'],\n",
        "     'giga': [10**9, 'G'],\n",
        "     'mega': [10**6,'M'],\n",
        "     'kilo': [10**3,'k'],\n",
        "     'milli': [10**(-3),'m'],\n",
        "     'micro': [10**(-6), 'mu'],\n",
        "     'nano': [10**(-9),'n'],\n",
        "     'pico': [10 **(-12), 'p']}\n",
        "\n",
        "df_prefixes = pd.DataFrame(d, index=['multiplication_factors','si_symbol']).T\n",
        "df_prefixes"
      ],
      "execution_count": null,
      "outputs": [
        {
          "output_type": "execute_result",
          "data": {
            "text/html": [
              "<div>\n",
              "<style scoped>\n",
              "    .dataframe tbody tr th:only-of-type {\n",
              "        vertical-align: middle;\n",
              "    }\n",
              "\n",
              "    .dataframe tbody tr th {\n",
              "        vertical-align: top;\n",
              "    }\n",
              "\n",
              "    .dataframe thead th {\n",
              "        text-align: right;\n",
              "    }\n",
              "</style>\n",
              "<table border=\"1\" class=\"dataframe\">\n",
              "  <thead>\n",
              "    <tr style=\"text-align: right;\">\n",
              "      <th></th>\n",
              "      <th>multiplication_factors</th>\n",
              "      <th>si_symbol</th>\n",
              "    </tr>\n",
              "  </thead>\n",
              "  <tbody>\n",
              "    <tr>\n",
              "      <th>tera</th>\n",
              "      <td>1000000000000</td>\n",
              "      <td>T</td>\n",
              "    </tr>\n",
              "    <tr>\n",
              "      <th>giga</th>\n",
              "      <td>1000000000</td>\n",
              "      <td>G</td>\n",
              "    </tr>\n",
              "    <tr>\n",
              "      <th>mega</th>\n",
              "      <td>1000000</td>\n",
              "      <td>M</td>\n",
              "    </tr>\n",
              "    <tr>\n",
              "      <th>kilo</th>\n",
              "      <td>1000</td>\n",
              "      <td>k</td>\n",
              "    </tr>\n",
              "    <tr>\n",
              "      <th>milli</th>\n",
              "      <td>0.001</td>\n",
              "      <td>m</td>\n",
              "    </tr>\n",
              "    <tr>\n",
              "      <th>micro</th>\n",
              "      <td>1e-06</td>\n",
              "      <td>mu</td>\n",
              "    </tr>\n",
              "    <tr>\n",
              "      <th>nano</th>\n",
              "      <td>1e-09</td>\n",
              "      <td>n</td>\n",
              "    </tr>\n",
              "    <tr>\n",
              "      <th>pico</th>\n",
              "      <td>1e-12</td>\n",
              "      <td>p</td>\n",
              "    </tr>\n",
              "  </tbody>\n",
              "</table>\n",
              "</div>"
            ],
            "text/plain": [
              "      multiplication_factors si_symbol\n",
              "tera           1000000000000         T\n",
              "giga              1000000000         G\n",
              "mega                 1000000         M\n",
              "kilo                    1000         k\n",
              "milli                  0.001         m\n",
              "micro                  1e-06        mu\n",
              "nano                   1e-09         n\n",
              "pico                   1e-12         p"
            ]
          },
          "metadata": {},
          "execution_count": 14
        }
      ]
    },
    {
      "cell_type": "markdown",
      "metadata": {
        "id": "o3ox6bhYVIze"
      },
      "source": [
        "### SI base units"
      ]
    },
    {
      "cell_type": "code",
      "metadata": {
        "colab": {
          "base_uri": "https://localhost:8080/",
          "height": 269
        },
        "id": "46Nr_ehT8FpW",
        "outputId": "031777c7-5acd-4f94-9b6d-6af0314fea10"
      },
      "source": [
        "seven_base_units = {'length': ['meter', 'm'],\n",
        "                   'mass': ['kilogram','kg'],\n",
        "                   'time': ['second', 's'],\n",
        "                   'current': ['ampere', 'A'],\n",
        "                   'temperature': ['kelvin','K'],\n",
        "                   'luminous intensity': ['candela','cd'],\n",
        "                   'amount of substance': ['mole', 'mol']}\n",
        "df_units = pd.DataFrame(seven_base_units, index=['si_unit','abbreviation']).T\n",
        "df_units"
      ],
      "execution_count": null,
      "outputs": [
        {
          "output_type": "execute_result",
          "data": {
            "text/html": [
              "<div>\n",
              "<style scoped>\n",
              "    .dataframe tbody tr th:only-of-type {\n",
              "        vertical-align: middle;\n",
              "    }\n",
              "\n",
              "    .dataframe tbody tr th {\n",
              "        vertical-align: top;\n",
              "    }\n",
              "\n",
              "    .dataframe thead th {\n",
              "        text-align: right;\n",
              "    }\n",
              "</style>\n",
              "<table border=\"1\" class=\"dataframe\">\n",
              "  <thead>\n",
              "    <tr style=\"text-align: right;\">\n",
              "      <th></th>\n",
              "      <th>si_unit</th>\n",
              "      <th>abbreviation</th>\n",
              "    </tr>\n",
              "  </thead>\n",
              "  <tbody>\n",
              "    <tr>\n",
              "      <th>length</th>\n",
              "      <td>meter</td>\n",
              "      <td>m</td>\n",
              "    </tr>\n",
              "    <tr>\n",
              "      <th>mass</th>\n",
              "      <td>kilogram</td>\n",
              "      <td>kg</td>\n",
              "    </tr>\n",
              "    <tr>\n",
              "      <th>time</th>\n",
              "      <td>second</td>\n",
              "      <td>s</td>\n",
              "    </tr>\n",
              "    <tr>\n",
              "      <th>current</th>\n",
              "      <td>ampere</td>\n",
              "      <td>A</td>\n",
              "    </tr>\n",
              "    <tr>\n",
              "      <th>temperature</th>\n",
              "      <td>kelvin</td>\n",
              "      <td>K</td>\n",
              "    </tr>\n",
              "    <tr>\n",
              "      <th>luminous intensity</th>\n",
              "      <td>candela</td>\n",
              "      <td>cd</td>\n",
              "    </tr>\n",
              "    <tr>\n",
              "      <th>amount of substance</th>\n",
              "      <td>mole</td>\n",
              "      <td>mol</td>\n",
              "    </tr>\n",
              "  </tbody>\n",
              "</table>\n",
              "</div>"
            ],
            "text/plain": [
              "                      si_unit abbreviation\n",
              "length                  meter            m\n",
              "mass                 kilogram           kg\n",
              "time                   second            s\n",
              "current                ampere            A\n",
              "temperature            kelvin            K\n",
              "luminous intensity    candela           cd\n",
              "amount of substance      mole          mol"
            ]
          },
          "metadata": {},
          "execution_count": 15
        }
      ]
    },
    {
      "cell_type": "code",
      "metadata": {
        "id": "bkE277n59uv0"
      },
      "source": [
        "# TODO: write program that converts the units\n",
        "value = 50\n",
        "unit_given = 'kilo'\n",
        "unit_desired = 'mega'"
      ],
      "execution_count": null,
      "outputs": []
    },
    {
      "cell_type": "markdown",
      "metadata": {
        "id": "3ILY1Ue1VRqg"
      },
      "source": [
        "## Examples"
      ]
    },
    {
      "cell_type": "markdown",
      "metadata": {
        "id": "AMNHF10T_WTl"
      },
      "source": [
        "**Example 1**\n",
        "\n",
        "Change 60 $cm^2$ to $m^2$. "
      ]
    },
    {
      "cell_type": "markdown",
      "metadata": {
        "id": "RkAizrj1_2cH"
      },
      "source": [
        "**Solution**\n",
        "\n",
        "Square represents area - multiplied two lengths. For example:\n",
        "\n",
        "60 $cm^2$ = 60 cm x 1 cm ; or\n",
        "\n",
        "60 $cm^2$ =  60 x 1 cm x 1 cm ;\n",
        "\n",
        "Therefore we need to convert the values twice:\n",
        "\n",
        "$60 * 1 * 10^{-2} m * 1 *10^{-2} m $"
      ]
    },
    {
      "cell_type": "code",
      "metadata": {
        "colab": {
          "base_uri": "https://localhost:8080/"
        },
        "id": "26FcHFvdHVSR",
        "outputId": "8e42d45f-e11b-4d14-ac1c-69699b692eea"
      },
      "source": [
        "value = 60 \n",
        "value "
      ],
      "execution_count": null,
      "outputs": [
        {
          "output_type": "execute_result",
          "data": {
            "text/plain": [
              "0.006"
            ]
          },
          "metadata": {
            "tags": []
          },
          "execution_count": 18
        }
      ]
    },
    {
      "cell_type": "markdown",
      "metadata": {
        "id": "Aneul1xt2vpS"
      },
      "source": [
        "**Example 2**\n",
        "\n",
        "Convert cross sectional area of 0.3 cm^2 to m^2."
      ]
    },
    {
      "cell_type": "markdown",
      "source": [
        "**Solution**\n",
        "\n",
        "We convert 1 cm to meter which is just 0.01 m (1 /100 = 10^-2). Since there is product of centimeters in cm squared we convert it twice and multiply. \n",
        "\n",
        "$$\n",
        "A = 0.3 cm^2 = 0.3 * 1 cm * 1 cm = 0.3 * 1 * 10^{-2} m * 1*10^{-2} m = 0.3 *  (10^{-2} m)^2 = 0.3 * 10^{-4} m^2\n",
        "$$"
      ],
      "metadata": {
        "id": "B-ijw1VvQSFn"
      }
    },
    {
      "cell_type": "code",
      "metadata": {
        "id": "VReoBtc6MmON",
        "colab": {
          "base_uri": "https://localhost:8080/"
        },
        "outputId": "d69de83d-3765-46e6-9e3b-3b0926a995fc"
      },
      "source": [
        "value =  0.3\n",
        "value * (10**(-2))**2"
      ],
      "execution_count": 5,
      "outputs": [
        {
          "output_type": "execute_result",
          "data": {
            "text/plain": [
              "3e-05"
            ]
          },
          "metadata": {},
          "execution_count": 5
        }
      ]
    },
    {
      "cell_type": "markdown",
      "metadata": {
        "id": "jOZC78lbj8n0"
      },
      "source": [
        "## References"
      ]
    }
  ]
}