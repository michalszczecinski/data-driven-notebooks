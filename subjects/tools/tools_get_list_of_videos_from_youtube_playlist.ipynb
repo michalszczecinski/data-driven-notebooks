{
  "cells": [
    {
      "attachments": {},
      "cell_type": "markdown",
      "metadata": {
        "colab_type": "text",
        "id": "view-in-github"
      },
      "source": [
        "<a href=\"https://colab.research.google.com/github/michalszczecinski/data-driven-notebooks/blob/master/subjects/tools/tools_get_list_of_videos_from_youtube_playlist.ipynb\" target=\"_parent\"><img src=\"https://colab.research.google.com/assets/colab-badge.svg\" alt=\"Open In Colab\"/></a>"
      ]
    },
    {
      "cell_type": "markdown",
      "metadata": {
        "id": "rnKfbX9OG3Rk"
      },
      "source": [
        "# Extracting metadata for all videos in a youtube playlist\n",
        "Simple code that can be used to get a full list of videos from the youtube playlist. Such output can then be used for example as a checklist for tracking of the learning progress.\n",
        "\n",
        "**Input**\n",
        "* youtube playlist url\n",
        "\n",
        "**Output**\n",
        "* dataframe with list of videos: | title | description | length | url |\n",
        "\n",
        "**Extensions**\n",
        "\n",
        "Pytube package supports downloading of youtube videos, so if needed this notebook could be extended to download all videos from the playlist."
      ]
    },
    {
      "cell_type": "code",
      "execution_count": 5,
      "metadata": {
        "id": "WU_M-pmZCcla"
      },
      "outputs": [],
      "source": [
        "# uncomment to install library for interacting with youtube\n",
        "# https://pytube.io/en/latest/user/quickstart.html\n",
        "# !pip install pytube"
      ]
    },
    {
      "cell_type": "code",
      "execution_count": 15,
      "metadata": {
        "id": "ctMT0ppNCNsA"
      },
      "outputs": [],
      "source": [
        "import numpy as np\n",
        "import pandas as pd\n",
        "from IPython.display import display, Markdown, HTML, Image\n",
        "from pytube import Playlist"
      ]
    },
    {
      "cell_type": "markdown",
      "metadata": {
        "id": "FxdlJDsNSSTM"
      },
      "source": [
        "## Playlist details"
      ]
    },
    {
      "cell_type": "code",
      "execution_count": 45,
      "metadata": {
        "id": "D4IVUto9CaDI"
      },
      "outputs": [],
      "source": [
        "# configuration\n",
        "# set the url of the channel you want to download videos from\n",
        "\n",
        "# playlist for neural networks 3blue1brown\n",
        "url = 'https://www.youtube.com/watch?v=aircAruvnKk&list=PLZHQObOWTQDNU6R1_67000Dx_ZCJB-3pi'\n",
        "p = Playlist(url)"
      ]
    },
    {
      "cell_type": "code",
      "execution_count": 46,
      "metadata": {
        "colab": {
          "base_uri": "https://localhost:8080/",
          "height": 536
        },
        "id": "ibjsPlTxLpJ_",
        "outputId": "94ff9d28-b9ba-4b13-d4e2-03bebd24a55a"
      },
      "outputs": [
        {
          "name": "stdout",
          "output_type": "stream",
          "text": [
            "title: Neural networks\n",
            "\n",
            "\n",
            "An error occurred: 'runs'\n"
          ]
        }
      ],
      "source": [
        "# this section is optional, you can comment this out\n",
        "\n",
        "# at this moment getting description for playlist in pytube does not work\n",
        "# it is likely because the metadata structure of objects in sidebar can change\n",
        "# so this code fixes it by using the current schema and extends by getting url of image\n",
        "\n",
        "try:\n",
        "    # get basic information about playlist\n",
        "    title = p.title\n",
        "    print(f'title: {title}')\n",
        "    print('\\n')\n",
        "\n",
        "    # get additional information about playlist\n",
        "    sidebar_info = p.sidebar_info[0]\n",
        "\n",
        "    # display description\n",
        "    description = sidebar_info['playlistSidebarPrimaryInfoRenderer']['description']['runs'][0]['text']\n",
        "    print(f'description: {description}')\n",
        "\n",
        "    # display image\n",
        "    thumbnail = sidebar_info['playlistSidebarPrimaryInfoRenderer']['thumbnailRenderer']['playlistVideoThumbnailRenderer']['thumbnail']['thumbnails'][0]['url']\n",
        "    image_url = thumbnail.split('jpg')[0] +'jpg'\n",
        "    Image(image_url)\n",
        "\n",
        "except Exception as e:\n",
        "    print(\"An error occurred:\", e)"
      ]
    },
    {
      "cell_type": "markdown",
      "metadata": {
        "id": "QOb9VH3HSWeB"
      },
      "source": [
        "## Getting details of all videos in playlist"
      ]
    },
    {
      "cell_type": "code",
      "execution_count": 53,
      "metadata": {},
      "outputs": [
        {
          "name": "stdout",
          "output_type": "stream",
          "text": [
            "extracted video 1 of 4, aircAruvnKk\n",
            "extracted video 2 of 4, IHZwWFHWa-w\n",
            "extracted video 3 of 4, Ilg3gGewQ5U\n",
            "extracted video 4 of 4, tIeHLnjs5U8\n",
            "done\n"
          ]
        }
      ],
      "source": [
        "# download all urls for the playlist\n",
        "urls = p.video_urls\n",
        "total_videos = len(urls)\n",
        "\n",
        "# download title, description and length\n",
        "l = []\n",
        "for i,video in enumerate(p.videos):\n",
        "  # for description I just need the first line, that might differ for other playlists\n",
        "  try:\n",
        "    video_id, title, description, length = video.video_id, video.title, video.description.split('\\n')[0], video.length\n",
        "    print(f'extracted video {i+1} of {total_videos}, {video.video_id}')\n",
        "  except Exception as e:\n",
        "    # print the original error message\n",
        "    print(\"An error occurred:\", e)\n",
        "    print(f'{i+1} of {total_videos}, {video.video_id,}')\n",
        "    video_id, title, description, length = video.video_id, None, None, 0\n",
        "  l.append([video_id, title, description, length])\n",
        "print('done')"
      ]
    },
    {
      "cell_type": "code",
      "execution_count": 54,
      "metadata": {
        "colab": {
          "base_uri": "https://localhost:8080/",
          "height": 424
        },
        "id": "aB7oxyEHCu8u",
        "outputId": "30ba8577-0589-4787-db54-a74bd3f0aecf"
      },
      "outputs": [
        {
          "data": {
            "text/html": [
              "<div>\n",
              "<style scoped>\n",
              "    .dataframe tbody tr th:only-of-type {\n",
              "        vertical-align: middle;\n",
              "    }\n",
              "\n",
              "    .dataframe tbody tr th {\n",
              "        vertical-align: top;\n",
              "    }\n",
              "\n",
              "    .dataframe thead th {\n",
              "        text-align: right;\n",
              "    }\n",
              "</style>\n",
              "<table border=\"1\" class=\"dataframe\">\n",
              "  <thead>\n",
              "    <tr style=\"text-align: right;\">\n",
              "      <th></th>\n",
              "      <th>video_id</th>\n",
              "      <th>title</th>\n",
              "      <th>description</th>\n",
              "      <th>length</th>\n",
              "      <th>url</th>\n",
              "      <th>length_minutes</th>\n",
              "    </tr>\n",
              "  </thead>\n",
              "  <tbody>\n",
              "    <tr>\n",
              "      <th>0</th>\n",
              "      <td>aircAruvnKk</td>\n",
              "      <td>But what is a neural network? | Chapter 1, Dee...</td>\n",
              "      <td>What are the neurons, why are there layers, an...</td>\n",
              "      <td>1153</td>\n",
              "      <td>https://www.youtube.com/watch?v=aircAruvnKk</td>\n",
              "      <td>20</td>\n",
              "    </tr>\n",
              "    <tr>\n",
              "      <th>1</th>\n",
              "      <td>IHZwWFHWa-w</td>\n",
              "      <td>Gradient descent, how neural networks learn | ...</td>\n",
              "      <td>Enjoy these videos?  Consider sharing one or two.</td>\n",
              "      <td>1261</td>\n",
              "      <td>https://www.youtube.com/watch?v=IHZwWFHWa-w</td>\n",
              "      <td>22</td>\n",
              "    </tr>\n",
              "    <tr>\n",
              "      <th>2</th>\n",
              "      <td>Ilg3gGewQ5U</td>\n",
              "      <td>What is backpropagation really doing? | Chapte...</td>\n",
              "      <td>What's actually happening to a neural network ...</td>\n",
              "      <td>834</td>\n",
              "      <td>https://www.youtube.com/watch?v=Ilg3gGewQ5U</td>\n",
              "      <td>14</td>\n",
              "    </tr>\n",
              "    <tr>\n",
              "      <th>3</th>\n",
              "      <td>tIeHLnjs5U8</td>\n",
              "      <td>Backpropagation calculus | Chapter 4, Deep lea...</td>\n",
              "      <td>Help fund future projects: https://www.patreon...</td>\n",
              "      <td>617</td>\n",
              "      <td>https://www.youtube.com/watch?v=tIeHLnjs5U8</td>\n",
              "      <td>11</td>\n",
              "    </tr>\n",
              "  </tbody>\n",
              "</table>\n",
              "</div>"
            ],
            "text/plain": [
              "      video_id                                              title  \\\n",
              "0  aircAruvnKk  But what is a neural network? | Chapter 1, Dee...   \n",
              "1  IHZwWFHWa-w  Gradient descent, how neural networks learn | ...   \n",
              "2  Ilg3gGewQ5U  What is backpropagation really doing? | Chapte...   \n",
              "3  tIeHLnjs5U8  Backpropagation calculus | Chapter 4, Deep lea...   \n",
              "\n",
              "                                         description  length  \\\n",
              "0  What are the neurons, why are there layers, an...    1153   \n",
              "1  Enjoy these videos?  Consider sharing one or two.    1261   \n",
              "2  What's actually happening to a neural network ...     834   \n",
              "3  Help fund future projects: https://www.patreon...     617   \n",
              "\n",
              "                                           url  length_minutes  \n",
              "0  https://www.youtube.com/watch?v=aircAruvnKk              20  \n",
              "1  https://www.youtube.com/watch?v=IHZwWFHWa-w              22  \n",
              "2  https://www.youtube.com/watch?v=Ilg3gGewQ5U              14  \n",
              "3  https://www.youtube.com/watch?v=tIeHLnjs5U8              11  "
            ]
          },
          "execution_count": 54,
          "metadata": {},
          "output_type": "execute_result"
        }
      ],
      "source": [
        "# creating dataframe\n",
        "cols = ['video_id','title', 'description', 'length']\n",
        "df = pd.DataFrame(data = l, columns = cols)\n",
        "df['url'] = urls\n",
        "# round up to minutes \n",
        "df['length_minutes'] = np.ceil(df['length']/60).astype(int)\n",
        "df"
      ]
    },
    {
      "cell_type": "markdown",
      "metadata": {
        "id": "bSklMRy0ebuc"
      },
      "source": [
        "## Get high-level stats of the playlist"
      ]
    },
    {
      "cell_type": "code",
      "execution_count": 56,
      "metadata": {
        "colab": {
          "base_uri": "https://localhost:8080/"
        },
        "id": "wut2c-gBfVA0",
        "outputId": "51adf6b3-e9d8-4634-b8c1-b31d6df2d29d"
      },
      "outputs": [
        {
          "data": {
            "text/plain": [
              "count      4.00\n",
              "sum       67.00\n",
              "median    17.00\n",
              "mean      16.75\n",
              "Name: length_minutes, dtype: float64"
            ]
          },
          "execution_count": 56,
          "metadata": {},
          "output_type": "execute_result"
        }
      ],
      "source": [
        "# get playlist length including number of videos and duration stats\n",
        "df['length_minutes'].agg(['count','sum','median','mean'])"
      ]
    },
    {
      "cell_type": "markdown",
      "metadata": {
        "id": "hnzXHUS8SpaS"
      },
      "source": [
        "### Export formatted links"
      ]
    },
    {
      "cell_type": "code",
      "execution_count": 63,
      "metadata": {
        "colab": {
          "base_uri": "https://localhost:8080/",
          "height": 1000
        },
        "id": "P-oqN3XQIbcs",
        "outputId": "6d5a0335-a6ed-492f-9f12-dbb2cbf24f31"
      },
      "outputs": [
        {
          "data": {
            "text/html": [
              "<a href=\"https://www.youtube.com/watch?v=aircAruvnKk\">1:But what is a neural network? | Chapter 1, Deep learning</a>"
            ],
            "text/plain": [
              "<IPython.core.display.HTML object>"
            ]
          },
          "metadata": {},
          "output_type": "display_data"
        },
        {
          "data": {
            "text/html": [
              "<a href=\"https://www.youtube.com/watch?v=IHZwWFHWa-w\">2:Gradient descent, how neural networks learn | Chapter 2, Deep learning</a>"
            ],
            "text/plain": [
              "<IPython.core.display.HTML object>"
            ]
          },
          "metadata": {},
          "output_type": "display_data"
        },
        {
          "data": {
            "text/html": [
              "<a href=\"https://www.youtube.com/watch?v=Ilg3gGewQ5U\">3:What is backpropagation really doing? | Chapter 3, Deep learning</a>"
            ],
            "text/plain": [
              "<IPython.core.display.HTML object>"
            ]
          },
          "metadata": {},
          "output_type": "display_data"
        },
        {
          "data": {
            "text/html": [
              "<a href=\"https://www.youtube.com/watch?v=tIeHLnjs5U8\">4:Backpropagation calculus | Chapter 4, Deep learning</a>"
            ],
            "text/plain": [
              "<IPython.core.display.HTML object>"
            ]
          },
          "metadata": {},
          "output_type": "display_data"
        }
      ],
      "source": [
        "# output list of titles as hyperlinks for pasting into checklist (google doc)\n",
        "hyperlink_format = '<a href=\"{link}\">{text}</a>'\n",
        "\n",
        "titles = df['title'].values\n",
        "links = df['url'].values\n",
        "\n",
        "for i,a in enumerate(zip(titles, links)):\n",
        "  display(HTML(hyperlink_format.format(link=a[1], text=f'{i+1}:{a[0]}')))"
      ]
    },
    {
      "cell_type": "markdown",
      "metadata": {
        "id": "pbuu2HonFZcE"
      },
      "source": [
        "## References"
      ]
    },
    {
      "cell_type": "markdown",
      "metadata": {
        "id": "6PBM-izzGWEW"
      },
      "source": [
        "1) https://pytube.io/en/latest/api.html#pytube.YouTube\n",
        "\n",
        "2) https://stackoverflow.com/questions/54710982/using-pytube-to-download-playlist-from-youtube"
      ]
    }
  ],
  "metadata": {
    "colab": {
      "authorship_tag": "ABX9TyME5KgbfzFXk2Op8iGhQfMI",
      "include_colab_link": true,
      "provenance": [],
      "toc_visible": true
    },
    "kernelspec": {
      "display_name": "data-driven-notebooks.venv",
      "language": "python",
      "name": "python3"
    },
    "language_info": {
      "codemirror_mode": {
        "name": "ipython",
        "version": 3
      },
      "file_extension": ".py",
      "mimetype": "text/x-python",
      "name": "python",
      "nbconvert_exporter": "python",
      "pygments_lexer": "ipython3",
      "version": "3.9.16"
    },
    "vscode": {
      "interpreter": {
        "hash": "af1c1da3c38a2c9afd60bbb93df68f8878eaaf1ff1f4b8bd52105baf2dd64e7a"
      }
    }
  },
  "nbformat": 4,
  "nbformat_minor": 0
}
