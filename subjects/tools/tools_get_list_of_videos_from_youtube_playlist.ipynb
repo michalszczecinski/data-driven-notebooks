{
  "cells": [
    {
      "attachments": {},
      "cell_type": "markdown",
      "metadata": {
        "colab_type": "text",
        "id": "view-in-github"
      },
      "source": [
        "<a href=\"https://colab.research.google.com/github/michalszczecinski/data-driven-notebooks/blob/master/subjects/tools/tools_get_list_of_videos_from_youtube_playlist.ipynb\" target=\"_parent\"><img src=\"https://colab.research.google.com/assets/colab-badge.svg\" alt=\"Open In Colab\"/></a>"
      ]
    },
    {
      "cell_type": "markdown",
      "metadata": {
        "id": "rnKfbX9OG3Rk"
      },
      "source": [
        "# Extracting metadata for all videos in a youtube playlist\n",
        "Simple code that can be used to get a full list of videos from the youtube playlist. Such output can then be used for example as a checklist for tracking of the learning progress.\n",
        "\n",
        "**Input**\n",
        "* youtube playlist url\n",
        "\n",
        "**Output**\n",
        "* dataframe with list of videos: | title | description | length | url |\n",
        "\n",
        "**Extensions**\n",
        "\n",
        "Pytube package supports downloading of youtube videos, so if needed this notebook could be extended to download all videos from the playlist."
      ]
    },
    {
      "cell_type": "code",
      "execution_count": 4,
      "metadata": {
        "id": "WU_M-pmZCcla"
      },
      "outputs": [],
      "source": [
        "# uncomment to install library for interacting with youtube\n",
        "# https://pytube.io/en/latest/user/quickstart.html\n",
        "# !pip install pytube"
      ]
    },
    {
      "cell_type": "code",
      "execution_count": 26,
      "metadata": {
        "id": "ctMT0ppNCNsA"
      },
      "outputs": [],
      "source": [
        "import numpy as np\n",
        "import pandas as pd\n",
        "from IPython.display import display, Markdown, HTML, Image\n",
        "from pytube import Playlist"
      ]
    },
    {
      "cell_type": "markdown",
      "metadata": {
        "id": "FxdlJDsNSSTM"
      },
      "source": [
        "## Playlist details"
      ]
    },
    {
      "cell_type": "code",
      "execution_count": 6,
      "metadata": {
        "id": "D4IVUto9CaDI"
      },
      "outputs": [],
      "source": [
        "# configuration\n",
        "# set the url of the channel you want to download videos from\n",
        "p = Playlist('https://www.youtube.com/playlist?list=PLwJRxp3blEvZ8AKMXOy0fc0cqT61GsKCG')"
      ]
    },
    {
      "cell_type": "code",
      "execution_count": 7,
      "metadata": {
        "colab": {
          "base_uri": "https://localhost:8080/",
          "height": 536
        },
        "id": "ibjsPlTxLpJ_",
        "outputId": "94ff9d28-b9ba-4b13-d4e2-03bebd24a55a"
      },
      "outputs": [
        {
          "name": "stdout",
          "output_type": "stream",
          "text": [
            "A Student's Guide to Bayesian Statistics\n",
            "\n",
            "\n",
            "There are some ideas we know are true, and others we know are false. However for the majority of ideas we do not know if they are true or false; for these we say we  are ‘uncertain’. For these uncertain entities the correct way to quantify our ignorance  is to use the language of probability. Bayesian inference uses probability theory to allow us to update our uncertain beliefs in light of data. \n",
            "\n",
            "Bayesian inference is increasingly used across the social, biological and physical sciences. As such, a working knowledge of Bayesian statistics is essential for researchers in these fields. However many of the texts on Bayesian statistics are hard to penetrate; being densely-packed with mathematical formulae, and sparse explanation. This course aims to provide a core understanding of Bayesian statistics  that is grounded in mathematical theory, yet friendly to the less mathematically-minded of persons. It aims to focus on the intuitive results of Bayesian theory rather than dwell on the mathematical minutiae.\n",
            "\n",
            "This lecture course closely follows the material covered in the book, \"A Student's Guide to Bayesian Statistics\", published by Sage, which is available to order on Amazon here: \n"
          ]
        },
        {
          "data": {
            "image/jpeg": "[encoded data removed]",
            "text/plain": [
              "<IPython.core.display.Image object>"
            ]
          },
          "execution_count": 7,
          "metadata": {},
          "output_type": "execute_result"
        }
      ],
      "source": [
        "# this is optional, you can comment this out\n",
        "# at this moment getting description for playlist in pytube does not work\n",
        "# it is likely because the metadata structure of objects in sidebar can change\n",
        "# so this code fixes it by using the current schema and extends by getting url of image\n",
        "\n",
        "# getting information about the playlist\n",
        "title = p.title\n",
        "sidebar_info = p.sidebar_info[0]\n",
        "description = sidebar_info['playlistSidebarPrimaryInfoRenderer']['description']['runs'][0]['text']\n",
        "thumbnail = sidebar_info['playlistSidebarPrimaryInfoRenderer']['thumbnailRenderer']['playlistVideoThumbnailRenderer']['thumbnail']['thumbnails'][0]['url']\n",
        "image_url = thumbnail.split('jpg')[0] +'jpg'\n",
        "\n",
        "#displaying info\n",
        "print(title)\n",
        "print('\\n')\n",
        "print(description)\n",
        "Image(image_url)"
      ]
    },
    {
      "cell_type": "markdown",
      "metadata": {
        "id": "QOb9VH3HSWeB"
      },
      "source": [
        "## Getting details of all videos in playlist"
      ]
    },
    {
      "cell_type": "code",
      "execution_count": 8,
      "metadata": {
        "id": "py5iqBJCCkXV"
      },
      "outputs": [],
      "source": [
        "# download all urls for the playlist\n",
        "urls = p.video_urls\n",
        "# download title, description and length\n",
        "l = []\n",
        "for video in p.videos:\n",
        "  # for description I just need the first line, that might differ for other playlists\n",
        "  title, description, length = video.title, video.description.split('\\n')[0], video.length\n",
        "  l.append([title, description, length])"
      ]
    },
    {
      "cell_type": "code",
      "execution_count": 23,
      "metadata": {
        "colab": {
          "base_uri": "https://localhost:8080/",
          "height": 424
        },
        "id": "aB7oxyEHCu8u",
        "outputId": "30ba8577-0589-4787-db54-a74bd3f0aecf"
      },
      "outputs": [
        {
          "data": {
            "text/html": [
              "\n",
              "  <div id=\"df-c2d2bd87-87dc-4a12-a7dc-fe787f8675e1\">\n",
              "    <div class=\"colab-df-container\">\n",
              "      <div>\n",
              "<style scoped>\n",
              "    .dataframe tbody tr th:only-of-type {\n",
              "        vertical-align: middle;\n",
              "    }\n",
              "\n",
              "    .dataframe tbody tr th {\n",
              "        vertical-align: top;\n",
              "    }\n",
              "\n",
              "    .dataframe thead th {\n",
              "        text-align: right;\n",
              "    }\n",
              "</style>\n",
              "<table border=\"1\" class=\"dataframe\">\n",
              "  <thead>\n",
              "    <tr style=\"text-align: right;\">\n",
              "      <th></th>\n",
              "      <th>title</th>\n",
              "      <th>description</th>\n",
              "      <th>length</th>\n",
              "      <th>url</th>\n",
              "      <th>length_minutes</th>\n",
              "    </tr>\n",
              "  </thead>\n",
              "  <tbody>\n",
              "    <tr>\n",
              "      <th>0</th>\n",
              "      <td>The syllabus covered by the book and YouTube c...</td>\n",
              "      <td>This video provides a summary of a textbook I'...</td>\n",
              "      <td>927</td>\n",
              "      <td>https://www.youtube.com/watch?v=P_og8H-VkIY</td>\n",
              "      <td>16</td>\n",
              "    </tr>\n",
              "    <tr>\n",
              "      <th>1</th>\n",
              "      <td>Random variables and probability distributions.</td>\n",
              "      <td>This video explains what are meant by random v...</td>\n",
              "      <td>466</td>\n",
              "      <td>https://www.youtube.com/watch?v=pvkhK03aFDM</td>\n",
              "      <td>8</td>\n",
              "    </tr>\n",
              "    <tr>\n",
              "      <th>2</th>\n",
              "      <td>An introduction to discrete probability distri...</td>\n",
              "      <td>This video introduces discrete probability dis...</td>\n",
              "      <td>376</td>\n",
              "      <td>https://www.youtube.com/watch?v=4Ghtj_iTSpI</td>\n",
              "      <td>7</td>\n",
              "    </tr>\n",
              "    <tr>\n",
              "      <th>3</th>\n",
              "      <td>An introduction to continuous probability dist...</td>\n",
              "      <td>This video introduces continuous probability d...</td>\n",
              "      <td>495</td>\n",
              "      <td>https://www.youtube.com/watch?v=s87mffcX0xU</td>\n",
              "      <td>9</td>\n",
              "    </tr>\n",
              "    <tr>\n",
              "      <th>4</th>\n",
              "      <td>Two-dimensional discrete distributions: an int...</td>\n",
              "      <td>This video introduces two-dimensional discrete...</td>\n",
              "      <td>310</td>\n",
              "      <td>https://www.youtube.com/watch?v=trWTk31jYQU</td>\n",
              "      <td>6</td>\n",
              "    </tr>\n",
              "    <tr>\n",
              "      <th>...</th>\n",
              "      <td>...</td>\n",
              "      <td>...</td>\n",
              "      <td>...</td>\n",
              "      <td>...</td>\n",
              "      <td>...</td>\n",
              "    </tr>\n",
              "    <tr>\n",
              "      <th>70</th>\n",
              "      <td>How to code up a bespoke probability density i...</td>\n",
              "      <td>This video explains how to use Stan to sample ...</td>\n",
              "      <td>875</td>\n",
              "      <td>https://www.youtube.com/watch?v=CMSMtcMYHdM</td>\n",
              "      <td>15</td>\n",
              "    </tr>\n",
              "    <tr>\n",
              "      <th>71</th>\n",
              "      <td>How to write your first Stan program</td>\n",
              "      <td>This video explains how to write and run a Sta...</td>\n",
              "      <td>1727</td>\n",
              "      <td>https://www.youtube.com/watch?v=YZZSYIx1-mw</td>\n",
              "      <td>29</td>\n",
              "    </tr>\n",
              "    <tr>\n",
              "      <th>72</th>\n",
              "      <td>How to code up a model with discrete parameter...</td>\n",
              "      <td>This video explains how to use Stan to sample ...</td>\n",
              "      <td>1295</td>\n",
              "      <td>https://www.youtube.com/watch?v=KOIudAB6vJ0</td>\n",
              "      <td>22</td>\n",
              "    </tr>\n",
              "    <tr>\n",
              "      <th>73</th>\n",
              "      <td>The distribution zoo app to help to understand...</td>\n",
              "      <td>This video introduces an app called 'The distr...</td>\n",
              "      <td>586</td>\n",
              "      <td>https://www.youtube.com/watch?v=mGaZHhGwF4Y</td>\n",
              "      <td>10</td>\n",
              "    </tr>\n",
              "    <tr>\n",
              "      <th>74</th>\n",
              "      <td>Centered versus non-centered hierarchical models</td>\n",
              "      <td>This video introduces the concepts of centered...</td>\n",
              "      <td>1227</td>\n",
              "      <td>https://www.youtube.com/watch?v=gSd1msFFZTw</td>\n",
              "      <td>21</td>\n",
              "    </tr>\n",
              "  </tbody>\n",
              "</table>\n",
              "<p>75 rows × 5 columns</p>\n",
              "</div>\n",
              "      <button class=\"colab-df-convert\" onclick=\"convertToInteractive('df-c2d2bd87-87dc-4a12-a7dc-fe787f8675e1')\"\n",
              "              title=\"Convert this dataframe to an interactive table.\"\n",
              "              style=\"display:none;\">\n",
              "        \n",
              "  <svg xmlns=\"http://www.w3.org/2000/svg\" height=\"24px\"viewBox=\"0 0 24 24\"\n",
              "       width=\"24px\">\n",
              "    <path d=\"M0 0h24v24H0V0z\" fill=\"none\"/>\n",
              "    <path d=\"M18.56 5.44l.94 2.06.94-2.06 2.06-.94-2.06-.94-.94-2.06-.94 2.06-2.06.94zm-11 1L8.5 8.5l.94-2.06 2.06-.94-2.06-.94L8.5 2.5l-.94 2.06-2.06.94zm10 10l.94 2.06.94-2.06 2.06-.94-2.06-.94-.94-2.06-.94 2.06-2.06.94z\"/><path d=\"M17.41 7.96l-1.37-1.37c-.4-.4-.92-.59-1.43-.59-.52 0-1.04.2-1.43.59L10.3 9.45l-7.72 7.72c-.78.78-.78 2.05 0 2.83L4 21.41c.39.39.9.59 1.41.59.51 0 1.02-.2 1.41-.59l7.78-7.78 2.81-2.81c.8-.78.8-2.07 0-2.86zM5.41 20L4 18.59l7.72-7.72 1.47 1.35L5.41 20z\"/>\n",
              "  </svg>\n",
              "      </button>\n",
              "      \n",
              "  <style>\n",
              "    .colab-df-container {\n",
              "      display:flex;\n",
              "      flex-wrap:wrap;\n",
              "      gap: 12px;\n",
              "    }\n",
              "\n",
              "    .colab-df-convert {\n",
              "      background-color: #E8F0FE;\n",
              "      border: none;\n",
              "      border-radius: 50%;\n",
              "      cursor: pointer;\n",
              "      display: none;\n",
              "      fill: #1967D2;\n",
              "      height: 32px;\n",
              "      padding: 0 0 0 0;\n",
              "      width: 32px;\n",
              "    }\n",
              "\n",
              "    .colab-df-convert:hover {\n",
              "      background-color: #E2EBFA;\n",
              "      box-shadow: 0px 1px 2px rgba(60, 64, 67, 0.3), 0px 1px 3px 1px rgba(60, 64, 67, 0.15);\n",
              "      fill: #174EA6;\n",
              "    }\n",
              "\n",
              "    [theme=dark] .colab-df-convert {\n",
              "      background-color: #3B4455;\n",
              "      fill: #D2E3FC;\n",
              "    }\n",
              "\n",
              "    [theme=dark] .colab-df-convert:hover {\n",
              "      background-color: #434B5C;\n",
              "      box-shadow: 0px 1px 3px 1px rgba(0, 0, 0, 0.15);\n",
              "      filter: drop-shadow(0px 1px 2px rgba(0, 0, 0, 0.3));\n",
              "      fill: #FFFFFF;\n",
              "    }\n",
              "  </style>\n",
              "\n",
              "      <script>\n",
              "        const buttonEl =\n",
              "          document.querySelector('#df-c2d2bd87-87dc-4a12-a7dc-fe787f8675e1 button.colab-df-convert');\n",
              "        buttonEl.style.display =\n",
              "          google.colab.kernel.accessAllowed ? 'block' : 'none';\n",
              "\n",
              "        async function convertToInteractive(key) {\n",
              "          const element = document.querySelector('#df-c2d2bd87-87dc-4a12-a7dc-fe787f8675e1');\n",
              "          const dataTable =\n",
              "            await google.colab.kernel.invokeFunction('convertToInteractive',\n",
              "                                                     [key], {});\n",
              "          if (!dataTable) return;\n",
              "\n",
              "          const docLinkHtml = 'Like what you see? Visit the ' +\n",
              "            '<a target=\"_blank\" href=https://colab.research.google.com/notebooks/data_table.ipynb>data table notebook</a>'\n",
              "            + ' to learn more about interactive tables.';\n",
              "          element.innerHTML = '';\n",
              "          dataTable['output_type'] = 'display_data';\n",
              "          await google.colab.output.renderOutput(dataTable, element);\n",
              "          const docLink = document.createElement('div');\n",
              "          docLink.innerHTML = docLinkHtml;\n",
              "          element.appendChild(docLink);\n",
              "        }\n",
              "      </script>\n",
              "    </div>\n",
              "  </div>\n",
              "  "
            ],
            "text/plain": [
              "                                                title  \\\n",
              "0   The syllabus covered by the book and YouTube c...   \n",
              "1     Random variables and probability distributions.   \n",
              "2   An introduction to discrete probability distri...   \n",
              "3   An introduction to continuous probability dist...   \n",
              "4   Two-dimensional discrete distributions: an int...   \n",
              "..                                                ...   \n",
              "70  How to code up a bespoke probability density i...   \n",
              "71               How to write your first Stan program   \n",
              "72  How to code up a model with discrete parameter...   \n",
              "73  The distribution zoo app to help to understand...   \n",
              "74   Centered versus non-centered hierarchical models   \n",
              "\n",
              "                                          description  length  \\\n",
              "0   This video provides a summary of a textbook I'...     927   \n",
              "1   This video explains what are meant by random v...     466   \n",
              "2   This video introduces discrete probability dis...     376   \n",
              "3   This video introduces continuous probability d...     495   \n",
              "4   This video introduces two-dimensional discrete...     310   \n",
              "..                                                ...     ...   \n",
              "70  This video explains how to use Stan to sample ...     875   \n",
              "71  This video explains how to write and run a Sta...    1727   \n",
              "72  This video explains how to use Stan to sample ...    1295   \n",
              "73  This video introduces an app called 'The distr...     586   \n",
              "74  This video introduces the concepts of centered...    1227   \n",
              "\n",
              "                                            url  length_minutes  \n",
              "0   https://www.youtube.com/watch?v=P_og8H-VkIY              16  \n",
              "1   https://www.youtube.com/watch?v=pvkhK03aFDM               8  \n",
              "2   https://www.youtube.com/watch?v=4Ghtj_iTSpI               7  \n",
              "3   https://www.youtube.com/watch?v=s87mffcX0xU               9  \n",
              "4   https://www.youtube.com/watch?v=trWTk31jYQU               6  \n",
              "..                                          ...             ...  \n",
              "70  https://www.youtube.com/watch?v=CMSMtcMYHdM              15  \n",
              "71  https://www.youtube.com/watch?v=YZZSYIx1-mw              29  \n",
              "72  https://www.youtube.com/watch?v=KOIudAB6vJ0              22  \n",
              "73  https://www.youtube.com/watch?v=mGaZHhGwF4Y              10  \n",
              "74  https://www.youtube.com/watch?v=gSd1msFFZTw              21  \n",
              "\n",
              "[75 rows x 5 columns]"
            ]
          },
          "execution_count": 23,
          "metadata": {},
          "output_type": "execute_result"
        }
      ],
      "source": [
        "# creating dataframe\n",
        "cols = ['title', 'description', 'length']\n",
        "df = pd.DataFrame(data = l, columns = cols)\n",
        "df['url'] = urls\n",
        "# round up to minutes \n",
        "df['length_minutes'] = np.ceil(df['length']/60).astype(int)\n",
        "df"
      ]
    },
    {
      "cell_type": "markdown",
      "metadata": {
        "id": "bSklMRy0ebuc"
      },
      "source": [
        "## Get high-level stats of the playlist"
      ]
    },
    {
      "cell_type": "code",
      "execution_count": 25,
      "metadata": {
        "colab": {
          "base_uri": "https://localhost:8080/"
        },
        "id": "wut2c-gBfVA0",
        "outputId": "51adf6b3-e9d8-4634-b8c1-b31d6df2d29d"
      },
      "outputs": [
        {
          "data": {
            "text/plain": [
              "count      75.00\n",
              "sum       867.00\n",
              "median     10.00\n",
              "mean       11.56\n",
              "Name: length_minutes, dtype: float64"
            ]
          },
          "execution_count": 25,
          "metadata": {},
          "output_type": "execute_result"
        }
      ],
      "source": [
        "# get playlist length including number of videos and duration stats\n",
        "df['length_minutes'].agg(['count','sum','median','mean'])"
      ]
    },
    {
      "cell_type": "markdown",
      "metadata": {
        "id": "hnzXHUS8SpaS"
      },
      "source": [
        "### Export formatted links"
      ]
    },
    {
      "cell_type": "code",
      "execution_count": 10,
      "metadata": {
        "colab": {
          "base_uri": "https://localhost:8080/",
          "height": 1000
        },
        "id": "P-oqN3XQIbcs",
        "outputId": "6d5a0335-a6ed-492f-9f12-dbb2cbf24f31"
      },
      "outputs": [
        {
          "data": {
            "text/html": [
              "<a href=\"https://www.youtube.com/watch?v=P_og8H-VkIY\">The syllabus covered by the book and YouTube course</a>"
            ],
            "text/plain": [
              "<IPython.core.display.HTML object>"
            ]
          },
          "metadata": {},
          "output_type": "display_data"
        },
        {
          "data": {
            "text/html": [
              "<a href=\"https://www.youtube.com/watch?v=pvkhK03aFDM\">Random variables and probability distributions.</a>"
            ],
            "text/plain": [
              "<IPython.core.display.HTML object>"
            ]
          },
          "metadata": {},
          "output_type": "display_data"
        },
        {
          "data": {
            "text/html": [
              "<a href=\"https://www.youtube.com/watch?v=4Ghtj_iTSpI\">An introduction to discrete probability distributions</a>"
            ],
            "text/plain": [
              "<IPython.core.display.HTML object>"
            ]
          },
          "metadata": {},
          "output_type": "display_data"
        },
        {
          "data": {
            "text/html": [
              "<a href=\"https://www.youtube.com/watch?v=s87mffcX0xU\">An introduction to continuous probability distributions.</a>"
            ],
            "text/plain": [
              "<IPython.core.display.HTML object>"
            ]
          },
          "metadata": {},
          "output_type": "display_data"
        },
        {
          "data": {
            "text/html": [
              "<a href=\"https://www.youtube.com/watch?v=trWTk31jYQU\">Two-dimensional discrete distributions: an introduction</a>"
            ],
            "text/plain": [
              "<IPython.core.display.HTML object>"
            ]
          },
          "metadata": {},
          "output_type": "display_data"
        },
        {
          "data": {
            "text/html": [
              "<a href=\"https://www.youtube.com/watch?v=0BxDoyiZd44\">Two-dimensional continuous distributions: an introduction</a>"
            ],
            "text/plain": [
              "<IPython.core.display.HTML object>"
            ]
          },
          "metadata": {},
          "output_type": "display_data"
        },
        {
          "data": {
            "text/html": [
              "<a href=\"https://www.youtube.com/watch?v=M3MlaoW0TT4\">An introduction to discrete marginal probability distributions</a>"
            ],
            "text/plain": [
              "<IPython.core.display.HTML object>"
            ]
          },
          "metadata": {},
          "output_type": "display_data"
        },
        {
          "data": {
            "text/html": [
              "<a href=\"https://www.youtube.com/watch?v=F97Qf5FGt5M\">An introduction to continuous marginal probability distributions</a>"
            ],
            "text/plain": [
              "<IPython.core.display.HTML object>"
            ]
          },
          "metadata": {},
          "output_type": "display_data"
        },
        {
          "data": {
            "text/html": [
              "<a href=\"https://www.youtube.com/watch?v=RThhuFuyftA\">An introduction to discrete conditional probability distributions.</a>"
            ],
            "text/plain": [
              "<IPython.core.display.HTML object>"
            ]
          },
          "metadata": {},
          "output_type": "display_data"
        },
        {
          "data": {
            "text/html": [
              "<a href=\"https://www.youtube.com/watch?v=U7t8lG4E634\">An introduction to continuous conditional probability distributions</a>"
            ],
            "text/plain": [
              "<IPython.core.display.HTML object>"
            ]
          },
          "metadata": {},
          "output_type": "display_data"
        },
        {
          "data": {
            "text/html": [
              "<a href=\"https://www.youtube.com/watch?v=q7aEQ1dKB18\">An introduction to central limit theorems</a>"
            ],
            "text/plain": [
              "<IPython.core.display.HTML object>"
            ]
          },
          "metadata": {},
          "output_type": "display_data"
        },
        {
          "data": {
            "text/html": [
              "<a href=\"https://www.youtube.com/watch?v=YLSSyMn2XWg\">Breast cancer example use of Bayes' rule - 1</a>"
            ],
            "text/plain": [
              "<IPython.core.display.HTML object>"
            ]
          },
          "metadata": {},
          "output_type": "display_data"
        },
        {
          "data": {
            "text/html": [
              "<a href=\"https://www.youtube.com/watch?v=8mAheteag6Q\">Breast cancer example use of Bayes' rule - 2</a>"
            ],
            "text/plain": [
              "<IPython.core.display.HTML object>"
            ]
          },
          "metadata": {},
          "output_type": "display_data"
        },
        {
          "data": {
            "text/html": [
              "<a href=\"https://www.youtube.com/watch?v=bWaACQGsk7c\">The duality of meaning for likelihoods and probability distributions: the equivalence principle</a>"
            ],
            "text/plain": [
              "<IPython.core.display.HTML object>"
            ]
          },
          "metadata": {},
          "output_type": "display_data"
        },
        {
          "data": {
            "text/html": [
              "<a href=\"https://www.youtube.com/watch?v=7WOxSh-QcA0\">What does it mean to sample from a distribution?</a>"
            ],
            "text/plain": [
              "<IPython.core.display.HTML object>"
            ]
          },
          "metadata": {},
          "output_type": "display_data"
        },
        {
          "data": {
            "text/html": [
              "<a href=\"https://www.youtube.com/watch?v=IhoEwC9R8pA\">Why is a likelihood not a probability distribution?</a>"
            ],
            "text/plain": [
              "<IPython.core.display.HTML object>"
            ]
          },
          "metadata": {},
          "output_type": "display_data"
        },
        {
          "data": {
            "text/html": [
              "<a href=\"https://www.youtube.com/watch?v=JLkQerOyydM\">Example likelihood model: waiting times between beer orders</a>"
            ],
            "text/plain": [
              "<IPython.core.display.HTML object>"
            ]
          },
          "metadata": {},
          "output_type": "display_data"
        },
        {
          "data": {
            "text/html": [
              "<a href=\"https://www.youtube.com/watch?v=2NiyN7eFc4I\">Maximum likelihood estimation for the beer example model</a>"
            ],
            "text/plain": [
              "<IPython.core.display.HTML object>"
            ]
          },
          "metadata": {},
          "output_type": "display_data"
        },
        {
          "data": {
            "text/html": [
              "<a href=\"https://www.youtube.com/watch?v=lJzSgAVKvcU\">An example of how an improper prior leads to an improper posterior</a>"
            ],
            "text/plain": [
              "<IPython.core.display.HTML object>"
            ]
          },
          "metadata": {},
          "output_type": "display_data"
        },
        {
          "data": {
            "text/html": [
              "<a href=\"https://www.youtube.com/watch?v=8FbqSVFzmoY\">Why is it difficult to calculate the denominator of Bayes’ rule in practice?</a>"
            ],
            "text/plain": [
              "<IPython.core.display.HTML object>"
            ]
          },
          "metadata": {},
          "output_type": "display_data"
        },
        {
          "data": {
            "text/html": [
              "<a href=\"https://www.youtube.com/watch?v=mLxDzAsIg7I\">Using a Bayes box to calculate the denominator</a>"
            ],
            "text/plain": [
              "<IPython.core.display.HTML object>"
            ]
          },
          "metadata": {},
          "output_type": "display_data"
        },
        {
          "data": {
            "text/html": [
              "<a href=\"https://www.youtube.com/watch?v=wMfODgwqEr0\">Explaining the difference between confidence and credible intervals</a>"
            ],
            "text/plain": [
              "<IPython.core.display.HTML object>"
            ]
          },
          "metadata": {},
          "output_type": "display_data"
        },
        {
          "data": {
            "text/html": [
              "<a href=\"https://www.youtube.com/watch?v=yvWlpwnT1nw\">Explaining the intuition behind Bayesian inference</a>"
            ],
            "text/plain": [
              "<IPython.core.display.HTML object>"
            ]
          },
          "metadata": {},
          "output_type": "display_data"
        },
        {
          "data": {
            "text/html": [
              "<a href=\"https://www.youtube.com/watch?v=TMnXQ6G6E5Y\">Estimating the posterior predictive distribution by sampling</a>"
            ],
            "text/plain": [
              "<IPython.core.display.HTML object>"
            ]
          },
          "metadata": {},
          "output_type": "display_data"
        },
        {
          "data": {
            "text/html": [
              "<a href=\"https://www.youtube.com/watch?v=3dxZD_RnGGg\">An introduction to the Bernoulli and binomial distributions</a>"
            ],
            "text/plain": [
              "<IPython.core.display.HTML object>"
            ]
          },
          "metadata": {},
          "output_type": "display_data"
        },
        {
          "data": {
            "text/html": [
              "<a href=\"https://www.youtube.com/watch?v=KIXFlK1dajE\">An introduction to the Beta distribution</a>"
            ],
            "text/plain": [
              "<IPython.core.display.HTML object>"
            ]
          },
          "metadata": {},
          "output_type": "display_data"
        },
        {
          "data": {
            "text/html": [
              "<a href=\"https://www.youtube.com/watch?v=H20k1O1zvik\">An introduction to the Poisson distribution - 1</a>"
            ],
            "text/plain": [
              "<IPython.core.display.HTML object>"
            ]
          },
          "metadata": {},
          "output_type": "display_data"
        },
        {
          "data": {
            "text/html": [
              "<a href=\"https://www.youtube.com/watch?v=CirxjBHAZ7g\">An introduction to the Poisson distribution - 2</a>"
            ],
            "text/plain": [
              "<IPython.core.display.HTML object>"
            ]
          },
          "metadata": {},
          "output_type": "display_data"
        },
        {
          "data": {
            "text/html": [
              "<a href=\"https://www.youtube.com/watch?v=jWh4HY_Geaw\">An introduction to the gamma distribution</a>"
            ],
            "text/plain": [
              "<IPython.core.display.HTML object>"
            ]
          },
          "metadata": {},
          "output_type": "display_data"
        },
        {
          "data": {
            "text/html": [
              "<a href=\"https://www.youtube.com/watch?v=aPNrhR0dFi8\">What is a conjugate prior?</a>"
            ],
            "text/plain": [
              "<IPython.core.display.HTML object>"
            ]
          },
          "metadata": {},
          "output_type": "display_data"
        },
        {
          "data": {
            "text/html": [
              "<a href=\"https://www.youtube.com/watch?v=yDPJnV9vcHs\">What is a posterior predictive check and why is it useful?</a>"
            ],
            "text/plain": [
              "<IPython.core.display.HTML object>"
            ]
          },
          "metadata": {},
          "output_type": "display_data"
        },
        {
          "data": {
            "text/html": [
              "<a href=\"https://www.youtube.com/watch?v=P99HL58LHRI\">What is meant by overfitting?</a>"
            ],
            "text/plain": [
              "<IPython.core.display.HTML object>"
            ]
          },
          "metadata": {},
          "output_type": "display_data"
        },
        {
          "data": {
            "text/html": [
              "<a href=\"https://www.youtube.com/watch?v=EF4dee1a0Dk\">What is meant by overfitting?</a>"
            ],
            "text/plain": [
              "<IPython.core.display.HTML object>"
            ]
          },
          "metadata": {},
          "output_type": "display_data"
        },
        {
          "data": {
            "text/html": [
              "<a href=\"https://www.youtube.com/watch?v=LJwtEaP2xKA\">Explaining the Kullback-Liebler divergence through secret codes</a>"
            ],
            "text/plain": [
              "<IPython.core.display.HTML object>"
            ]
          },
          "metadata": {},
          "output_type": "display_data"
        },
        {
          "data": {
            "text/html": [
              "<a href=\"https://www.youtube.com/watch?v=MEqrDu-ytM8\">The ideal measure of a model's predictive fit</a>"
            ],
            "text/plain": [
              "<IPython.core.display.HTML object>"
            ]
          },
          "metadata": {},
          "output_type": "display_data"
        },
        {
          "data": {
            "text/html": [
              "<a href=\"https://www.youtube.com/watch?v=xS4jDHQfP2o\">Evaluating model fit through AIC, DIC, WAIC and LOO-CV</a>"
            ],
            "text/plain": [
              "<IPython.core.display.HTML object>"
            ]
          },
          "metadata": {},
          "output_type": "display_data"
        },
        {
          "data": {
            "text/html": [
              "<a href=\"https://www.youtube.com/watch?v=T-kMpA4z-7k\">Introducing Bayes factors and marginal likelihoods</a>"
            ],
            "text/plain": [
              "<IPython.core.display.HTML object>"
            ]
          },
          "metadata": {},
          "output_type": "display_data"
        },
        {
          "data": {
            "text/html": [
              "<a href=\"https://www.youtube.com/watch?v=kisFIbkfDUs\">On the sensitivity of the marginal likelihood to prior choice</a>"
            ],
            "text/plain": [
              "<IPython.core.display.HTML object>"
            ]
          },
          "metadata": {},
          "output_type": "display_data"
        },
        {
          "data": {
            "text/html": [
              "<a href=\"https://www.youtube.com/watch?v=1HXAnoalc8Q\">The problems with using simple Monte Carlo to determine the marginal likelihood</a>"
            ],
            "text/plain": [
              "<IPython.core.display.HTML object>"
            ]
          },
          "metadata": {},
          "output_type": "display_data"
        },
        {
          "data": {
            "text/html": [
              "<a href=\"https://www.youtube.com/watch?v=5xNRroKo7u8\">The illusion of uninformative priors</a>"
            ],
            "text/plain": [
              "<IPython.core.display.HTML object>"
            ]
          },
          "metadata": {},
          "output_type": "display_data"
        },
        {
          "data": {
            "text/html": [
              "<a href=\"https://www.youtube.com/watch?v=S42N_6pQ5TA\">An introduction to Jeffreys priors - 1</a>"
            ],
            "text/plain": [
              "<IPython.core.display.HTML object>"
            ]
          },
          "metadata": {},
          "output_type": "display_data"
        },
        {
          "data": {
            "text/html": [
              "<a href=\"https://www.youtube.com/watch?v=Kr0dz_z6e-0\">An introduction to Jeffreys priors - 2</a>"
            ],
            "text/plain": [
              "<IPython.core.display.HTML object>"
            ]
          },
          "metadata": {},
          "output_type": "display_data"
        },
        {
          "data": {
            "text/html": [
              "<a href=\"https://www.youtube.com/watch?v=GVeyxTyGpb4\">An introduction to Jeffreys priors - 3</a>"
            ],
            "text/plain": [
              "<IPython.core.display.HTML object>"
            ]
          },
          "metadata": {},
          "output_type": "display_data"
        },
        {
          "data": {
            "text/html": [
              "<a href=\"https://www.youtube.com/watch?v=pNkeDdFs0QQ\">An introduction to reference priors</a>"
            ],
            "text/plain": [
              "<IPython.core.display.HTML object>"
            ]
          },
          "metadata": {},
          "output_type": "display_data"
        },
        {
          "data": {
            "text/html": [
              "<a href=\"https://www.youtube.com/watch?v=5j4E2FRR384\">An introduction to the concept of a sufficient statistic</a>"
            ],
            "text/plain": [
              "<IPython.core.display.HTML object>"
            ]
          },
          "metadata": {},
          "output_type": "display_data"
        },
        {
          "data": {
            "text/html": [
              "<a href=\"https://www.youtube.com/watch?v=5NPXHwulYaw\">What is meant by entropy in statistics?</a>"
            ],
            "text/plain": [
              "<IPython.core.display.HTML object>"
            ]
          },
          "metadata": {},
          "output_type": "display_data"
        },
        {
          "data": {
            "text/html": [
              "<a href=\"https://www.youtube.com/watch?v=U9h1xkNELvY\">An introduction to mutual information</a>"
            ],
            "text/plain": [
              "<IPython.core.display.HTML object>"
            ]
          },
          "metadata": {},
          "output_type": "display_data"
        },
        {
          "data": {
            "text/html": [
              "<a href=\"https://www.youtube.com/watch?v=0zf8IHMcs0A\">The difficulty with real life Bayesian inference: high multidimensional integrals (and sums)</a>"
            ],
            "text/plain": [
              "<IPython.core.display.HTML object>"
            ]
          },
          "metadata": {},
          "output_type": "display_data"
        },
        {
          "data": {
            "text/html": [
              "<a href=\"https://www.youtube.com/watch?v=9URkCaLf664\">The problem with discrete approximation to integrals or probability densities</a>"
            ],
            "text/plain": [
              "<IPython.core.display.HTML object>"
            ]
          },
          "metadata": {},
          "output_type": "display_data"
        },
        {
          "data": {
            "text/html": [
              "<a href=\"https://www.youtube.com/watch?v=Hu6yqs0R7GA\">An introduction to numerical integration through Gaussian quadrature</a>"
            ],
            "text/plain": [
              "<IPython.core.display.HTML object>"
            ]
          },
          "metadata": {},
          "output_type": "display_data"
        },
        {
          "data": {
            "text/html": [
              "<a href=\"https://www.youtube.com/watch?v=4UE3rUwibgg\">What is meant by independent sampling and how can it be used to understand a distribution?</a>"
            ],
            "text/plain": [
              "<IPython.core.display.HTML object>"
            ]
          },
          "metadata": {},
          "output_type": "display_data"
        },
        {
          "data": {
            "text/html": [
              "<a href=\"https://www.youtube.com/watch?v=7THzVD7jxiU\">How to do integration by sampling</a>"
            ],
            "text/plain": [
              "<IPython.core.display.HTML object>"
            ]
          },
          "metadata": {},
          "output_type": "display_data"
        },
        {
          "data": {
            "text/html": [
              "<a href=\"https://www.youtube.com/watch?v=kYWHfgkRc9s\">An introduction to rejection sampling</a>"
            ],
            "text/plain": [
              "<IPython.core.display.HTML object>"
            ]
          },
          "metadata": {},
          "output_type": "display_data"
        },
        {
          "data": {
            "text/html": [
              "<a href=\"https://www.youtube.com/watch?v=IUL0TOLYNLE\">How to use rejection sampling to uniformly sample within a cow's boundaries</a>"
            ],
            "text/plain": [
              "<IPython.core.display.HTML object>"
            ]
          },
          "metadata": {},
          "output_type": "display_data"
        },
        {
          "data": {
            "text/html": [
              "<a href=\"https://www.youtube.com/watch?v=rnBbYsysPaU\">An introduction to inverse transform sampling</a>"
            ],
            "text/plain": [
              "<IPython.core.display.HTML object>"
            ]
          },
          "metadata": {},
          "output_type": "display_data"
        },
        {
          "data": {
            "text/html": [
              "<a href=\"https://www.youtube.com/watch?v=V8f8ueBc9sY\">An introduction to importance sampling</a>"
            ],
            "text/plain": [
              "<IPython.core.display.HTML object>"
            ]
          },
          "metadata": {},
          "output_type": "display_data"
        },
        {
          "data": {
            "text/html": [
              "<a href=\"https://www.youtube.com/watch?v=F5PdIQxMA28\">An introduction to importance sampling - optimal importance distributions</a>"
            ],
            "text/plain": [
              "<IPython.core.display.HTML object>"
            ]
          },
          "metadata": {},
          "output_type": "display_data"
        },
        {
          "data": {
            "text/html": [
              "<a href=\"https://www.youtube.com/watch?v=CfpRdmddVPM\">Why we typically use dependent sampling to sample from the posterior</a>"
            ],
            "text/plain": [
              "<IPython.core.display.HTML object>"
            ]
          },
          "metadata": {},
          "output_type": "display_data"
        },
        {
          "data": {
            "text/html": [
              "<a href=\"https://www.youtube.com/watch?v=wvTCiI1Hn5M\">What is the difference between independent and dependent sampling algorithms?</a>"
            ],
            "text/plain": [
              "<IPython.core.display.HTML object>"
            ]
          },
          "metadata": {},
          "output_type": "display_data"
        },
        {
          "data": {
            "text/html": [
              "<a href=\"https://www.youtube.com/watch?v=HYGix4NoJbU\">Effective sample size: representing the cost of dependent sampling</a>"
            ],
            "text/plain": [
              "<IPython.core.display.HTML object>"
            ]
          },
          "metadata": {},
          "output_type": "display_data"
        },
        {
          "data": {
            "text/html": [
              "<a href=\"https://www.youtube.com/watch?v=U561HGMWjcw\">An introduction to the Random Walk Metropolis algorithm</a>"
            ],
            "text/plain": [
              "<IPython.core.display.HTML object>"
            ]
          },
          "metadata": {},
          "output_type": "display_data"
        },
        {
          "data": {
            "text/html": [
              "<a href=\"https://www.youtube.com/watch?v=0MzH69hFdkE\">Using the Random Walk Metropolis algorithm to sample from a cow surface distribution</a>"
            ],
            "text/plain": [
              "<IPython.core.display.HTML object>"
            ]
          },
          "metadata": {},
          "output_type": "display_data"
        },
        {
          "data": {
            "text/html": [
              "<a href=\"https://www.youtube.com/watch?v=rxImfvwpWLA\">Constrained parameters? Use Metropolis-Hastings</a>"
            ],
            "text/plain": [
              "<IPython.core.display.HTML object>"
            ]
          },
          "metadata": {},
          "output_type": "display_data"
        },
        {
          "data": {
            "text/html": [
              "<a href=\"https://www.youtube.com/watch?v=3E33AScbU4s\">The importance of step size for Random Walk Metropolis</a>"
            ],
            "text/plain": [
              "<IPython.core.display.HTML object>"
            ]
          },
          "metadata": {},
          "output_type": "display_data"
        },
        {
          "data": {
            "text/html": [
              "<a href=\"https://www.youtube.com/watch?v=I4xoX7lJbL8\">Bob’s bees: the importance of using multiple bees (chains) to judge MCMC convergence</a>"
            ],
            "text/plain": [
              "<IPython.core.display.HTML object>"
            ]
          },
          "metadata": {},
          "output_type": "display_data"
        },
        {
          "data": {
            "text/html": [
              "<a href=\"https://www.youtube.com/watch?v=9AnzR23rpf8\">Using bees to demonstrate the importance of overdispersed Markov chains in MCMC</a>"
            ],
            "text/plain": [
              "<IPython.core.display.HTML object>"
            ]
          },
          "metadata": {},
          "output_type": "display_data"
        },
        {
          "data": {
            "text/html": [
              "<a href=\"https://www.youtube.com/watch?v=ER3DDBFzH2g\">An introduction to Gibbs sampling</a>"
            ],
            "text/plain": [
              "<IPython.core.display.HTML object>"
            ]
          },
          "metadata": {},
          "output_type": "display_data"
        },
        {
          "data": {
            "text/html": [
              "<a href=\"https://www.youtube.com/watch?v=9e4uqODjooo\">How to derive a Gibbs sampling routine in general</a>"
            ],
            "text/plain": [
              "<IPython.core.display.HTML object>"
            ]
          },
          "metadata": {},
          "output_type": "display_data"
        },
        {
          "data": {
            "text/html": [
              "<a href=\"https://www.youtube.com/watch?v=a-wydhEuAm0\">The intuition behind the Hamiltonian Monte Carlo algorithm</a>"
            ],
            "text/plain": [
              "<IPython.core.display.HTML object>"
            ]
          },
          "metadata": {},
          "output_type": "display_data"
        },
        {
          "data": {
            "text/html": [
              "<a href=\"https://www.youtube.com/watch?v=6JDhM2MIYh0\">What are divergent iterations and what to do about them?</a>"
            ],
            "text/plain": [
              "<IPython.core.display.HTML object>"
            ]
          },
          "metadata": {},
          "output_type": "display_data"
        },
        {
          "data": {
            "text/html": [
              "<a href=\"https://www.youtube.com/watch?v=CMSMtcMYHdM\">How to code up a bespoke probability density in Stan</a>"
            ],
            "text/plain": [
              "<IPython.core.display.HTML object>"
            ]
          },
          "metadata": {},
          "output_type": "display_data"
        },
        {
          "data": {
            "text/html": [
              "<a href=\"https://www.youtube.com/watch?v=YZZSYIx1-mw\">How to write your first Stan program</a>"
            ],
            "text/plain": [
              "<IPython.core.display.HTML object>"
            ]
          },
          "metadata": {},
          "output_type": "display_data"
        },
        {
          "data": {
            "text/html": [
              "<a href=\"https://www.youtube.com/watch?v=KOIudAB6vJ0\">How to code up a model with discrete parameters in Stan</a>"
            ],
            "text/plain": [
              "<IPython.core.display.HTML object>"
            ]
          },
          "metadata": {},
          "output_type": "display_data"
        },
        {
          "data": {
            "text/html": [
              "<a href=\"https://www.youtube.com/watch?v=mGaZHhGwF4Y\">The distribution zoo app to help to understand and use probability distributions</a>"
            ],
            "text/plain": [
              "<IPython.core.display.HTML object>"
            ]
          },
          "metadata": {},
          "output_type": "display_data"
        },
        {
          "data": {
            "text/html": [
              "<a href=\"https://www.youtube.com/watch?v=gSd1msFFZTw\">Centered versus non-centered hierarchical models</a>"
            ],
            "text/plain": [
              "<IPython.core.display.HTML object>"
            ]
          },
          "metadata": {},
          "output_type": "display_data"
        }
      ],
      "source": [
        "# output list of titles as hyperlinks for pasting into checklist (google doc)\n",
        "hyperlink_format = '<a href=\"{link}\">{text}</a>'\n",
        "\n",
        "titles = df['title'].values\n",
        "links = df['url'].values\n",
        "\n",
        "for a in zip(titles, links):\n",
        "  display(HTML(hyperlink_format.format(link=a[1], text=a[0])))"
      ]
    },
    {
      "cell_type": "markdown",
      "metadata": {
        "id": "pbuu2HonFZcE"
      },
      "source": [
        "## References"
      ]
    },
    {
      "cell_type": "markdown",
      "metadata": {
        "id": "6PBM-izzGWEW"
      },
      "source": [
        "1) https://pytube.io/en/latest/api.html#pytube.YouTube\n",
        "\n",
        "2) https://stackoverflow.com/questions/54710982/using-pytube-to-download-playlist-from-youtube"
      ]
    }
  ],
  "metadata": {
    "colab": {
      "authorship_tag": "ABX9TyME5KgbfzFXk2Op8iGhQfMI",
      "include_colab_link": true,
      "provenance": [],
      "toc_visible": true
    },
    "kernelspec": {
      "display_name": "data-driven-notebooks.venv",
      "language": "python",
      "name": "python3"
    },
    "language_info": {
      "name": "python",
      "version": "3.9.16"
    },
    "vscode": {
      "interpreter": {
        "hash": "af1c1da3c38a2c9afd60bbb93df68f8878eaaf1ff1f4b8bd52105baf2dd64e7a"
      }
    }
  },
  "nbformat": 4,
  "nbformat_minor": 0
}
