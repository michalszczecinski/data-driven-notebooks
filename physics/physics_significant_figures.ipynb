{
  "nbformat": 4,
  "nbformat_minor": 0,
  "metadata": {
    "colab": {
      "name": "physics_significant_figures.ipynb",
      "provenance": [],
      "collapsed_sections": [],
      "toc_visible": true,
      "authorship_tag": "ABX9TyOR378AgAIuOSHGSXrWqOqT",
      "include_colab_link": true
    },
    "kernelspec": {
      "name": "python3",
      "display_name": "Python 3"
    },
    "language_info": {
      "name": "python"
    }
  },
  "cells": [
    {
      "cell_type": "markdown",
      "metadata": {
        "id": "view-in-github",
        "colab_type": "text"
      },
      "source": [
        "<a href=\"https://colab.research.google.com/github/michalszczecinski/data-driven-notebooks/blob/master/physics/physics_significant_figures.ipynb\" target=\"_parent\"><img src=\"https://colab.research.google.com/assets/colab-badge.svg\" alt=\"Open In Colab\"/></a>"
      ]
    },
    {
      "cell_type": "markdown",
      "metadata": {
        "id": "G5hFjqMYbv7J"
      },
      "source": [
        "# Significant figures\n",
        "\n",
        "Calculators usually give us many digits in an answer. How do we decide how many digits to write down for the final answer?"
      ]
    },
    {
      "cell_type": "markdown",
      "metadata": {
        "id": "0VrwSf9tcPtk"
      },
      "source": [
        "- Scientists use a method of rounding to a certain number of `significant figures`.\n",
        "- \"Significant\" here means **meaningful**.\n",
        "- `Significant figures` are often abbreviated to `s.f.`"
      ]
    },
    {
      "cell_type": "markdown",
      "metadata": {
        "id": "Py6Gmbv_dWfu"
      },
      "source": [
        "## Examples (basic demonstration)"
      ]
    },
    {
      "cell_type": "markdown",
      "metadata": {
        "id": "YjzS22QMdriH"
      },
      "source": [
        "1. **84072**\n",
        "  - **8** is the most significant digit because it tells us that the number is **80 thousand** plus \"something\"\n",
        "  - **4** is the next most significant digit, telling us that there are also **4 thousand** and something.    \n",
        "2. **0.002451**\n",
        "  - **2** is the most significant digit because it tells us the number is 2 thousandths and something.\n",
        "  - **4** is next most significant digit because it tells us there are also 4 **ten thousandths** and something.\n",
        "  - if we wish to express this number to two significant figures we would round it up to 0.0025\n",
        "  - note: when we have a number like 0.00245, the digit after 4 is 5 so we would have equal justification (since 5 is in the middle) to round it either:\n",
        "  \n",
        "    a) down to to 0.0024 or  \n",
        "    b) up to 0.0025. "
      ]
    },
    {
      "cell_type": "markdown",
      "metadata": {
        "id": "PTvSiBQCN2JH"
      },
      "source": [
        "## Examples (with scientific notation)\n",
        "\n",
        "1. **Speed of light: 299 792 458 m/s**\n",
        "  - rounded to 3 significant digits: 300 000 000 m/d\n",
        "  - in scientific notation: $3 x 10^{8}$ (to 3 s.f.)\n",
        "2. **Mass of the Sun: 1,988,500 x $10^{24}$ kg** [2]\n",
        "  - to four significant figures: 1 989 000 000 000 000 000 000 000 000 000 (that is 1989 and twenty-seven zeros)\n",
        "  - to convert to scientific notation we write it as 1.989 (we imagine that we move the decimal point 30 places to the left, from 1989...000.0...)\n",
        "  - this brings our number to original number and we can write it as $1.989 x 10^{30}$\n",
        "3. **Charge on the electron: 0.000 000 000 000 000 000 1602 coulombs**\n",
        "  - we write coefficient as 1.602 (we move the decimal point 19 places to the right, 18 zeros plus one time after 1) \n",
        "  - and we write number as $1.602 x 10^{-19}$\n",
        "  - coefficient 1.602; base 10; exponent -19"
      ]
    },
    {
      "cell_type": "markdown",
      "metadata": {
        "id": "WGPzNr7YedQD"
      },
      "source": [
        "## Rules for using significant figures"
      ]
    },
    {
      "cell_type": "markdown",
      "metadata": {
        "id": "_QFmw-Oj8zCV"
      },
      "source": [
        "1. A digit that is not zero will always be significant (e.g. 345 is 3 s.f.).\n",
        "2. Zeros that occur sandwiched between non-zero digits are always significant - 3405 (4 s.f.); 10.3405 (6 s.f.).\n",
        "3. Non-sandwiched zeros that occur to the left of non-zero digit are **not** significant - 0.345 (3 s.f); 0.0034 (2 s.f)\n",
        "4. Zeros that occur to the right of the decimal point after non-zero digit are significant - 1.034 (4 s.f.); 1.00 (3 s.f.); 0.34500 (5 s.f.); 0.003 (1 s.f).\n",
        "5. When there is no decimal point, trailing zeros are not significant. To make them significant there needs to be a decimal point - 400 (1 s.f.); 400. (3 s.f.) - but this is rarely written."
      ]
    },
    {
      "cell_type": "markdown",
      "metadata": {
        "id": "F_BSkLHfTSrL"
      },
      "source": [
        "## References\n",
        "\n",
        "[1] Physics (Oxford IB diploma programme, 2014)\n",
        "\n",
        "[2] [Nasa Sun Fact Sheet](https://nssdc.gsfc.nasa.gov/planetary/factsheet/sunfact.html)"
      ]
    }
  ]
}