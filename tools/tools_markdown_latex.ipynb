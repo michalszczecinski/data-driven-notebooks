{
  "nbformat": 4,
  "nbformat_minor": 0,
  "metadata": {
    "colab": {
      "name": "tools_markdown_latex.ipynb",
      "provenance": [],
      "collapsed_sections": [],
      "toc_visible": true,
      "include_colab_link": true
    },
    "kernelspec": {
      "name": "python3",
      "display_name": "Python 3"
    }
  },
  "cells": [
    {
      "cell_type": "markdown",
      "metadata": {
        "id": "view-in-github",
        "colab_type": "text"
      },
      "source": [
        "<a href=\"https://colab.research.google.com/github/michalszczecinski/data-driven-notebooks/blob/master/tools/tools_markdown_latex.ipynb\" target=\"_parent\"><img src=\"https://colab.research.google.com/assets/colab-badge.svg\" alt=\"Open In Colab\"/></a>"
      ]
    },
    {
      "cell_type": "markdown",
      "metadata": {
        "id": "y4diBHKAELsH"
      },
      "source": [
        "# Markdown and LaTeX reference\n",
        "\n",
        "Please note: Open the notebook in Colab and double click on cells to see Latex syntax. Following formatting works in the `Colab markdown style`, some elements are not properly rendered in the `GitHub style of markdown`."
      ]
    },
    {
      "cell_type": "markdown",
      "metadata": {
        "id": "RMIcmfOxEr1I"
      },
      "source": [
        "#Markdown\n"
      ]
    },
    {
      "cell_type": "markdown",
      "metadata": {
        "id": "q9AnessjErun"
      },
      "source": [
        "##Headings\n",
        "\n",
        "# Heading 1\n",
        "## Heading 2\n",
        "### Heading 3\n",
        "#### Heading 4\n",
        "##### Heading 5\n",
        "###### Heading 6"
      ]
    },
    {
      "cell_type": "markdown",
      "metadata": {
        "id": "Ti6TaA5lErsI"
      },
      "source": [
        "##Paragraph\n",
        "Paragraphs are represented by the \\<p> tag in HTML. In Markdown, they’re separated by one or more blank lines. Like HTML, whitespace is ignored. So if you add 10 blank lines, you’re still only going to have one paragraph.\n",
        "___\n",
        "\n",
        "This is a paragraph of text.   \n",
        "\n",
        "This is another paragraph of text.\n",
        "___"
      ]
    },
    {
      "cell_type": "markdown",
      "metadata": {
        "id": "QDvhBqZYErh5"
      },
      "source": [
        "##Line breaks\n",
        "Just end a line with two or more spaces , then type return. Or leave an empty line.\n",
        "___\n",
        "\n",
        "This is a text.     \n",
        "This is another text.\n",
        "___\n",
        "Alternatively can use \\<br> tag\n",
        "___\n",
        "First line.<br>\n",
        "Second line.\n",
        "___"
      ]
    },
    {
      "cell_type": "markdown",
      "metadata": {
        "id": "cJEt55GRErfd"
      },
      "source": [
        "##Mark emphasis\n",
        "\n",
        "Emphasis, aka italics, with *asterisks* or _underscores_.\n",
        "\n",
        "Strong emphasis, aka bold, with **asterisks** or __underscores__.\n",
        "\n",
        "Combined emphasis with **asterisks and _underscores_**.\n",
        "\n",
        "Strikethrough uses two tildes ~ . ~~Scratch this.~~"
      ]
    },
    {
      "cell_type": "markdown",
      "metadata": {
        "id": "8WHwnW5kEraB"
      },
      "source": [
        "##Lists\n",
        "\n",
        "1. Item 1\n",
        "2. Item 2 ( we can type 1. and the markdown will automatically numerate them) \n",
        "* First Item\n",
        "  * Nested item 1\n",
        "  * Nested item 2\n",
        "    1. Keep going\n",
        "    1. Yes\n",
        "  \n",
        "* Second Item\n",
        "- First Item\n",
        "- Second Item"
      ]
    },
    {
      "cell_type": "markdown",
      "metadata": {
        "id": "vwNK8mMSGfYZ"
      },
      "source": [
        "## Links\n",
        "To create a link, you must place the text of the link in square brackets followed by the URL in parentheses. \n",
        "___\n",
        "<!-- [Text](link) -->\n",
        "[Link Text](https://medium.com/@ahmedazizkhelifi \"Optional Title\")\n",
        "<!-- ![Alt Text](image path \"title\") -->\n",
        "___\n"
      ]
    },
    {
      "cell_type": "markdown",
      "metadata": {
        "id": "bDVFovf1mbXz"
      },
      "source": [
        "## Images\n",
        "Images are almost inserted in the same way as links, add an exclamation mark (!), followed by alt text in brackets, and the path or URL to the image asset in parentheses.\n",
        "___\n",
        "![Alt Text](https://upload.wikimedia.org/wikipedia/commons/thumb/4/45/LaTeX_project_logo_bird.svg/2560px-LaTeX_project_logo_bird.svg.png \"Latex Logo\")\n",
        "___\n",
        "\n",
        "Image with link\n",
        "___\n",
        "<!-- [![Alt Text](image path \"title\")](link) -->\n",
        "[![Alt Text](https://upload.wikimedia.org/wikipedia/commons/thumb/4/45/LaTeX_project_logo_bird.svg/2560px-LaTeX_project_logo_bird.svg.png \"Optional Title\")](https://en.wikipedia.org/wiki/LaTeX)\n",
        "___\n",
        "By Jonas Jacek <span class=\"url\"><a rel=\"nofollow\" class=\"external text\" href=\"https://jonas.me/\">jonas.me</a></span>, <a href=\"https://creativecommons.org/licenses/by/4.0\" title=\"Creative Commons Attribution 4.0\">CC BY 4.0</a>, <a href=\"https://commons.wikimedia.org/w/index.php?curid=89012582\">Link</a>"
      ]
    },
    {
      "cell_type": "markdown",
      "metadata": {
        "id": "dJ5GQ3YCGfQH"
      },
      "source": [
        "##Horizontal Rule\n",
        "\n",
        "To create a horizontal rule, use three or more asterisks (***) or underscores (___) on a line by themselves.\n",
        "Reading articles on Medium is awesome.\n",
        "***\n",
        "Sure !!"
      ]
    },
    {
      "cell_type": "markdown",
      "metadata": {
        "id": "wDS958ruGfDl"
      },
      "source": [
        "##Table\n",
        "Use \\ before the dollar signs $, on your Notebook, otherwise, you’ll enter the math display mode (check it out on the LaTeX side).\n",
        "___\n",
        "| Id | Label    | Price |\n",
        "|--- |----------| ------|\n",
        "| 01 | Markdown | \\$1600 |\n",
        "| 02 | is       |   \\$12 |\n",
        "| 03 | AWESOME  |  \\$999 |\n",
        "\n",
        "___"
      ]
    },
    {
      "cell_type": "markdown",
      "metadata": {
        "id": "VFlrkMlTpPCy"
      },
      "source": [
        "### Table Generator\n",
        "\n",
        "https://www.tablesgenerator.com/markdown_tables"
      ]
    },
    {
      "cell_type": "markdown",
      "metadata": {
        "id": "iwtoEj_npbfX"
      },
      "source": [
        "| notation         | origin                                                                                                                                                                                                     |   |\n",
        "|-------------|-------------------------------------------------------------------------------------------------------------------------------------------------------------------------------------------------|---|\n",
        "|$arccosh (x)$ | Analogy with the nomenclature for inverse trigonometric functions. It is misnomer, since the prefix arc is the abbreviation for arcus, while the prefix ar stands for area.                     |   |\n",
        "|$arcosh (x)$ | The most common abbreviations are those specified by the ISO 80000-2 standard. They consist of ar-followed by the abbreviation of the corresponding hyperbolic function (e.g., arsinh, arcosh). |   |\n",
        "| $argcosh (x)$   | Prefix arg is the abbreviation of the Latin argumentum.                                                                                                                                         |   |\n",
        "| $acosh (x)$     | In computer science, argsinh is often shortened to asinh.|   |\n",
        "|$cosh^{-1} (x)$ | The notation $sinh−1(x)$, $cosh−1(x)$, etc., is also used, despite the fact that care must be taken to avoid misinterpretations of the superscript −1 as a power, as opposed to a shorthand to denote the inverse function (e.g., $cosh^{−1}(x)$ versus $cosh(x)^{−1}$)..                                                                                                                                                                                                |   |"
      ]
    },
    {
      "cell_type": "markdown",
      "metadata": {
        "id": "MQrtBJ3KH1Nj"
      },
      "source": [
        "##Code and Syntax Highlighting\n",
        "\n",
        "```python\n",
        "def stay_awesome(situation)\n",
        "  if not solved:\n",
        "    return solution\n",
        "```"
      ]
    },
    {
      "cell_type": "markdown",
      "metadata": {
        "id": "52zLR8keH1A4"
      },
      "source": [
        "## Blockquotes\n",
        "> This is a blockquote.\n",
        ">  \n",
        "> This is part of the same blockquote.\n",
        "\n",
        "Quote break\n",
        "> This is a new blockquote."
      ]
    },
    {
      "cell_type": "markdown",
      "metadata": {
        "id": "Frvm0wDOE4vh"
      },
      "source": [
        "#LaTeX"
      ]
    },
    {
      "cell_type": "markdown",
      "metadata": {
        "id": "fiZwHP0czJyT"
      },
      "source": [
        "To insert a mathematical formula we use the dollar symbol $, as follows:\n",
        "\n",
        "Euler's identity: $ e^{i \\pi} + 1 = 0 $\n",
        "\n",
        "To isolate and center the formulas and enter in math display mode, we use 2 dollars symbol:\n",
        "$$\n",
        "...\n",
        "$$\n",
        "\n",
        "\n",
        "Euler's identity: $$ e^{i \\pi} + 1 = 0 $$\n",
        "\n"
      ]
    },
    {
      "cell_type": "markdown",
      "metadata": {
        "id": "1v3l2nNmNN7_"
      },
      "source": [
        "##Important Note\n",
        "$$\n",
        "\\frac{arg 1}{arg 2} \\\\\n",
        "x^2\\\\\n",
        "e^{i\\pi}\\\\\n",
        "A_i\\\\\n",
        "B_{ij}\\\\\n",
        "\\sqrt[n]{arg}\t\n",
        "$$"
      ]
    },
    {
      "cell_type": "markdown",
      "metadata": {
        "id": "kw4-k5-epuIs"
      },
      "source": [
        "## Lines of equations\n",
        "\n",
        "\\begin{equation}\n",
        "E = F \\cdot s \n",
        "\\end{equation}"
      ]
    },
    {
      "cell_type": "markdown",
      "metadata": {
        "id": "NsUJ1M1aE9X1"
      },
      "source": [
        "## Greek Letters:"
      ]
    },
    {
      "cell_type": "markdown",
      "metadata": {
        "id": "go3imAWqE9au"
      },
      "source": [
        "Given : $\\pi = 3.14$ , $\\alpha = \\frac{3\\pi}{4}\\, rad$\n",
        "$$\n",
        "\\omega = 2\\pi f \\\\\n",
        "f = \\frac{c}{\\lambda}\\\\\n",
        "\\lambda_0=\\theta^2+\\delta\\\\\n",
        "\\Delta\\lambda = \\frac{1}{\\lambda^2}\n",
        "$$"
      ]
    },
    {
      "cell_type": "markdown",
      "metadata": {
        "id": "VFaCoSXvS-_H"
      },
      "source": [
        "### Important Note:\n",
        "\n",
        "|Uppercase| LaTeX |Lowercase| LaTeX | \n",
        "|---------|-------|---------|-------|\n",
        "|$\\Delta$ |\\\\Delta|$\\delta$ |\\\\delta|\n",
        "|$\\Omega$ |\\\\Omega|$\\omega$ |\\\\omega|"
      ]
    },
    {
      "cell_type": "markdown",
      "metadata": {
        "id": "3aD-y9kO523a"
      },
      "source": [
        "#Roman Names:\n",
        "$$\n",
        "\\sin(-\\alpha)=-\\sin(\\alpha)\\\\\n",
        "\\arccos(x)=\\arcsin(u)\\\\\n",
        "\\log_n(n)=1\\\\\n",
        "\\tan(x) = \\frac{\\sin(x)}{\\cos(x)}\n",
        "$$"
      ]
    },
    {
      "cell_type": "markdown",
      "metadata": {
        "id": "3kqXNJstXfYs"
      },
      "source": [
        "#Other Symbols"
      ]
    },
    {
      "cell_type": "markdown",
      "metadata": {
        "id": "-9lCpf30Xiki"
      },
      "source": [
        "## Relation operators\n",
        "Is equal to : $=$  \n",
        "Is less than or equal to : $\\leq$  \n",
        "Is greater or equal to : $\\geq$  \n",
        "Is not equal to : $\\ne$  \n",
        "Is equivalent to : $\\equiv$  \n",
        "Is approximately : $\\approx$  \n",
        "Is proportional to : $\\propto$  \n",
        "\n",
        "\n"
      ]
    },
    {
      "cell_type": "markdown",
      "metadata": {
        "id": "-888LBso8HS1"
      },
      "source": [
        "\n",
        "## Angles:\n",
        "Left angle : $\\langle$\n",
        "\n",
        "Right angle : $\\rangle$\n",
        "\n",
        "Angle between two vectors u and v\t: $\\langle \\vec{u},\\vec{v}\\rangle$\t\n",
        "\n",
        "$$ \\vec{AB} \\, \\cdot \\, \\vec{CD} =0  \\Rightarrow  \\vec{AB} \\, \\perp\\, \\vec{CD}$$\n",
        "\n",
        "##Sets and logic\n",
        "$$\\mathbb{N} \\subset \\mathbb{Z} \\subset \\mathbb{D} \\subset \\mathbb{Q} \\subset \\mathbb{R} \\subset \\mathbb{C}$$"
      ]
    },
    {
      "cell_type": "markdown",
      "metadata": {
        "id": "XPXiLu3IE9gO"
      },
      "source": [
        "# Vertical curly braces: \n",
        "\n",
        "\n",
        "$$\n",
        "sign(x) = \\left\\{\n",
        "    \\begin{array}\\\\\n",
        "        1 & \\mbox{if } \\ x \\in \\mathbf{N}^* \\\\\n",
        "        0 & \\mbox{if } \\ x = 0 \\\\\n",
        "        -1 & \\mbox{else.}\n",
        "    \\end{array}\n",
        "\\right.\n",
        "$$\n",
        "\n",
        "\\\\\n",
        "\n",
        "$$\n",
        " \\left.\n",
        "    \\begin{array} \\\\\n",
        "        \\alpha^2 = \\sqrt5 \\\\\n",
        "        \\alpha \\geq 0 \n",
        "    \\end{array}\n",
        "\\right \\} \\alpha = 5 \n",
        "$$"
      ]
    },
    {
      "cell_type": "markdown",
      "metadata": {
        "id": "xzu2CyGLE9iy"
      },
      "source": [
        "# Horizontal curly braces $\\underbrace{}$\n",
        "\n",
        "\n",
        "$$\n",
        "\\underbrace{\\ln \\left( \\frac{5}{6} \\right)}_{\\simeq -0.1823}\n",
        "< \\overbrace{\\exp (2)}^{\\simeq 7.3890}\n",
        "$$"
      ]
    },
    {
      "cell_type": "markdown",
      "metadata": {
        "id": "S06VqebHE9mE"
      },
      "source": [
        "#Derivate \n",
        "\n",
        "First order derivative : $$f'(x)$$ \n",
        "K-th order derivative  : $$f^{(k)}(x)$$\n",
        "Partial firt order derivative\t: $$\\frac{\\partial f}{\\partial x}$$\n",
        "Partial k-th order derivative\t: $$\\frac{\\partial^{k} f}{\\partial x^k}$$\n",
        "\n"
      ]
    },
    {
      "cell_type": "markdown",
      "metadata": {
        "id": "9eGgqyQ4E9oC"
      },
      "source": [
        "#Limit $\\lim$\n",
        "Limit at plus infinity\t: $$\\lim_{x \\to +\\infty} f(x)$$ \n",
        "Limit at minus infinity\t: $$\\lim_{x \\to -\\infty} f(x)$$\t\n",
        "Limit at $\\alpha$  : $$\\lim_{x \\to \\alpha} f(x)$$\n",
        "\n",
        "Max : $$\\max_{x \\in [a,b]}f(x)$$\t\n",
        "Min : $$\\min_{x \\in [\\alpha,\\beta]}f(x)$$\t\n",
        "Sup : $$\\sup_{x \\in \\mathbb{R}}f(x)$$\t\n",
        "Inf : $$\\inf_{x > s}f(x)$$\t\n"
      ]
    },
    {
      "cell_type": "markdown",
      "metadata": {
        "id": "m6Q0JcCYE9qm"
      },
      "source": [
        "#Sum $\\sum$\n",
        "Sum from 0 to +inf:\n",
        "\n",
        "$$\\sum_{j=0}^{+\\infty} A_{j}$$\n",
        "\n",
        "Double sum:\n",
        "$$\\sum^k_{i=1}\\sum^{l+1}_{j=1}\\,A_i A_j$$\t\n",
        "\n",
        "\n",
        "Taylor expansion of $e^x$:\n",
        "$$ e^x  = \\sum_{k=0}^{n}\\, \\frac{x^k}{k!} + o(x^n) $$ \n",
        "\n",
        "\n"
      ]
    },
    {
      "cell_type": "markdown",
      "metadata": {
        "id": "twn8CTHSE9tH"
      },
      "source": [
        "#Product $\\prod$\n",
        "Product:\n",
        "$$\\prod_{j=1}^k A_{\\alpha_j}$$\n",
        "Double product:\n",
        "$$\\prod^k_{i=1}\\prod^l_{j=1}\\,A_i A_j$$\t\n"
      ]
    },
    {
      "cell_type": "markdown",
      "metadata": {
        "id": "aYWkttHLE9vs"
      },
      "source": [
        "#Integral : $\\int$\n",
        "\n",
        "Simple integral:\n",
        "$$\\int_{a}^b f(x)dx$$\n",
        "\n",
        "Double integral:\n",
        "$$\\int_{a}^b\\int_{c}^d f(x,y)\\,dxdy$$\t\n",
        "\n",
        "Triple integral:\n",
        "$$\\iiint$$\t\n",
        "\n",
        "Quadruple integral:\n",
        "$$\\iiiint$$\t\n",
        "\n",
        "Multiple integral :\n",
        "$$\\idotsint$$\n",
        "\n",
        "Contour integral:\n",
        "$$\\oint$$\t\n",
        "\n",
        "\n",
        "\n"
      ]
    },
    {
      "cell_type": "markdown",
      "metadata": {
        "id": "z3qGgxul048v"
      },
      "source": [
        "#Matrix \n",
        "\n",
        "Plain:\n",
        "\n",
        "\\begin{matrix}\n",
        "1 & 2 & 3\\\\\n",
        "a & b & c\n",
        "\\end{matrix}\n",
        "\n",
        "Round brackets:\n",
        "\\begin{pmatrix}\n",
        "1 & 2 & 3\\\\\n",
        "a & b & c\n",
        "\\end{pmatrix}\n",
        "\n",
        "Curly brackets:\n",
        "\\begin{Bmatrix}\n",
        "1 & 2 & 3\\\\\n",
        "a & b & c\n",
        "\\end{Bmatrix}\t\n",
        "\n",
        "Pipes:\n",
        "\\begin{vmatrix}\n",
        "1 & 2 & 3\\\\\n",
        "a & b & c\n",
        "\\end{vmatrix}\n",
        "\n",
        "Double pipes\n",
        "\\begin{Vmatrix}\n",
        "1 & 2 & 3\\\\\n",
        "a & b & c\n",
        "\\end{Vmatrix}"
      ]
    },
    {
      "cell_type": "markdown",
      "metadata": {
        "id": "EkhkocV_lGqi"
      },
      "source": [
        "## References\n",
        "\n",
        "1. [Write Markdown Latex (Medium) - Read this article for more details.](https://towardsdatascience.com/write-markdown-latex-in-the-jupyter-notebook-10985edb91fd \"Medium\")\n",
        "1. [Markdown_LaTeX_Medium.ipynb](https://colab.research.google.com/drive/18_2yFdH8G-6NXY_7fTcshMoScgJ-SYac#scrollTo=aYWkttHLE9vs)\n",
        "1. http://tug.ctan.org/info/undergradmath/undergradmath.pdf\n",
        "2. https://oeis.org/wiki/List_of_LaTeX_mathematical_symbols "
      ]
    }
  ]
}