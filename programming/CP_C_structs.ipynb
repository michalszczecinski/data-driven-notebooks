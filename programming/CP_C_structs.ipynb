{
  "nbformat": 4,
  "nbformat_minor": 0,
  "metadata": {
    "colab": {
      "name": "CP_C_structs.ipynb",
      "provenance": [],
      "collapsed_sections": [],
      "authorship_tag": "ABX9TyONN+TS/mBHWYoqkWqWwZS7",
      "include_colab_link": true
    },
    "kernelspec": {
      "name": "python3",
      "display_name": "Python 3"
    },
    "language_info": {
      "name": "python"
    }
  },
  "cells": [
    {
      "cell_type": "markdown",
      "metadata": {
        "id": "view-in-github",
        "colab_type": "text"
      },
      "source": [
        "<a href=\"https://colab.research.google.com/github/michalszczecinski/data-driven-notebooks/blob/master/programming/CP_C_structs.ipynb\" target=\"_parent\"><img src=\"https://colab.research.google.com/assets/colab-badge.svg\" alt=\"Open In Colab\"/></a>"
      ]
    },
    {
      "cell_type": "markdown",
      "source": [
        "#Computer Programming - C structs"
      ],
      "metadata": {
        "id": "pZ9XX58RNsfm"
      }
    },
    {
      "cell_type": "markdown",
      "source": [
        "\n",
        "\n",
        "* Rolling our own data structures\n",
        "* Declaring and using structs\n"
      ],
      "metadata": {
        "id": "YDC16iVnMrjJ"
      }
    },
    {
      "cell_type": "markdown",
      "source": [
        "## What is a Struct data type and why do we use it?\n",
        "\n",
        "* The word Struct is short for `structured data type`\n",
        "* structs allow you to model real-world complexities by writing your own structures\n",
        "* we use structs if we want to bundle different pieces of data\n",
        "* by wrapping all those different pieces of data we make it easier to read and mantain the code\n",
        "* we can pass one variable into functions instead of passing multiple pieces of information each time\n",
        "* wrapping parameters in a struct makes your code more stable, for example we can add extra field in struct without affecting existing functions"
      ],
      "metadata": {
        "id": "C2DFLxrUG-9I"
      }
    },
    {
      "cell_type": "markdown",
      "source": [
        "Example of struct definition\n",
        "```\n",
        "struct fish {\n",
        "    const char *name; \n",
        "    const char *species;\n",
        "    int teeth;\n",
        "    int age;\n",
        "};\n",
        "```"
      ],
      "metadata": {
        "id": "Rwpo_CtH-Rzj"
      }
    },
    {
      "cell_type": "markdown",
      "source": [
        "## What are Struct characteristics ?\n",
        "\n",
        "* a struct is a data type made from a sequence of other data types\n",
        "* it is fixed length\n",
        "* the pieces of data inside the struct are given names\n",
        "* it can combine different variable types (unlike array which is used for storing data of the same type)\n",
        "* even though a struct stores fields like an array, the only way to access them is by name, we can do this by `\".\"` operator\n",
        "* struct fields are accessed by name using the <struct>.<field_name> syntax (aka dot notation)\n",
        "* structs are similar to `classes` in other languages but it is not as easy to add methods to structs\n",
        "* when we define a struct, we are not telling computer to create anything in memory; we are just giving it a `template` for how we want a new type of data to look\n",
        "* struct fields are stored in memory in the same order they appear in the code\n",
        "* you can nest structs\n",
        "* `typedef` creates an alias for a data type\n",
        "* if you use `typedef` with a `struct` then you can skip giving the `struct` a name\n",
        "* when you call a function, the values are copied to the parameter variables\n",
        "* you can create pointers to structs, just like any other type\n",
        "* `pointer ->field` is the sane as `(*pointer).field`\n",
        "* the `->` notation cuts down on parentheses and makes the code more readable\n"
      ],
      "metadata": {
        "id": "_F3Z0xZL4ycE"
      }
    },
    {
      "cell_type": "markdown",
      "source": [
        "Example of using struct\n",
        "\n",
        "```\n",
        "struct fish snappy = {\"Snappy\", \"piranha\", 69, 4};\n",
        "printf(\"Name = %s\\n\", snappy.name);\n",
        "```"
      ],
      "metadata": {
        "id": "LTjSS4J6-kcn"
      }
    },
    {
      "cell_type": "markdown",
      "source": [
        "### Create your own structured data types with a struct"
      ],
      "metadata": {
        "id": "7s_HKtLZHODa"
      }
    },
    {
      "cell_type": "code",
      "source": [
        "%%writefile struct_example.c\n",
        "\n",
        "#include <stdio.h>\n",
        "\n",
        "struct fish {\n",
        "    // const char* is used for strings you do not want to change\n",
        "    // it is often used to record string literals\n",
        "    const char *name; \n",
        "    const char *species;\n",
        "    int teeth;\n",
        "    int age;\n",
        "};\n",
        "\n",
        "/* Print out the catalog entry \n",
        "notice that thanks to struct we dont have to include multiple variables\n",
        "which would look like\n",
        "void catalog(const char *name, const char *species, int teeth, int age)\n",
        "*/\n",
        "void catalog(struct fish f)\n",
        "{\n",
        "    // note we are refering to f. and not fish., otherwise it would prompt undefined variable error\n",
        "    // fish is a name for struct we defined, f is local variable in function\n",
        "    printf(\"%s is a %s with %i teeth. It is %i. \\n\", f.name, f.species, f.teeth, f.age);\n",
        "}\n",
        "\n",
        "void label(struct fish f)\n",
        "{\n",
        "    printf(\"Name: %s\\nSpieces: %s\\nTeeth: %i\\nYears: %i\\n\",f.name, f.species, f.teeth, f.age);\n",
        "}\n",
        "\n",
        "int main(void)\n",
        "{\n",
        "  struct fish snappy = {\"Snappy\", \"Piranha\", 69, 4};\n",
        "  catalog(snappy);\n",
        "  label(snappy);\n",
        "  return 0;\n",
        "}"
      ],
      "metadata": {
        "colab": {
          "base_uri": "https://localhost:8080/"
        },
        "id": "ysRCBy7dDnEc",
        "outputId": "3eb71333-83d9-4371-dfa3-e6c8d87a4586"
      },
      "execution_count": 1,
      "outputs": [
        {
          "output_type": "stream",
          "name": "stdout",
          "text": [
            "Writing struct_example.c\n"
          ]
        }
      ]
    },
    {
      "cell_type": "code",
      "source": [
        "# Using make to compile the C code into a binary file called struct_example\n",
        "%%shell\n",
        "make struct_example && ./struct_example\n",
        "gcc struct_example.c -o struct_example"
      ],
      "metadata": {
        "colab": {
          "base_uri": "https://localhost:8080/"
        },
        "id": "4v0ByY7M_s-V",
        "outputId": "f92a7204-8182-4c2d-d20c-6f6509081177"
      },
      "execution_count": 6,
      "outputs": [
        {
          "output_type": "stream",
          "name": "stdout",
          "text": [
            "make: 'struct_example' is up to date.\n",
            "Snappy is a Piranha with 69 teeth. It is 4. \n",
            "Name: Snappy\n",
            "Spieces: Piranha\n",
            "Teeth: 69\n",
            "Years: 4\n"
          ]
        },
        {
          "output_type": "execute_result",
          "data": {
            "text/plain": [
              ""
            ]
          },
          "metadata": {},
          "execution_count": 6
        }
      ]
    },
    {
      "cell_type": "code",
      "source": [
        "! ls -la"
      ],
      "metadata": {
        "colab": {
          "base_uri": "https://localhost:8080/"
        },
        "id": "Y3jhhx2fAkhu",
        "outputId": "6dcba930-bb56-484d-e2d1-20c81a15d92f"
      },
      "execution_count": 7,
      "outputs": [
        {
          "output_type": "stream",
          "name": "stdout",
          "text": [
            "total 44\n",
            "drwxr-xr-x 1 root root 4096 Jun 10 00:27 .\n",
            "drwxr-xr-x 1 root root 4096 Jun 10 00:18 ..\n",
            "drwxr-xr-x 4 root root 4096 Jun  1 13:49 .config\n",
            "-rwxr-xr-x 1 root root 8376 Jun 10 00:24 output\n",
            "drwxr-xr-x 1 root root 4096 Jun  1 13:50 sample_data\n",
            "-rwxr-xr-x 1 root root 8376 Jun 10 00:27 struct_example\n",
            "-rw-r--r-- 1 root root  975 Jun 10 00:19 struct_example.c\n"
          ]
        }
      ]
    },
    {
      "cell_type": "markdown",
      "source": [
        "### Nested structs"
      ],
      "metadata": {
        "id": "tam6FnvOb8Mn"
      }
    },
    {
      "cell_type": "code",
      "source": [
        "%%writefile struct_example.c\n",
        "\n",
        "#include <stdio.h>\n",
        "\n",
        "struct preferences {\n",
        "    const char *food;\n",
        "    float exercise_hours;\n",
        "};\n",
        "\n",
        "struct fish {\n",
        "    const char *name; \n",
        "    const char *species;\n",
        "    int teeth;\n",
        "    int age;\n",
        "    // nesting, new field is called \"care\" \n",
        "    // but it will contain fields defined by the \"preferences\" struct\n",
        "    struct preferences care; \n",
        "};\n",
        "\n",
        "int main(void)\n",
        "{\n",
        "  struct fish snappy = {\"Snappy\", \"Piranha\", 69, 4, {\"Meat\", 7.5}};\n",
        "  printf(\"Snappy likes to eat %s\\n\", snappy.care.food);\n",
        "  printf(\"Snappy likes to exercise for %f hours\\n\", snappy.care.exercise_hours);\n",
        "  return 0;\n",
        "}"
      ],
      "metadata": {
        "colab": {
          "base_uri": "https://localhost:8080/"
        },
        "id": "5y_Ly4NtcIqa",
        "outputId": "14d2dd0e-20bd-4f5f-d86a-750314bdf6fb"
      },
      "execution_count": 11,
      "outputs": [
        {
          "output_type": "stream",
          "name": "stdout",
          "text": [
            "Overwriting struct_example.c\n"
          ]
        }
      ]
    },
    {
      "cell_type": "code",
      "source": [
        "# Using make to compile the C code into a binary file called struct_example\n",
        "%%shell\n",
        "make struct_example && ./struct_example\n",
        "gcc struct_example.c -o struct_example"
      ],
      "metadata": {
        "colab": {
          "base_uri": "https://localhost:8080/"
        },
        "id": "tsloGnl1hCam",
        "outputId": "74814c41-8d90-4cbf-8be3-d28af752021f"
      },
      "execution_count": 34,
      "outputs": [
        {
          "output_type": "stream",
          "name": "stdout",
          "text": [
            "make: 'struct_example' is up to date.\n",
            "phone number: 5557879\n"
          ]
        },
        {
          "output_type": "execute_result",
          "data": {
            "text/plain": [
              ""
            ]
          },
          "metadata": {},
          "execution_count": 34
        }
      ]
    },
    {
      "cell_type": "markdown",
      "source": [
        "### Giving struct a proper name using typedef\n",
        "\n",
        "* Those struct commands seem wordy, you used the struct keyword when defining a struct, and the used it again when defining variable.\n",
        "* We can simplify this by introducing `typedef` keyword which allows to create allias for struct type that can be used to shorten new variable definitions.\n",
        "* C allows to create an allias for any stract that we create. If we add the word `typedef` before the struct keyword and a type name after the closing brace, we can call the new type whatever we like.\n",
        "\n",
        "\n",
        "\n"
      ],
      "metadata": {
        "id": "ydHOdg4MkcjF"
      }
    },
    {
      "cell_type": "code",
      "source": [
        " %%writefile struct_example.c\n",
        "\n",
        "#include <stdio.h>\n",
        "// typedef means you are going to give the struct type a new name\n",
        "typedef struct cell_phone {\n",
        "    int cell_no;\n",
        "    const char *wallpaper;\n",
        "    float minutes_of_charge;\n",
        "} phone; // phone will become an alias for \"struct cell_phone\"\n",
        "\n",
        "int main(void)\n",
        "{\n",
        "  // now when the compiler sees \"phone\"\n",
        "  // it will treat it like \"struct cell_phone\"\n",
        "  phone p = {5557879, \"sinatra.png\", 1.35};\n",
        "  printf(\"phone number: %i\\n\", p.cell_no);\n",
        "}"
      ],
      "metadata": {
        "colab": {
          "base_uri": "https://localhost:8080/"
        },
        "id": "IOa7ZA-AlMKo",
        "outputId": "5dbdd985-c589-4d65-e2b2-8f634717d717"
      },
      "execution_count": 30,
      "outputs": [
        {
          "output_type": "stream",
          "name": "stdout",
          "text": [
            "Overwriting struct_example.c\n"
          ]
        }
      ]
    },
    {
      "cell_type": "code",
      "source": [
        "# Using make to compile the C code into a binary file called struct_example\n",
        "%%shell\n",
        "make struct_example && ./struct_example\n",
        "gcc struct_example.c -o struct_example"
      ],
      "metadata": {
        "colab": {
          "base_uri": "https://localhost:8080/"
        },
        "id": "yOqAgJA9M8pz",
        "outputId": "259d094d-6ed9-4522-9485-03a709163252"
      },
      "execution_count": 32,
      "outputs": [
        {
          "output_type": "stream",
          "name": "stdout",
          "text": [
            "make: 'struct_example' is up to date.\n",
            "phone number: 5557879\n"
          ]
        },
        {
          "output_type": "execute_result",
          "data": {
            "text/plain": [
              ""
            ]
          },
          "metadata": {},
          "execution_count": 32
        }
      ]
    },
    {
      "cell_type": "code",
      "source": [
        " %%writefile struct_example.c\n",
        "\n",
        "#include <stdio.h>\n",
        "\n",
        "// typedef means you are going to give the struct type a new name\n",
        "typedef struct {\n",
        "    float tank_capacity;\n",
        "    int tank_psi;\n",
        "    const char *suit_material;\n",
        "} equipment;\n",
        "\n",
        "// we gave the struct the name \"scuba\" here\n",
        "// but we will just use the \"diver\" type name\n",
        "// \"diver\" will become an allias for struct \"scuba\"\n",
        "\n",
        "typedef struct scuba {\n",
        "    const char *name;\n",
        "    equipment kit;\n",
        "} diver;\n",
        "\n",
        "void badge (diver d) {\n",
        "    printf(\"Name: %s Tank: %2.2f(%i) Suit: %s\\n\", d.name, d.kit.tank_capacity, d.kit.tank_psi, d.kit.suit_material);\n",
        "}\n",
        "\n",
        "int main(void)\n",
        "{\n",
        "  // now when the compiler sees \"diver\"\n",
        "  // it will treat it like struct \"scuba\"\n",
        "  diver randy = {\"Randy\", {5.5, 3500, \"Neoprene\"}};\n",
        "  badge(randy);\n",
        "  return 0;\n",
        "}"
      ],
      "metadata": {
        "colab": {
          "base_uri": "https://localhost:8080/"
        },
        "id": "RIjiSJftJVmX",
        "outputId": "ca645f5d-a2ee-4340-e86d-b687262ff5a2"
      },
      "execution_count": 22,
      "outputs": [
        {
          "output_type": "stream",
          "name": "stdout",
          "text": [
            "Overwriting struct_example.c\n"
          ]
        }
      ]
    },
    {
      "cell_type": "code",
      "source": [
        "# Using make to compile the C code into a binary file called struct_example\n",
        "%%shell\n",
        "make struct_example && ./struct_example\n",
        "gcc struct_example.c -o struct_example"
      ],
      "metadata": {
        "colab": {
          "base_uri": "https://localhost:8080/"
        },
        "id": "Xp6npLY7I4kp",
        "outputId": "687dcab8-3b88-426c-e804-9a19e1d05259"
      },
      "execution_count": 33,
      "outputs": [
        {
          "output_type": "stream",
          "name": "stdout",
          "text": [
            "make: 'struct_example' is up to date.\n",
            "phone number: 5557879\n"
          ]
        },
        {
          "output_type": "execute_result",
          "data": {
            "text/plain": [
              ""
            ]
          },
          "metadata": {},
          "execution_count": 33
        }
      ]
    },
    {
      "cell_type": "code",
      "source": [
        "# TODO: Act pointer syntax example - (*t).age"
      ],
      "metadata": {
        "id": "uIA9bWUYRvge"
      },
      "execution_count": 35,
      "outputs": []
    },
    {
      "cell_type": "markdown",
      "source": [
        "## References\n",
        "\n",
        "1. [Book - Head first C - Chapter 5 structs, unions and bitfields.](https://learning.oreilly.com/library/view/head-first-c/9781449335649/ch01.html#but_how_do_you_run_the_programquestion_m)"
      ],
      "metadata": {
        "id": "q5MQWbHYMfdr"
      }
    }
  ]
}