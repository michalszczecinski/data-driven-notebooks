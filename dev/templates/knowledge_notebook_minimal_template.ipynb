{
  "cells": [
    {
      "attachments": {},
      "cell_type": "markdown",
      "metadata": {
        "colab_type": "text",
        "id": "view-in-github"
      },
      "source": [
        "<a href=\"https://colab.research.google.com/github/michalszczecinski/data-driven-notebooks/blob/master/dev/templates/knowledge_notebook_minimal_template.ipynb\" target=\"_parent\"><img src=\"https://colab.research.google.com/assets/colab-badge.svg\" alt=\"Open In Colab\"/></a>"
      ]
    },
    {
      "attachments": {},
      "cell_type": "markdown",
      "metadata": {},
      "source": [
        "# [Title]\n",
        "\n",
        "1. This notebook is about ...\n",
        "2. The purpose of this notebook is to ...\n",
        "3. It is important because ..."
      ]
    },
    {
      "cell_type": "code",
      "execution_count": 2,
      "metadata": {
        "id": "Fk26VnKe4Odq"
      },
      "outputs": [],
      "source": [
        "# imports\n",
        "import pandas as pd\n",
        "import math\n",
        "import unittest"
      ]
    },
    {
      "attachments": {},
      "cell_type": "markdown",
      "metadata": {},
      "source": [
        "## Problem: [problem or question we want to solve]."
      ]
    },
    {
      "attachments": {},
      "cell_type": "markdown",
      "metadata": {
        "id": "WKjIQRIpP80u"
      },
      "source": [
        "[placeholder for image, gif, video, etc.]"
      ]
    },
    {
      "cell_type": "code",
      "execution_count": 1,
      "metadata": {},
      "outputs": [],
      "source": [
        "# configuration"
      ]
    },
    {
      "attachments": {},
      "cell_type": "markdown",
      "metadata": {},
      "source": [
        "## Solution"
      ]
    },
    {
      "attachments": {},
      "cell_type": "markdown",
      "metadata": {
        "id": "UBj8BibcLpo9"
      },
      "source": [
        "## References"
      ]
    },
    {
      "attachments": {},
      "cell_type": "markdown",
      "metadata": {},
      "source": [
        "[1] [Unit testing in notebooks](https://www.wrighters.io/unit-testing-python-code-in-jupyter-notebooks/)"
      ]
    }
  ],
  "metadata": {
    "colab": {
      "authorship_tag": "ABX9TyP5KSH/JihLCLp7jxRBEBMm",
      "include_colab_link": true,
      "provenance": []
    },
    "kernelspec": {
      "display_name": "data-driven-notebooks.venv",
      "language": "python",
      "name": "python3"
    },
    "language_info": {
      "codemirror_mode": {
        "name": "ipython",
        "version": 3
      },
      "file_extension": ".py",
      "mimetype": "text/x-python",
      "name": "python",
      "nbconvert_exporter": "python",
      "pygments_lexer": "ipython3",
      "version": "3.9.16"
    },
    "vscode": {
      "interpreter": {
        "hash": "af1c1da3c38a2c9afd60bbb93df68f8878eaaf1ff1f4b8bd52105baf2dd64e7a"
      }
    }
  },
  "nbformat": 4,
  "nbformat_minor": 0
}
