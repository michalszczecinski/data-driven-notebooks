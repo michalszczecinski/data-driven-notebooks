{
  "cells": [
    {
      "cell_type": "markdown",
      "metadata": {
        "colab_type": "text",
        "id": "view-in-github"
      },
      "source": [
        "<a href=\"https://colab.research.google.com/github/michalszczecinski/data-driven-notebooks/blob/master/knowledge_notebook_template.ipynb\" target=\"_parent\"><img src=\"https://colab.research.google.com/assets/colab-badge.svg\" alt=\"Open In Colab\"/></a>"
      ]
    },
    {
      "cell_type": "markdown",
      "metadata": {
        "id": "FoZw_KntRt2L"
      },
      "source": [
        "## Disclaimer\n",
        "\n",
        "* Content of this notebook is for my personal learning. \n",
        "* I currently use a repository of Python notebooks as my knowledge management system, it is like some people use note taking apps with the added benefit of interactivity and ability to programatically play with the concepts, ideas and data in order to deepen the understanding and strengthen the recall.  \n",
        "* Any opinions or ideas expressed here are on my own behalf and do not represent my employer.\n",
        "* Note: This notebook is created from the template `knowledge_notebook_template.ipynb`. For convenience it inherits all potentially useful imports, helper utils and general structure. That means it is likely not using all the defined functionality.\n",
        "* Content starts from the section [Header](#cell-header).\n"
      ]
    },
    {
      "cell_type": "markdown",
      "metadata": {
        "id": "ZqPqBrn6Y-mi"
      },
      "source": [
        "## Code Set Up"
      ]
    },
    {
      "cell_type": "code",
      "execution_count": null,
      "metadata": {
        "colab": {
          "base_uri": "https://localhost:8080/"
        },
        "id": "ceXSXHjHhOHq",
        "outputId": "27dfd02e-035e-4423-ef8a-476670e18e6a"
      },
      "outputs": [
        {
          "name": "stdout",
          "output_type": "stream",
          "text": [
            "system: 3.7.12 (default, Sep 10 2021, 00:21:48) \n",
            "[GCC 7.5.0]\n",
            "pandas: 1.1.5\n",
            "numpy: 1.19.5\n"
          ]
        }
      ],
      "source": [
        "#@title Imports {display-mode: \"form\"}\n",
        "import sys\n",
        "import os\n",
        "import platform\n",
        "import random\n",
        "import itertools\n",
        "import math\n",
        "import datetime\n",
        "\n",
        "import numpy as np\n",
        "import pandas as pd\n",
        "\n",
        "# plotting\n",
        "import matplotlib.pyplot as plt\n",
        "import seaborn as sns\n",
        "\n",
        "# reading google sheets files\n",
        "import gspread\n",
        "from oauth2client.client import GoogleCredentials\n",
        "\n",
        "from collections import OrderedDict\n",
        "from typing import List, Optional\n",
        "\n",
        "# print versions\n",
        "print (f\"system: {sys.version}\")\n",
        "print (f\"pandas: {pd.__version__}\")\n",
        "print (f\"numpy: {np.__version__}\")"
      ]
    },
    {
      "cell_type": "code",
      "execution_count": null,
      "metadata": {
        "id": "iwUKfs6C-aSp"
      },
      "outputs": [],
      "source": [
        "# @title Dislay settings  {display-mode: \"form\"} \n",
        "\n",
        "# display all dataframes in cell\n",
        "from IPython.core.interactiveshell import InteractiveShell\n",
        "InteractiveShell.ast_node_interactivity = \"all\"\n",
        "\n",
        "#pandas\n",
        "pd.set_option(\"display.float_format\", '{:.3f}'.format)\n",
        "pd.set_option(\"display.max_rows\", 120)\n",
        "pd.set_option(\"display.max_columns\", 120)\n",
        "pd.set_option(\"max_colwidth\", 200)\n",
        "\n",
        "# plotting\n",
        "sns.set(context='notebook', style=\"whitegrid\", rc={\"figure.figsize\": (20, 10)})"
      ]
    },
    {
      "cell_type": "markdown",
      "metadata": {
        "id": "dfAfefKQ0OuJ"
      },
      "source": [
        "### Helper functions and snippets\n",
        "\n",
        "Note: This notebook is created from the template `knowledge_notebook_template.ipynb`. For convenience it inherits all potentially useful imports, helper utils and general structure. That means it is likely not using all the defined functionality."
      ]
    },
    {
      "cell_type": "code",
      "execution_count": null,
      "metadata": {
        "id": "dZxNDhXZ4wYi"
      },
      "outputs": [],
      "source": [
        "# @title Generate Report header with meta information {display-mode: \"form\"} \n",
        "def generate_header(author: Optional[str] = 'szczecinski',\n",
        "                    title: Optional[str] = 'unknown',\n",
        "                    description: Optional[str] = 'unknown',\n",
        "                    prepared_for: Optional[str] = 'learning',\n",
        "                    tags: Optional[List[str]] = [''],\n",
        "                    links: Optional[List[str]] = ['']):\n",
        "    \"\"\"\n",
        "    Generates standardised header with meta information describing the report.\n",
        "    \n",
        "    Args:\n",
        "      author: Name of the author.\n",
        "      title: Title of the report.\n",
        "      description: Text describing the report.\n",
        "      prepared_for: Text providing context and purpose of generating the report.\n",
        "      tags: List of tags for searching.\n",
        "      links: List of links for reference and cross linking.\n",
        "\n",
        "    Returns:\n",
        "      df_meta: Formatted Pandas Dataframe with meta information of the report.\n",
        "    \"\"\"\n",
        "    meta_dict = OrderedDict()\n",
        "\n",
        "    # Properties provided by author.\n",
        "    meta_dict['author'] = author\n",
        "    meta_dict['title'] = title\n",
        "    meta_dict['description'] = description\n",
        "    meta_dict['prepared_for'] = prepared_for\n",
        "    meta_dict['tags'] = str(tags)\n",
        "    meta_dict['links'] = str(links)\n",
        "\n",
        "    # Properties auto generated by the system.\n",
        "    runtime = datetime.datetime\n",
        "    meta_dict['runtime'] = runtime.now().strftime(\"%Y-%m-%d %H:%M:%S\")\n",
        "    path = os.getcwd()\n",
        "    meta_dict['path'] = path\n",
        "    python_version = platform.python_version()\n",
        "    meta_dict['python_version'] = python_version\n",
        "    meta_dict['pandas_version'] = pd.__version__\n",
        "\n",
        "    df_meta= pd.DataFrame(meta_dict, index=['report_information']).T\n",
        "    return df_meta"
      ]
    },
    {
      "cell_type": "code",
      "execution_count": null,
      "metadata": {
        "id": "H2vXKWXiRNnA"
      },
      "outputs": [],
      "source": [
        "# @title Using R  {display-mode: \"form\"} \n",
        "# loading in case want to write R code\n",
        "%load_ext rpy2.ipython\n",
        "# example R code"
      ]
    },
    {
      "cell_type": "code",
      "execution_count": null,
      "metadata": {
        "colab": {
          "base_uri": "https://localhost:8080/",
          "height": 497
        },
        "id": "y8H5pX_lk4je",
        "outputId": "27c7d072-80a1-48f6-e69d-5ed44a1015a5"
      },
      "outputs": [
        {
          "data": {
            "image/png": "[encoded data removed]"
          },
          "metadata": {},
          "output_type": "display_data"
        }
      ],
      "source": [
        "%%R\n",
        "restaurant_employees <- c(22, 35, 15, 26, 40, 28, 18, 20, 25, 34, 39, 42, 24, 22, 19, 27, 22, 34, 40, 20, 38, 28)\n",
        "hist(restaurant_employees, breaks=c(10,19,28,37,46), right=FALSE)"
      ]
    },
    {
      "cell_type": "markdown",
      "metadata": {
        "id": "XHw075uQRii1"
      },
      "source": [
        "#### Loading data from gsheet"
      ]
    },
    {
      "cell_type": "code",
      "execution_count": null,
      "metadata": {
        "id": "p-jxhSMJqNd_"
      },
      "outputs": [],
      "source": [
        "# @title Google Authentication {display-mode: \"form\"}\n",
        "# from google.colab import auth\n",
        "# auth.authenticate_user()"
      ]
    },
    {
      "cell_type": "code",
      "execution_count": null,
      "metadata": {
        "id": "kYBp0iQ2m9xL"
      },
      "outputs": [],
      "source": [
        "# @title {display-mode: \"form\"} \n",
        "# importing data from google sheet\n",
        "def get_data_gsheet(name='data_jobs_summary'):\n",
        "  gc = gspread.authorize(GoogleCredentials.get_application_default())\n",
        "  worksheet = gc.open(name).sheet1\n",
        "  # get_all_values gives a list of rows.\n",
        "  rows = worksheet.get_all_values()\n",
        "  header = rows[0]\n",
        "  df_data = pd.DataFrame.from_records(data=rows[1:], columns=header)\n",
        "  return df_data\n",
        "\n",
        "# df = get_data_gsheet()"
      ]
    },
    {
      "cell_type": "markdown",
      "metadata": {
        "id": "VcvMALOSh3Mz"
      },
      "source": [
        "#### Plotting for math"
      ]
    },
    {
      "cell_type": "code",
      "execution_count": null,
      "metadata": {
        "id": "Qein9BmF1tUh"
      },
      "outputs": [],
      "source": [
        "# @title {display-mode: \"form\"} \n",
        "def create_spine_plane(ax, title='title'):\n",
        "  \"\"\"\n",
        "  adds cartesian plane \n",
        "  to the background of the plot\n",
        "  \"\"\"\n",
        "  ax.set_title(title)\n",
        "  ax.spines['left'].set_position('zero')\n",
        "  ax.spines['right'].set_color('none')\n",
        "  ax.spines['bottom'].set_position('zero')\n",
        "  ax.spines['top'].set_color('none')\n",
        "  ax.xaxis.set_ticks_position('bottom')\n",
        "  ax.yaxis.set_ticks_position('left')\n",
        "  return ax"
      ]
    },
    {
      "cell_type": "code",
      "execution_count": null,
      "metadata": {
        "colab": {
          "base_uri": "https://localhost:8080/",
          "height": 590
        },
        "id": "UjYB_j4IUIUq",
        "outputId": "5da3bdc3-c311-4466-b5aa-ab9c2452e36e"
      },
      "outputs": [
        {
          "data": {
            "image/png": "[encoded data removed]",
            "text/plain": [
              "<Figure size 1440x720 with 4 Axes>"
            ]
          },
          "metadata": {},
          "output_type": "display_data"
        }
      ],
      "source": [
        "# @title {display-mode: \"form\"} \n",
        "# showing demo function on a plane\n",
        "fig = plt.figure()\n",
        "\n",
        "# define grid here\n",
        "subplot_grid_x = 2\n",
        "subplot_grid_y = 2\n",
        "\n",
        "x = [x for x in np.arange(-5,6)]\n",
        "\n",
        "for i in range(4):\n",
        "  # function definition\n",
        "  y = [(i+1) * xi for xi in x]\n",
        "  ax = fig.add_subplot(subplot_grid_x, subplot_grid_y, i+1)\n",
        "  ax = create_spine_plane(ax, title=f\"Example Spine Plane: f(x) = {i+1}x\");\n",
        "  ax.plot(x, y);"
      ]
    },
    {
      "cell_type": "code",
      "execution_count": null,
      "metadata": {
        "id": "IZJpoWDl-60O"
      },
      "outputs": [],
      "source": [
        "# @title {display-mode: \"form\"} \n",
        "def plot_shapes():\n",
        "  \"\"\"\n",
        "  plot example shapes - circle and lines\n",
        "  \"\"\"\n",
        "  plt.axes()\n",
        "  circle = plt.Circle((0,0),1, facecolor='None',edgecolor='blue')\n",
        "  plt.gca().add_patch(circle)\n",
        "  line1 = plt.Line2D((0, 1), (0, 0), linewidth=1.5, linestyle='--', color = 'black')\n",
        "  line2 = plt.Line2D((0, 1), (0, 0), linewidth=1.5, linestyle='--', color = 'black')\n",
        "\n",
        "  plt.gca().add_line(line1)\n",
        "  plt.axis('scaled')\n",
        "  return plt\n"
      ]
    },
    {
      "cell_type": "code",
      "execution_count": null,
      "metadata": {
        "colab": {
          "base_uri": "https://localhost:8080/",
          "height": 594
        },
        "id": "1q1CbuF4mYwE",
        "outputId": "6fcec2b5-b2fd-41ea-8f0f-eb3d24e3ff77"
      },
      "outputs": [
        {
          "data": {
            "image/png": "[encoded data removed]",
            "text/plain": [
              "<Figure size 1440x720 with 1 Axes>"
            ]
          },
          "metadata": {},
          "output_type": "display_data"
        }
      ],
      "source": [
        "plot_shapes();"
      ]
    },
    {
      "cell_type": "markdown",
      "metadata": {
        "id": "L5QE2HMR00L-"
      },
      "source": [
        "### Handy Links\n",
        "\n",
        "[Altair guide](https://altair-viz.github.io/getting_started/overview.html#)"
      ]
    },
    {
      "cell_type": "markdown",
      "metadata": {
        "id": "tLe6OCc9RqKg"
      },
      "source": [
        "<a name=\"cell-header\"></a>\n",
        "# Header: Title and metadata"
      ]
    },
    {
      "cell_type": "code",
      "execution_count": null,
      "metadata": {
        "colab": {
          "base_uri": "https://localhost:8080/",
          "height": 359
        },
        "id": "2grgNY3TYrgO",
        "outputId": "fd67a4ab-0495-4cae-a255-2cd78a19b206"
      },
      "outputs": [
        {
          "data": {
            "text/html": [
              "<div>\n",
              "<style scoped>\n",
              "    .dataframe tbody tr th:only-of-type {\n",
              "        vertical-align: middle;\n",
              "    }\n",
              "\n",
              "    .dataframe tbody tr th {\n",
              "        vertical-align: top;\n",
              "    }\n",
              "\n",
              "    .dataframe thead th {\n",
              "        text-align: right;\n",
              "    }\n",
              "</style>\n",
              "<table border=\"1\" class=\"dataframe\">\n",
              "  <thead>\n",
              "    <tr style=\"text-align: right;\">\n",
              "      <th></th>\n",
              "      <th>report_information</th>\n",
              "    </tr>\n",
              "  </thead>\n",
              "  <tbody>\n",
              "    <tr>\n",
              "      <th>author</th>\n",
              "      <td>Michal Szczecinski</td>\n",
              "    </tr>\n",
              "    <tr>\n",
              "      <th>title</th>\n",
              "      <td>Title</td>\n",
              "    </tr>\n",
              "    <tr>\n",
              "      <th>description</th>\n",
              "      <td>Description</td>\n",
              "    </tr>\n",
              "    <tr>\n",
              "      <th>prepared_for</th>\n",
              "      <td>learning</td>\n",
              "    </tr>\n",
              "    <tr>\n",
              "      <th>tags</th>\n",
              "      <td>['#data-driven', '#math', '#stats']</td>\n",
              "    </tr>\n",
              "    <tr>\n",
              "      <th>links</th>\n",
              "      <td>['']</td>\n",
              "    </tr>\n",
              "    <tr>\n",
              "      <th>runtime</th>\n",
              "      <td>2021-09-19 12:36:09</td>\n",
              "    </tr>\n",
              "    <tr>\n",
              "      <th>path</th>\n",
              "      <td>/content</td>\n",
              "    </tr>\n",
              "    <tr>\n",
              "      <th>python_version</th>\n",
              "      <td>3.7.12</td>\n",
              "    </tr>\n",
              "    <tr>\n",
              "      <th>pandas_version</th>\n",
              "      <td>1.1.5</td>\n",
              "    </tr>\n",
              "  </tbody>\n",
              "</table>\n",
              "</div>"
            ],
            "text/plain": [
              "                                 report_information\n",
              "author                           Michal Szczecinski\n",
              "title                                         Title\n",
              "description                             Description\n",
              "prepared_for                               learning\n",
              "tags            ['#data-driven', '#math', '#stats']\n",
              "links                                          ['']\n",
              "runtime                         2021-09-19 12:36:09\n",
              "path                                       /content\n",
              "python_version                               3.7.12\n",
              "pandas_version                                1.1.5"
            ]
          },
          "execution_count": 17,
          "metadata": {},
          "output_type": "execute_result"
        }
      ],
      "source": [
        "# setting up header info\n",
        "author = 'Michal Szczecinski'\n",
        "prepared_for ='learning'\n",
        "title = 'Title'\n",
        "description = 'Description'\n",
        "tags = ['#data-driven', '#math', '#stats']\n",
        "links = ['']\n",
        "generate_header(author=author,\n",
        "                title=title,\n",
        "                description=description,\n",
        "                prepared_for=prepared_for,\n",
        "                tags=tags,\n",
        "                links=links)"
      ]
    },
    {
      "cell_type": "markdown",
      "metadata": {
        "id": "4i-L-SpJR6yI"
      },
      "source": [
        "## Context"
      ]
    },
    {
      "cell_type": "markdown",
      "metadata": {
        "id": "7YCLGJg4R7Lv"
      },
      "source": [
        "## Configuration"
      ]
    },
    {
      "cell_type": "markdown",
      "metadata": {
        "id": "wzdS1mAxS7SB"
      },
      "source": [
        "## I"
      ]
    },
    {
      "cell_type": "markdown",
      "metadata": {
        "id": "ZgHzYWczTK0O"
      },
      "source": [
        "### "
      ]
    },
    {
      "cell_type": "markdown",
      "metadata": {
        "id": "RW3nuNrKRx8C"
      },
      "source": [
        "### "
      ]
    },
    {
      "cell_type": "markdown",
      "metadata": {
        "id": "J0cNgA4_zw4y"
      },
      "source": [
        "###"
      ]
    },
    {
      "cell_type": "markdown",
      "metadata": {
        "id": "pHKoemQxVITB"
      },
      "source": [
        "## II"
      ]
    },
    {
      "cell_type": "markdown",
      "metadata": {
        "id": "kXgIfAYJz3O4"
      },
      "source": [
        "###"
      ]
    },
    {
      "cell_type": "markdown",
      "metadata": {
        "id": "4tSG5JMxz3e5"
      },
      "source": [
        "###"
      ]
    },
    {
      "cell_type": "markdown",
      "metadata": {
        "id": "lT503PDiz3mU"
      },
      "source": [
        "###"
      ]
    },
    {
      "cell_type": "markdown",
      "metadata": {
        "id": "UWg3I9SLXx-2"
      },
      "source": [
        "## III"
      ]
    },
    {
      "cell_type": "markdown",
      "metadata": {
        "id": "rV9w4WWKz9ve"
      },
      "source": [
        "### "
      ]
    },
    {
      "cell_type": "markdown",
      "metadata": {
        "id": "5fZqD3Q3z91u"
      },
      "source": [
        "### "
      ]
    },
    {
      "cell_type": "markdown",
      "metadata": {
        "id": "2zNeNS6cz97j"
      },
      "source": [
        "### "
      ]
    },
    {
      "cell_type": "markdown",
      "metadata": {
        "id": "jOZC78lbj8n0"
      },
      "source": [
        "## References"
      ]
    }
  ],
  "metadata": {
    "colab": {
      "authorship_tag": "ABX9TyPw986u+Osxb8XbTdmFBgJ2",
      "collapsed_sections": [],
      "include_colab_link": true,
      "name": "knowledge_notebook_template.ipynb",
      "provenance": []
    },
    "kernelspec": {
      "display_name": "data-driven-notebooks.venv",
      "language": "python",
      "name": "python3"
    },
    "language_info": {
      "name": "python",
      "version": "3.9.16"
    },
    "vscode": {
      "interpreter": {
        "hash": "af1c1da3c38a2c9afd60bbb93df68f8878eaaf1ff1f4b8bd52105baf2dd64e7a"
      }
    }
  },
  "nbformat": 4,
  "nbformat_minor": 0
}
