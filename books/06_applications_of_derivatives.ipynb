{
  "nbformat": 4,
  "nbformat_minor": 0,
  "metadata": {
    "colab": {
      "name": "6. Applications of Derivatives.ipynb",
      "provenance": [],
      "collapsed_sections": [],
      "include_colab_link": true
    },
    "kernelspec": {
      "name": "python3",
      "display_name": "Python 3"
    }
  },
  "cells": [
    {
      "cell_type": "markdown",
      "metadata": {
        "id": "view-in-github",
        "colab_type": "text"
      },
      "source": [
        "<a href=\"https://colab.research.google.com/github/michalszczecinski/data-driven-notebooks/blob/master/books/06_applications_of_derivatives.ipynb\" target=\"_parent\"><img src=\"https://colab.research.google.com/assets/colab-badge.svg\" alt=\"Open In Colab\"/></a>"
      ]
    },
    {
      "cell_type": "markdown",
      "metadata": {
        "id": "ZiEpCTnc5vZ9",
        "colab_type": "text"
      },
      "source": [
        "## Assignment C06: Applications of Derivatives\n",
        "\n",
        "### Learning Outcomes\n",
        "\n",
        "Refer to Thomas’ Calculus for the corresponding sections (§).\n",
        "\n",
        "* Estimating a differentiable function through linear approximation. (Page 179, §3.9)\n",
        "* Test of monotonic functions using first derivatives. (Page 213, §4.3)\n",
        "* Test of local extrema using first or second derivatives. (§4.1, §4.3, §4.4)\n",
        "* Finding absolute extrema of a function over a closed interval. (Page 199, §4.1)\n",
        "* Test of concavity and finding inflection points using the second derivative. (Page 218, §4.4)\n",
        "* Approximating a function by Taylor series. (Page 627, §10.8)\n",
        "\n",
        "### Check List\n",
        "\n",
        "Before you do the exercises, find out the following:\n",
        "\n",
        "1. Linearization of a differentiable function about a given point:\n",
        "<br /><br />\n",
        "\n",
        "1. Stationary and critical points:\n",
        "<br /><br /><br /><br />\n",
        "\n",
        "1. First derivative test for local extremum points:\n",
        "<br /><br /><br /><br /><br /><br />\n",
        "\n",
        "1. Absolute extrema of a function and finding them:\n",
        "<br /><br /><br /><br /><br /><br /><br /><br />\n",
        "\n",
        "1. First derivative test for monotonic functions:\n",
        "<br /><br /><br /><br />\n",
        "\n",
        "1. Second derivative test for local extremum points:\n",
        "<br /><br /><br /><br /><br /><br />\n",
        "\n",
        "1. Second derivative test for concavity:\n",
        "<br /><br /><br /><br />\n",
        "\n",
        "1. Point of inflection and the second derivative at such a point:\n",
        "<br /><br /><br /><br /><br /><br />\n",
        "\n",
        "1. Taylor polynomial of order 𝘯 for a smooth function:\n",
        "<br /><br />\n"
      ]
    },
    {
      "cell_type": "markdown",
      "metadata": {
        "colab_type": "text",
        "id": "epNq9u4YzzYe"
      },
      "source": [
        "### Exercises\n",
        "\n",
        "Refer to Thomas’ Calculus, Chapter 4, Practice Exercises for the exercise numbers (Ex.) given below.\n",
        "\n",
        "`1.` Find the linearization of 𝘧(𝘹) = √(1 + 𝘹) + sin𝘹 − 0.5 at 𝘹 = 0.\n",
        "\n",
        "`2.` [**Error propagation**] The circumference of the equator of a sphere is measured as 10 cm with a possible error of 0.4 cm. This measurement is used to calculate the radius. The radius is then used to calculate the surface area and volume of the sphere. Estimate the percentage errors in the calculated values of\n",
        "\n",
        " `a.` the radius. `b.` the surface area. `c.` the volume.\n",
        "\n",
        "`3.` Find the absolute minimum and maximum values (if exist) of 𝘧(𝘹) = (7 + 𝘹)(11 − 3𝘹)<sup>1⁄3</sup>. List all critical points of 𝘧.\n",
        "\n",
        "`4.` Page 257, Ex.14\n",
        "\n",
        "`5.` Page 258, Ex.20\n",
        "\n",
        "`6.` The first derivative of 𝘺 = 𝘧(𝘹) is given by 𝘺′ = 6𝘹(𝘹 + 1)(𝘹 − 2).\n",
        "\n",
        " `a.` At what points, if any, does the graph of 𝘧 have a local maximum, local minimum, or inflection point?\n",
        "\n",
        " `b.` Sketch the general shape of the graph.\n",
        " \n",
        "`7.` A customer has asked you to design an open-top rectangular stainless steel vat. It is to have a square base and a volume of 1 m³, to be welded from 6-mm-thick plate, and to weigh no more than necessary. What dimensions do you recommend?\n",
        "\n",
        "`8.` A company can manufacture 𝘹 hundred grade A tires and 𝘺 hundred grade B tires per day, where 0 ≤ 𝘹 ≤ 4 and 𝘺 = (40 − 10𝘹)(5 − 𝘹)⁻¹. Your profit on a grade A tire is twice your profit on a grade B tire. What is the most profitable number of each kind to make?\n",
        "\n",
        "`9.` Expand sin𝘹 as a Taylor series about 𝘹 = 0. Hence, find the third-order approximation of sin(0.1).\n",
        "\n",
        "`10.` [**Programming**] Page 257, Ex.9\n"
      ]
    },
    {
      "cell_type": "markdown",
      "metadata": {
        "id": "YQnbQTPu9Pod",
        "colab_type": "text"
      },
      "source": [
        "Find the linearization of 𝘧(𝘹) = √(1 + 𝘹) + sin𝘹 − 0.5 at 𝘹 = 0."
      ]
    },
    {
      "cell_type": "code",
      "metadata": {
        "id": "xF3HN0li9QcM",
        "colab_type": "code",
        "colab": {}
      },
      "source": [
        "from sympy import *\n",
        "x = symbols('x')"
      ],
      "execution_count": null,
      "outputs": []
    },
    {
      "cell_type": "code",
      "metadata": {
        "id": "amSzzk9oGIKI",
        "colab_type": "code",
        "colab": {}
      },
      "source": [
        "init_printing(use_latex=False)"
      ],
      "execution_count": null,
      "outputs": []
    },
    {
      "cell_type": "code",
      "metadata": {
        "id": "qVyf4_h2GPGw",
        "colab_type": "code",
        "colab": {
          "base_uri": "https://localhost:8080/",
          "height": 52
        },
        "outputId": "9ac3b227-61cc-4eb9-8a8e-9d01f20d7af7"
      },
      "source": [
        "diff((1+x)**0.5 + sin(x) - 0.5,x)"
      ],
      "execution_count": null,
      "outputs": [
        {
          "output_type": "execute_result",
          "data": {
            "text/plain": [
              "           -0.5         \n",
              "0.5⋅(x + 1)     + cos(x)"
            ]
          },
          "metadata": {
            "tags": []
          },
          "execution_count": 10
        }
      ]
    },
    {
      "cell_type": "markdown",
      "metadata": {
        "id": "9AxsZZKd-ivE",
        "colab_type": "text"
      },
      "source": [
        "$$\n",
        "\\\\ 𝘧(𝘹) = \\sqrt{(1 + 𝘹)} + sin𝘹 − 0.5\n",
        "\\\\ f'(x) = 0.5 * (1+x)^{-0.5} + cos x \n",
        "\\\\ f'(0) = 0.5 * \\frac{1}{\\sqrt{(1+x)}} + cos x\n",
        "\\\\ = 0.5 + 1 = 1.5\n",
        "$$"
      ]
    },
    {
      "cell_type": "markdown",
      "metadata": {
        "id": "KKz5YxkeAHxb",
        "colab_type": "text"
      },
      "source": [
        "$$\n",
        "\\Delta f = f'(0) * \\Delta x\n",
        "\\\\ f(5) = f(0) + 5 * f'(0)\n",
        "\\\\ f(0) = 1+ 0 - 0.5 = 0.5\n",
        "\\\\ linear aproximation:\n",
        "\\\\ f(x) = 0.5 + 1.5x\n",
        "$$"
      ]
    },
    {
      "cell_type": "code",
      "metadata": {
        "id": "8sNQkSbnGSHD",
        "colab_type": "code",
        "colab": {}
      },
      "source": [
        "import numpy as np\n",
        "import pandas as pd"
      ],
      "execution_count": null,
      "outputs": []
    },
    {
      "cell_type": "code",
      "metadata": {
        "id": "fIjcb1-4IyjP",
        "colab_type": "code",
        "colab": {
          "base_uri": "https://localhost:8080/",
          "height": 936
        },
        "outputId": "72db6c02-d88f-4d12-b124-14f7cf23cc7b"
      },
      "source": [
        "x = np.arange(-10,11,0.1)\n",
        "x"
      ],
      "execution_count": null,
      "outputs": [
        {
          "output_type": "execute_result",
          "data": {
            "text/plain": [
              "array([-1.00000000e+01, -9.90000000e+00, -9.80000000e+00, -9.70000000e+00,\n",
              "       -9.60000000e+00, -9.50000000e+00, -9.40000000e+00, -9.30000000e+00,\n",
              "       -9.20000000e+00, -9.10000000e+00, -9.00000000e+00, -8.90000000e+00,\n",
              "       -8.80000000e+00, -8.70000000e+00, -8.60000000e+00, -8.50000000e+00,\n",
              "       -8.40000000e+00, -8.30000000e+00, -8.20000000e+00, -8.10000000e+00,\n",
              "       -8.00000000e+00, -7.90000000e+00, -7.80000000e+00, -7.70000000e+00,\n",
              "       -7.60000000e+00, -7.50000000e+00, -7.40000000e+00, -7.30000000e+00,\n",
              "       -7.20000000e+00, -7.10000000e+00, -7.00000000e+00, -6.90000000e+00,\n",
              "       -6.80000000e+00, -6.70000000e+00, -6.60000000e+00, -6.50000000e+00,\n",
              "       -6.40000000e+00, -6.30000000e+00, -6.20000000e+00, -6.10000000e+00,\n",
              "       -6.00000000e+00, -5.90000000e+00, -5.80000000e+00, -5.70000000e+00,\n",
              "       -5.60000000e+00, -5.50000000e+00, -5.40000000e+00, -5.30000000e+00,\n",
              "       -5.20000000e+00, -5.10000000e+00, -5.00000000e+00, -4.90000000e+00,\n",
              "       -4.80000000e+00, -4.70000000e+00, -4.60000000e+00, -4.50000000e+00,\n",
              "       -4.40000000e+00, -4.30000000e+00, -4.20000000e+00, -4.10000000e+00,\n",
              "       -4.00000000e+00, -3.90000000e+00, -3.80000000e+00, -3.70000000e+00,\n",
              "       -3.60000000e+00, -3.50000000e+00, -3.40000000e+00, -3.30000000e+00,\n",
              "       -3.20000000e+00, -3.10000000e+00, -3.00000000e+00, -2.90000000e+00,\n",
              "       -2.80000000e+00, -2.70000000e+00, -2.60000000e+00, -2.50000000e+00,\n",
              "       -2.40000000e+00, -2.30000000e+00, -2.20000000e+00, -2.10000000e+00,\n",
              "       -2.00000000e+00, -1.90000000e+00, -1.80000000e+00, -1.70000000e+00,\n",
              "       -1.60000000e+00, -1.50000000e+00, -1.40000000e+00, -1.30000000e+00,\n",
              "       -1.20000000e+00, -1.10000000e+00, -1.00000000e+00, -9.00000000e-01,\n",
              "       -8.00000000e-01, -7.00000000e-01, -6.00000000e-01, -5.00000000e-01,\n",
              "       -4.00000000e-01, -3.00000000e-01, -2.00000000e-01, -1.00000000e-01,\n",
              "       -3.55271368e-14,  1.00000000e-01,  2.00000000e-01,  3.00000000e-01,\n",
              "        4.00000000e-01,  5.00000000e-01,  6.00000000e-01,  7.00000000e-01,\n",
              "        8.00000000e-01,  9.00000000e-01,  1.00000000e+00,  1.10000000e+00,\n",
              "        1.20000000e+00,  1.30000000e+00,  1.40000000e+00,  1.50000000e+00,\n",
              "        1.60000000e+00,  1.70000000e+00,  1.80000000e+00,  1.90000000e+00,\n",
              "        2.00000000e+00,  2.10000000e+00,  2.20000000e+00,  2.30000000e+00,\n",
              "        2.40000000e+00,  2.50000000e+00,  2.60000000e+00,  2.70000000e+00,\n",
              "        2.80000000e+00,  2.90000000e+00,  3.00000000e+00,  3.10000000e+00,\n",
              "        3.20000000e+00,  3.30000000e+00,  3.40000000e+00,  3.50000000e+00,\n",
              "        3.60000000e+00,  3.70000000e+00,  3.80000000e+00,  3.90000000e+00,\n",
              "        4.00000000e+00,  4.10000000e+00,  4.20000000e+00,  4.30000000e+00,\n",
              "        4.40000000e+00,  4.50000000e+00,  4.60000000e+00,  4.70000000e+00,\n",
              "        4.80000000e+00,  4.90000000e+00,  5.00000000e+00,  5.10000000e+00,\n",
              "        5.20000000e+00,  5.30000000e+00,  5.40000000e+00,  5.50000000e+00,\n",
              "        5.60000000e+00,  5.70000000e+00,  5.80000000e+00,  5.90000000e+00,\n",
              "        6.00000000e+00,  6.10000000e+00,  6.20000000e+00,  6.30000000e+00,\n",
              "        6.40000000e+00,  6.50000000e+00,  6.60000000e+00,  6.70000000e+00,\n",
              "        6.80000000e+00,  6.90000000e+00,  7.00000000e+00,  7.10000000e+00,\n",
              "        7.20000000e+00,  7.30000000e+00,  7.40000000e+00,  7.50000000e+00,\n",
              "        7.60000000e+00,  7.70000000e+00,  7.80000000e+00,  7.90000000e+00,\n",
              "        8.00000000e+00,  8.10000000e+00,  8.20000000e+00,  8.30000000e+00,\n",
              "        8.40000000e+00,  8.50000000e+00,  8.60000000e+00,  8.70000000e+00,\n",
              "        8.80000000e+00,  8.90000000e+00,  9.00000000e+00,  9.10000000e+00,\n",
              "        9.20000000e+00,  9.30000000e+00,  9.40000000e+00,  9.50000000e+00,\n",
              "        9.60000000e+00,  9.70000000e+00,  9.80000000e+00,  9.90000000e+00,\n",
              "        1.00000000e+01,  1.01000000e+01,  1.02000000e+01,  1.03000000e+01,\n",
              "        1.04000000e+01,  1.05000000e+01,  1.06000000e+01,  1.07000000e+01,\n",
              "        1.08000000e+01,  1.09000000e+01])"
            ]
          },
          "metadata": {
            "tags": []
          },
          "execution_count": 6
        }
      ]
    },
    {
      "cell_type": "code",
      "metadata": {
        "id": "Ab2S0OxWITUm",
        "colab_type": "code",
        "colab": {
          "base_uri": "https://localhost:8080/",
          "height": 639
        },
        "outputId": "c279bb2d-bf10-4607-8431-f5c34163a633"
      },
      "source": [
        "y = [(1+x)**0.5 + sin(x) - 0.5 for x in x]\n",
        "y"
      ],
      "execution_count": null,
      "outputs": [
        {
          "output_type": "stream",
          "text": [
            "/usr/local/lib/python3.6/dist-packages/ipykernel_launcher.py:1: RuntimeWarning: invalid value encountered in double_scalars\n",
            "  \"\"\"Entry point for launching an IPython kernel.\n"
          ],
          "name": "stderr"
        },
        {
          "output_type": "execute_result",
          "data": {
            "text/plain": [
              "[nan, nan, nan, nan, nan, nan, nan, nan, nan, nan, nan, nan, nan, nan, nan, na\n",
              "n, nan, nan, nan, nan, nan, nan, nan, nan, nan, nan, nan, nan, nan, nan, nan, \n",
              "nan, nan, nan, nan, nan, nan, nan, nan, nan, nan, nan, nan, nan, nan, nan, nan\n",
              ", nan, nan, nan, nan, nan, nan, nan, nan, nan, nan, nan, nan, nan, nan, nan, n\n",
              "an, nan, nan, nan, nan, nan, nan, nan, nan, nan, nan, nan, nan, nan, nan, nan,\n",
              " nan, nan, nan, nan, nan, nan, nan, nan, nan, nan, nan, nan, nan, -0.967099143\n",
              "610717, -0.770142495399624, -0.59649512973258, -0.432186941361413, -0.27231875\n",
              "7417709, -0.114821673067221, 0.0411398198726824, 0.195757860204801, 0.34884988\n",
              "1403632, 0.499999999999947, 0.648642264816927, 0.794114445805342, 0.9356956317\n",
              "60427, 1.07263429892852, 1.20417040999574, 1.32955353746234, 1.44805816827818,\n",
              " 1.55899687739936, 1.66173178483647, 1.75568454718096, 1.84034503468035, 1.915\n",
              "27878338633, 1.98013327422748, 2.03464306847141, 2.07863381668823, 2.112025152\n",
              "7012, 2.13483248296796, 2.14716768394634, 2.14923872428006, 2.14134823439456, \n",
              "2.12389105281478, 2.09735078581944, 2.06229542463523, 2.01937207200975, 1.9693\n",
              "0083749095, 1.91286796792252, 1.85091828640099, 1.78434701911773, 1.7140910950\n",
              "2717, 1.6411200080599, 1.56642633556498, 1.49101600976438, 1.41589844118956, 1\n",
              ".34207659431351, 1.27053711587006, 1.2022406156579, 1.13811219795942, 1.079032\n",
              "33907797, 1.02582820293392, 0.979265482191883, 0.94004084706285, 0.90877507778\n",
              "4702, 0.886006949894822, 0.872187933834939, 0.867677762246617, 0.8727409096063\n",
              "77, 0.887544019698553, 0.912154306922603, 0.946538947673871, 0.990565468120014\n",
              ", 1.04400312471793, 1.10652526387756, 1.17771263737828, 1.25705764057867, 1.34\n",
              "396943122595, 1.43777987786065, 1.53775027851126, 1.64307878266724, 1.75290844\n",
              "248244, 1.8663358128656, 1.98242001462269, 2.10019217018218, 2.21866511770554,\n",
              " 2.33684330659751, 2.45373277561358, 2.56835111393136, 2.67973730571885, 2.786\n",
              "96135989233, 2.88913362889918, 2.98541372346492, 3.07501893427736, 3.157232076\n",
              "50438, 3.23140867880611, 3.29698344504948, 3.35347592419736, 3.4004953317545, \n",
              "3.43774447462751, 3.46502274021286, 3.48222811987502, 3.48935824662338, 3.4865\n",
              "1043664476, 3.4738807343004, 3.45176197015169, 3.42054085143948, 3.38069411410\n",
              "801, 3.33278377484008, 3.27745153056171, 3.21541236139151, 3.14744740096839, 3\n",
              ".07439614541019, 2.99714807876355, 2.91663379863457, 2.83381573068336, 2.74967\n",
              "852477284, 2.66521922874218, 2.58143733799702, 2.49932482034834, 2.41985621577\n",
              "912, 2.34397891006857, 2.27260367946608, 2.2065956008987, 2.1467654185428, 2.0\n",
              "9386145303078, 2.0485621341412, 2.01146923159099, 1.98310185157249, 1.96389125\n",
              "902724, 1.95417657739705, 1.95420140882569]"
            ]
          },
          "metadata": {
            "tags": []
          },
          "execution_count": 46
        }
      ]
    },
    {
      "cell_type": "code",
      "metadata": {
        "id": "O_Og9wLDJuJY",
        "colab_type": "code",
        "colab": {
          "base_uri": "https://localhost:8080/",
          "height": 407
        },
        "outputId": "37429c68-0681-453e-ab1a-eb83fdc689f0"
      },
      "source": [
        "df = pd.DataFrame({'x':x, 'y':y})\n",
        "df"
      ],
      "execution_count": null,
      "outputs": [
        {
          "output_type": "execute_result",
          "data": {
            "text/html": [
              "<div>\n",
              "<style scoped>\n",
              "    .dataframe tbody tr th:only-of-type {\n",
              "        vertical-align: middle;\n",
              "    }\n",
              "\n",
              "    .dataframe tbody tr th {\n",
              "        vertical-align: top;\n",
              "    }\n",
              "\n",
              "    .dataframe thead th {\n",
              "        text-align: right;\n",
              "    }\n",
              "</style>\n",
              "<table border=\"1\" class=\"dataframe\">\n",
              "  <thead>\n",
              "    <tr style=\"text-align: right;\">\n",
              "      <th></th>\n",
              "      <th>x</th>\n",
              "      <th>y</th>\n",
              "    </tr>\n",
              "  </thead>\n",
              "  <tbody>\n",
              "    <tr>\n",
              "      <th>0</th>\n",
              "      <td>-10.0</td>\n",
              "      <td>nan</td>\n",
              "    </tr>\n",
              "    <tr>\n",
              "      <th>1</th>\n",
              "      <td>-9.9</td>\n",
              "      <td>nan</td>\n",
              "    </tr>\n",
              "    <tr>\n",
              "      <th>2</th>\n",
              "      <td>-9.8</td>\n",
              "      <td>nan</td>\n",
              "    </tr>\n",
              "    <tr>\n",
              "      <th>3</th>\n",
              "      <td>-9.7</td>\n",
              "      <td>nan</td>\n",
              "    </tr>\n",
              "    <tr>\n",
              "      <th>4</th>\n",
              "      <td>-9.6</td>\n",
              "      <td>nan</td>\n",
              "    </tr>\n",
              "    <tr>\n",
              "      <th>...</th>\n",
              "      <td>...</td>\n",
              "      <td>...</td>\n",
              "    </tr>\n",
              "    <tr>\n",
              "      <th>205</th>\n",
              "      <td>10.5</td>\n",
              "      <td>2.01146923159099</td>\n",
              "    </tr>\n",
              "    <tr>\n",
              "      <th>206</th>\n",
              "      <td>10.6</td>\n",
              "      <td>1.98310185157249</td>\n",
              "    </tr>\n",
              "    <tr>\n",
              "      <th>207</th>\n",
              "      <td>10.7</td>\n",
              "      <td>1.96389125902724</td>\n",
              "    </tr>\n",
              "    <tr>\n",
              "      <th>208</th>\n",
              "      <td>10.8</td>\n",
              "      <td>1.95417657739705</td>\n",
              "    </tr>\n",
              "    <tr>\n",
              "      <th>209</th>\n",
              "      <td>10.9</td>\n",
              "      <td>1.95420140882569</td>\n",
              "    </tr>\n",
              "  </tbody>\n",
              "</table>\n",
              "<p>210 rows × 2 columns</p>\n",
              "</div>"
            ],
            "text/plain": [
              "        x                 y\n",
              "0   -10.0               nan\n",
              "1    -9.9               nan\n",
              "2    -9.8               nan\n",
              "3    -9.7               nan\n",
              "4    -9.6               nan\n",
              "..    ...               ...\n",
              "205  10.5  2.01146923159099\n",
              "206  10.6  1.98310185157249\n",
              "207  10.7  1.96389125902724\n",
              "208  10.8  1.95417657739705\n",
              "209  10.9  1.95420140882569\n",
              "\n",
              "[210 rows x 2 columns]"
            ]
          },
          "metadata": {
            "tags": []
          },
          "execution_count": 51
        }
      ]
    },
    {
      "cell_type": "code",
      "metadata": {
        "id": "8mbFxxwvIXEu",
        "colab_type": "code",
        "colab": {
          "base_uri": "https://localhost:8080/",
          "height": 407
        },
        "outputId": "edf9358a-eb5c-4200-807d-beed49c78509"
      },
      "source": [
        "df.dropna(subset=['y'])"
      ],
      "execution_count": null,
      "outputs": [
        {
          "output_type": "execute_result",
          "data": {
            "text/html": [
              "<div>\n",
              "<style scoped>\n",
              "    .dataframe tbody tr th:only-of-type {\n",
              "        vertical-align: middle;\n",
              "    }\n",
              "\n",
              "    .dataframe tbody tr th {\n",
              "        vertical-align: top;\n",
              "    }\n",
              "\n",
              "    .dataframe thead th {\n",
              "        text-align: right;\n",
              "    }\n",
              "</style>\n",
              "<table border=\"1\" class=\"dataframe\">\n",
              "  <thead>\n",
              "    <tr style=\"text-align: right;\">\n",
              "      <th></th>\n",
              "      <th>x</th>\n",
              "      <th>y</th>\n",
              "    </tr>\n",
              "  </thead>\n",
              "  <tbody>\n",
              "    <tr>\n",
              "      <th>0</th>\n",
              "      <td>-10.0</td>\n",
              "      <td>nan</td>\n",
              "    </tr>\n",
              "    <tr>\n",
              "      <th>1</th>\n",
              "      <td>-9.9</td>\n",
              "      <td>nan</td>\n",
              "    </tr>\n",
              "    <tr>\n",
              "      <th>2</th>\n",
              "      <td>-9.8</td>\n",
              "      <td>nan</td>\n",
              "    </tr>\n",
              "    <tr>\n",
              "      <th>3</th>\n",
              "      <td>-9.7</td>\n",
              "      <td>nan</td>\n",
              "    </tr>\n",
              "    <tr>\n",
              "      <th>4</th>\n",
              "      <td>-9.6</td>\n",
              "      <td>nan</td>\n",
              "    </tr>\n",
              "    <tr>\n",
              "      <th>...</th>\n",
              "      <td>...</td>\n",
              "      <td>...</td>\n",
              "    </tr>\n",
              "    <tr>\n",
              "      <th>205</th>\n",
              "      <td>10.5</td>\n",
              "      <td>2.01146923159099</td>\n",
              "    </tr>\n",
              "    <tr>\n",
              "      <th>206</th>\n",
              "      <td>10.6</td>\n",
              "      <td>1.98310185157249</td>\n",
              "    </tr>\n",
              "    <tr>\n",
              "      <th>207</th>\n",
              "      <td>10.7</td>\n",
              "      <td>1.96389125902724</td>\n",
              "    </tr>\n",
              "    <tr>\n",
              "      <th>208</th>\n",
              "      <td>10.8</td>\n",
              "      <td>1.95417657739705</td>\n",
              "    </tr>\n",
              "    <tr>\n",
              "      <th>209</th>\n",
              "      <td>10.9</td>\n",
              "      <td>1.95420140882569</td>\n",
              "    </tr>\n",
              "  </tbody>\n",
              "</table>\n",
              "<p>210 rows × 2 columns</p>\n",
              "</div>"
            ],
            "text/plain": [
              "        x                 y\n",
              "0   -10.0               nan\n",
              "1    -9.9               nan\n",
              "2    -9.8               nan\n",
              "3    -9.7               nan\n",
              "4    -9.6               nan\n",
              "..    ...               ...\n",
              "205  10.5  2.01146923159099\n",
              "206  10.6  1.98310185157249\n",
              "207  10.7  1.96389125902724\n",
              "208  10.8  1.95417657739705\n",
              "209  10.9  1.95420140882569\n",
              "\n",
              "[210 rows x 2 columns]"
            ]
          },
          "metadata": {
            "tags": []
          },
          "execution_count": 56
        }
      ]
    },
    {
      "cell_type": "code",
      "metadata": {
        "id": "MwI5o_eiIYSE",
        "colab_type": "code",
        "colab": {
          "base_uri": "https://localhost:8080/",
          "height": 225
        },
        "outputId": "80ac28dd-a67f-4f96-a0ab-d7608d8556d2"
      },
      "source": [
        "df['y'].isna()"
      ],
      "execution_count": null,
      "outputs": [
        {
          "output_type": "execute_result",
          "data": {
            "text/plain": [
              "0      False\n",
              "1      False\n",
              "2      False\n",
              "3      False\n",
              "4      False\n",
              "       ...  \n",
              "205    False\n",
              "206    False\n",
              "207    False\n",
              "208    False\n",
              "209    False\n",
              "Name: y, Length: 210, dtype: bool"
            ]
          },
          "metadata": {
            "tags": []
          },
          "execution_count": 58
        }
      ]
    },
    {
      "cell_type": "markdown",
      "metadata": {
        "id": "hwlCBN1xns_O",
        "colab_type": "text"
      },
      "source": [
        "### Exercise 2"
      ]
    },
    {
      "cell_type": "markdown",
      "metadata": {
        "id": "nnCyAoHZIhQg",
        "colab_type": "text"
      },
      "source": [
        "[**Error propagation**] The circumference of the equator of a sphere is measured as 10 cm with a possible error of 0.4 cm. This measurement is used to calculate the radius. The radius is then used to calculate the surface area and volume of the sphere. Estimate the percentage errors in the calculated values of\n",
        "\n",
        " `a.` the radius. `b.` the surface area. `c.` the volume."
      ]
    },
    {
      "cell_type": "markdown",
      "metadata": {
        "id": "ST6oWdF-COkE",
        "colab_type": "text"
      },
      "source": [
        "Assumptions:\n",
        "\n",
        "2pir = 10 cm +/- 0.4 \n",
        "\n",
        "r = C/2pi = 0.5 * C/pi\n",
        "$$\n",
        "\\\\ \\Delta r - \\text {measurement error in r}\n",
        "\\\\ \\Delta C - \\text{ measurement error in C}\n",
        "\\\\ \\Delta r = dr/dC * \\Delta C\n",
        "\\\\ \\Delta r = 1/2pi * \\Delta C\n",
        "\\\\ \\Delta r = 1/2pi * 0.4 = \\frac{0.2}{\\pi}\n",
        "\\\\ r = 10/(2pi) = 5/\\pi\n",
        "\\\\ absoluteerror = \\frac{0.2}{\\pi}\n",
        "\\\\ relativeerror(fractionalerror) = \\frac{\\Delta r}{r}\n",
        "\\\\ percentageerror = \\frac{\\Delta r}{r} * 100 \n",
        "\\\\ = \\frac{0.2}{\\pi} * \\frac{\\pi}{5} * 100 = \\frac{0.2}{5} * \\\\ 100= 0.04 * 100 = 4 \\%\n",
        "$$\n",
        "\n",
        "\n",
        "\n",
        "\n"
      ]
    },
    {
      "cell_type": "markdown",
      "metadata": {
        "id": "CYXDjIn9GknP",
        "colab_type": "text"
      },
      "source": [
        "$$\n",
        "A = 4\\pi r^2\n",
        "\\\\ \\Delta A - \\text {measurement error of A}\n",
        "\\\\ \\Delta r - \\text {measurement error of r}\n",
        "\\\\ \\Delta A = \\frac{dA}{dr} * \\Delta r\n",
        "\\\\ \\Delta A = 8\\pi r * \\Delta r\n",
        "\\\\ \\frac{\\Delta A}{A} = \\frac{8\\pi r * \\Delta r}{A}\n",
        "\\\\ \\frac{\\Delta A}{A} = \\frac{8\\pi r * \\Delta r}{4\\pi r^2}\n",
        "\\\\ \\frac{\\Delta A}{A} = \\frac{2 * \\Delta r}{r}\n",
        "$$\n",
        "\n",
        "we dont need to know exact formula of area of sphere as long as we know how its related to r in terms of power.  if its to the second power than it will be twice as relative error. if the variable is proportional to the radius with power of 3 then relative error of the varable is 3 times the relative error of the radius.\n",
        "\n",
        "\n",
        "\n"
      ]
    },
    {
      "cell_type": "markdown",
      "metadata": {
        "id": "asJPhZ1TL-ix",
        "colab_type": "text"
      },
      "source": [
        "$$\n",
        "volume = 4/3 \\pi r^3\n",
        "\\\\ \\Delta v - \\text{measurement error in v}\n",
        "\\\\ \\Delta r - \\text{measurement error in r}\n",
        "\\\\ \\Delta v = \\frac{dv}{dr} * \\Delta r\n",
        "\\\\ \\frac{dv}{dr} = 4\\pi r^2\n",
        "\\\\ \\Delta v = 4\\pi r^2* \\frac{0.2}{\\pi}\n",
        "\\\\ = 4r^2*0.2\n",
        "\\\\ = 4 * (5/𝜋)^2 * 0.2 \n",
        "\\\\ relativeerror = \\frac{4\\pi r^2 * \\Delta r}{4/3 \\pi r^3}\n",
        "\\\\ = \\frac{4\\Delta r}{4/3r}\n",
        "\\\\ = \\frac{3\\Delta r}{r}\n",
        "\\\\ = 3 * relative error of radius (4\\%)\n",
        "\\\\ relativeerrorofthevolume = 12 pct\n",
        "$$"
      ]
    },
    {
      "cell_type": "markdown",
      "metadata": {
        "id": "uM4bHgCO8D6P",
        "colab_type": "text"
      },
      "source": [
        "7. A customer has asked you to design an open-top rectangular stainless steel vat. It is to have a square base and a volume of 1 m³, to be welded from 6-mm-thick plate, and to weigh no more than necessary. What dimensions do you recommend?"
      ]
    },
    {
      "cell_type": "markdown",
      "metadata": {
        "id": "8eivYjGo8D20",
        "colab_type": "text"
      },
      "source": [
        "$$\n",
        "\\\\ V = a^2 * h \n",
        "\\\\ V = 1 m^3\n",
        "\\\\ a^2 * h  = 1\n",
        "\\\\ A = a^2 + 4 * a*h (minimize) \n",
        "\\\\ h = 1/a^2\n",
        "\\\\ A = a^2 + 4 * a* 1/a^2\n",
        "\\\\ = a^2 + \\frac{4a}{a^2}\n",
        "\\\\ = a^2 + \\frac{4}{a}\n",
        "\\\\ \\text {We want to find smallest Area(A) that satisfies V=1, we know that local extremum of A exist where dA is equal to 0, so lets solve for dA\\da = 0}\n",
        "\\\\ Let \\frac{dA}{da} = 0\n",
        "\\\\  \\frac{dA}{da} = 2a + (4 * a^{-1}) = 2a + (-1 * 4 * a^-2) =2a + \\frac{-4}{a^2}  = 2a - \\frac{4}{a^2} \n",
        "\\\\ 2a - \\frac{4}{a^2}  = 0\n",
        "\\\\ 2a = \\frac{4}{a^2} \\*a^2\n",
        "\\\\ 2a^3 = 4\n",
        "\\\\ a^3 = 2\n",
        "\\\\ a = \\sqrt[3]{2}\n",
        "$$"
      ]
    },
    {
      "cell_type": "markdown",
      "metadata": {
        "id": "sD5PLy2UXcWC",
        "colab_type": "text"
      },
      "source": [
        "We know that $\\sqrt[3]{2}$ is a local extremum but we dont know where its minimum or maximum. so we need to check test second derivative, if its >0 then its minimum.  Nomrally we check also points at the end of domain like a=0, but here a=0 does not make sense because volume would be 0. "
      ]
    },
    {
      "cell_type": "markdown",
      "metadata": {
        "id": "YBXIDFG6X5ox",
        "colab_type": "text"
      },
      "source": [
        "$$\n",
        "A'' = (2a - \\frac{4}{a^2})' \n",
        "\\\\ = 2 - (-2 * 4 * 1/a^3)\n",
        "\\\\ = 2 + \\frac{8}{a^3} \n",
        "\\\\ 2 + \\frac{8}{a^3}\n",
        "\\\\ 2 + \\frac{8}{2}\n",
        "\\\\ = 2 + 4 = 6 >0 \n",
        "\\\\ therefore $a = \\sqrt[3]{2}$ is minimum point\n",
        "$$"
      ]
    },
    {
      "cell_type": "markdown",
      "metadata": {
        "id": "LMU5gNW9ZcDG",
        "colab_type": "text"
      },
      "source": [
        "$$\n",
        "\\\\ h = 1/a^2\n",
        "\\\\ h = 1/\\sqrt[3](2)^2= \\frac{1}{ 2^{2/3}} m = \\frac{1}{\\sqrt[3]{4}}\n",
        "\\\\ a = \\sqrt[3]{2} m\n",
        "$$"
      ]
    },
    {
      "cell_type": "markdown",
      "metadata": {
        "id": "6PIE20DHMTi8",
        "colab_type": "text"
      },
      "source": [
        "the higher power the error propagtion gets bigger"
      ]
    },
    {
      "cell_type": "markdown",
      "metadata": {
        "id": "9PC5Xw4Sbw_M",
        "colab_type": "text"
      },
      "source": [
        "`9.` Expand sin𝘹 as a Taylor series about 𝘹 = 0. Hence, find the third-order approximation of sin(0.1)."
      ]
    },
    {
      "cell_type": "markdown",
      "metadata": {
        "id": "G8KSucIDbycL",
        "colab_type": "text"
      },
      "source": [
        "extension of linear aproximation, higher powers instead of justb linear powers (higher order powers)\n",
        "\n"
      ]
    },
    {
      "cell_type": "markdown",
      "metadata": {
        "id": "Yujgt3YYcG9c",
        "colab_type": "text"
      },
      "source": [
        "![image.png](data:image/png;base64,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)"
      ]
    },
    {
      "cell_type": "markdown",
      "metadata": {
        "id": "HxIPH2btcIyp",
        "colab_type": "text"
      },
      "source": [
        "$$\n",
        "\\\\ k =3\n",
        "\\\\ f(x) = sin x\n",
        "\\\\ f'(x) = cos x\n",
        "\\\\ f''(x) = - sin x\n",
        "\\\\ f'''(x) = - cos x\n",
        "\\\\ f^{(4)}(x) = sin x\n",
        "$$"
      ]
    },
    {
      "cell_type": "markdown",
      "metadata": {
        "id": "3SUNKzvcdbGD",
        "colab_type": "text"
      },
      "source": [
        "$$\n",
        "\\\\ sin x = sin 0 + cos 0 * (x - 0) +  \\frac{(- sin 0 * (x-0)^2)}{2!} + \\frac{(- \\\\ cos 0 * (x-0)^3)}{3!} + ...\n",
        "\\\\ sin x  =   x + \\frac{(- 1 * (x)^3)}{3!} + ...\n",
        "\\\\ sin (0.1) = 0.1 - 0.001 / 6 = 0.09983\n",
        "$$"
      ]
    },
    {
      "cell_type": "code",
      "metadata": {
        "id": "46T4vyu0fYvl",
        "colab_type": "code",
        "colab": {
          "base_uri": "https://localhost:8080/",
          "height": 35
        },
        "outputId": "16f03dd9-7ca5-49e4-869b-ff8160da4005"
      },
      "source": [
        "0.1 - 0.001 / 6"
      ],
      "execution_count": null,
      "outputs": [
        {
          "output_type": "execute_result",
          "data": {
            "text/plain": [
              "0.09983333333333334"
            ]
          },
          "metadata": {
            "tags": []
          },
          "execution_count": 2
        }
      ]
    },
    {
      "cell_type": "code",
      "metadata": {
        "id": "kzbjcqh_fmMn",
        "colab_type": "code",
        "colab": {
          "base_uri": "https://localhost:8080/",
          "height": 35
        },
        "outputId": "367dfc7c-6496-4c22-9059-68417295b07f"
      },
      "source": [
        "import math\n",
        "math.sin(0.1)"
      ],
      "execution_count": null,
      "outputs": [
        {
          "output_type": "execute_result",
          "data": {
            "text/plain": [
              "0.09983341664682815"
            ]
          },
          "metadata": {
            "tags": []
          },
          "execution_count": 4
        }
      ]
    },
    {
      "cell_type": "code",
      "metadata": {
        "id": "-lVILIOsf74g",
        "colab_type": "code",
        "colab": {}
      },
      "source": [
        "math.sin??"
      ],
      "execution_count": null,
      "outputs": []
    },
    {
      "cell_type": "code",
      "metadata": {
        "id": "ufio836cMZI2",
        "colab_type": "code",
        "colab": {}
      },
      "source": [
        "error_r = 2 cm\n",
        "\n",
        "error_pir2 = 4 cm\n",
        " "
      ],
      "execution_count": null,
      "outputs": []
    }
  ]
}